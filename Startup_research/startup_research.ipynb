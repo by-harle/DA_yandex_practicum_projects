{
 "cells": [
  {
   "cell_type": "markdown",
   "metadata": {
    "id": "4mJbK1knrJgz"
   },
   "source": [
    "# Проект: Исследование стартапов\n",
    "- Автор: Михайлов Станислав\n",
    "- Дата: 18.08.2025"
   ]
  },
  {
   "cell_type": "markdown",
   "metadata": {
    "toc": true
   },
   "source": [
    "<h1>Структура проекта<span class=\"tocSkip\"></span></h1>\n",
    "<div class=\"toc\"><ul class=\"toc-item\"><li><ul class=\"toc-item\"><li><span><a href=\"#Цели-и-задачи-проекта\" data-toc-modified-id=\"Цели-и-задачи-проекта-0.1\"><span class=\"toc-item-num\">0.1&nbsp;&nbsp;</span>Цели и задачи проекта</a></span></li><li><span><a href=\"#Описание-данных\" data-toc-modified-id=\"Описание-данных-0.2\"><span class=\"toc-item-num\">0.2&nbsp;&nbsp;</span>Описание данных</a></span></li></ul></li><li><span><a href=\"#Загрузка-данных-и-знакомство-с-ними\" data-toc-modified-id=\"Загрузка-данных-и-знакомство-с-ними-1\"><span class=\"toc-item-num\">1&nbsp;&nbsp;</span>Загрузка данных и знакомство с ними</a></span><ul class=\"toc-item\"><li><span><a href=\"#Знакомство-с-данными-датасета-acquisition.csv\" data-toc-modified-id=\"Знакомство-с-данными-датасета-acquisition.csv-1.1\"><span class=\"toc-item-num\">1.1&nbsp;&nbsp;</span>Знакомство с данными датасета acquisition.csv</a></span></li><li><span><a href=\"#Знакомство-с-данными-датасета-company_and_rounds.csv.\" data-toc-modified-id=\"Знакомство-с-данными-датасета-company_and_rounds.csv.-1.2\"><span class=\"toc-item-num\">1.2&nbsp;&nbsp;</span>Знакомство с данными датасета company_and_rounds.csv.</a></span></li><li><span><a href=\"#Знакомство-с-данными-датасета-education.csv.\" data-toc-modified-id=\"Знакомство-с-данными-датасета-education.csv.-1.3\"><span class=\"toc-item-num\">1.3&nbsp;&nbsp;</span>Знакомство с данными датасета education.csv.</a></span></li><li><span><a href=\"#Знакомство-с-данными-датасета-people.csv.\" data-toc-modified-id=\"Знакомство-с-данными-датасета-people.csv.-1.4\"><span class=\"toc-item-num\">1.4&nbsp;&nbsp;</span>Знакомство с данными датасета people.csv.</a></span></li><li><span><a href=\"#Знакомство-с-данными-датасета-degrees.csv.\" data-toc-modified-id=\"Знакомство-с-данными-датасета-degrees.csv.-1.5\"><span class=\"toc-item-num\">1.5&nbsp;&nbsp;</span>Знакомство с данными датасета degrees.csv.</a></span></li><li><span><a href=\"#Промежуточный-вывод\" data-toc-modified-id=\"Промежуточный-вывод-1.6\"><span class=\"toc-item-num\">1.6&nbsp;&nbsp;</span>Промежуточный вывод</a></span></li></ul></li><li><span><a href=\"#Предобработка-данных\" data-toc-modified-id=\"Предобработка-данных-2\"><span class=\"toc-item-num\">2&nbsp;&nbsp;</span>Предобработка данных</a></span><ul class=\"toc-item\"><li><span><a href=\"#Корректировка-названий-столбцов-и-исследование-различий-между-company--ID-и-company--id-датасета-df_company_and_rounds\" data-toc-modified-id=\"Корректировка-названий-столбцов-и-исследование-различий-между-company--ID-и-company--id-датасета-df_company_and_rounds-2.1\"><span class=\"toc-item-num\">2.1&nbsp;&nbsp;</span>Корректировка названий столбцов и исследование различий между <code>company  ID</code> и <code>company  id</code> датасета df_company_and_rounds</a></span></li><li><span><a href=\"#Анализ-и-обработка-пропусков\" data-toc-modified-id=\"Анализ-и-обработка-пропусков-2.2\"><span class=\"toc-item-num\">2.2&nbsp;&nbsp;</span>Анализ и обработка пропусков</a></span><ul class=\"toc-item\"><li><span><a href=\"#Изучение-пропусков-в-acquisition.csv\" data-toc-modified-id=\"Изучение-пропусков-в-acquisition.csv-2.2.1\"><span class=\"toc-item-num\">2.2.1&nbsp;&nbsp;</span>Изучение пропусков в acquisition.csv</a></span></li><li><span><a href=\"#Изучение-пропусков-в-company_and_rounds.csv\" data-toc-modified-id=\"Изучение-пропусков-в-company_and_rounds.csv-2.2.2\"><span class=\"toc-item-num\">2.2.2&nbsp;&nbsp;</span>Изучение пропусков в company_and_rounds.csv</a></span></li><li><span><a href=\"#Изучение-пропусков-в-df_company\" data-toc-modified-id=\"Изучение-пропусков-в-df_company-2.2.3\"><span class=\"toc-item-num\">2.2.3&nbsp;&nbsp;</span>Изучение пропусков в df_company</a></span></li><li><span><a href=\"#Изучение-пропусков-в-df_rounds\" data-toc-modified-id=\"Изучение-пропусков-в-df_rounds-2.2.4\"><span class=\"toc-item-num\">2.2.4&nbsp;&nbsp;</span>Изучение пропусков в df_rounds</a></span></li><li><span><a href=\"#Изучение-пропусков-в-education.csv\" data-toc-modified-id=\"Изучение-пропусков-в-education.csv-2.2.5\"><span class=\"toc-item-num\">2.2.5&nbsp;&nbsp;</span>Изучение пропусков в education.csv</a></span></li><li><span><a href=\"#Изучение-пропусков-в-people.csv\" data-toc-modified-id=\"Изучение-пропусков-в-people.csv-2.2.6\"><span class=\"toc-item-num\">2.2.6&nbsp;&nbsp;</span>Изучение пропусков в people.csv</a></span></li><li><span><a href=\"#Изучение-пропусков-в-degrees.csv\" data-toc-modified-id=\"Изучение-пропусков-в-degrees.csv-2.2.7\"><span class=\"toc-item-num\">2.2.7&nbsp;&nbsp;</span>Изучение пропусков в degrees.csv</a></span></li><li><span><a href=\"#Промежуточный-вывод\" data-toc-modified-id=\"Промежуточный-вывод-2.2.8\"><span class=\"toc-item-num\">2.2.8&nbsp;&nbsp;</span>Промежуточный вывод</a></span></li></ul></li><li><span><a href=\"#Оптимизация-типов-данных\" data-toc-modified-id=\"Оптимизация-типов-данных-2.3\"><span class=\"toc-item-num\">2.3&nbsp;&nbsp;</span>Оптимизация типов данных</a></span><ul class=\"toc-item\"><li><span><a href=\"#Оптимизация-типов-данных-датасета-df_acquisition\" data-toc-modified-id=\"Оптимизация-типов-данных-датасета-df_acquisition-2.3.1\"><span class=\"toc-item-num\">2.3.1&nbsp;&nbsp;</span>Оптимизация типов данных датасета df_acquisition</a></span></li><li><span><a href=\"#Оптимизация-типов-данных-датасета-df_company\" data-toc-modified-id=\"Оптимизация-типов-данных-датасета-df_company-2.3.2\"><span class=\"toc-item-num\">2.3.2&nbsp;&nbsp;</span>Оптимизация типов данных датасета df_company</a></span></li><li><span><a href=\"#Оптимизация-типов-данных-датасета-df_rounds\" data-toc-modified-id=\"Оптимизация-типов-данных-датасета-df_rounds-2.3.3\"><span class=\"toc-item-num\">2.3.3&nbsp;&nbsp;</span>Оптимизация типов данных датасета df_rounds</a></span></li><li><span><a href=\"#Оптимизация-типов-данных-датасета-df_education\" data-toc-modified-id=\"Оптимизация-типов-данных-датасета-df_education-2.3.4\"><span class=\"toc-item-num\">2.3.4&nbsp;&nbsp;</span>Оптимизация типов данных датасета df_education</a></span></li><li><span><a href=\"#Оптимизация-типов-данных-датасета-df_people\" data-toc-modified-id=\"Оптимизация-типов-данных-датасета-df_people-2.3.5\"><span class=\"toc-item-num\">2.3.5&nbsp;&nbsp;</span>Оптимизация типов данных датасета df_people</a></span></li><li><span><a href=\"#Оптимизация-типов-данных-датасета-df_degrees\" data-toc-modified-id=\"Оптимизация-типов-данных-датасета-df_degrees-2.3.6\"><span class=\"toc-item-num\">2.3.6&nbsp;&nbsp;</span>Оптимизация типов данных датасета df_degrees</a></span></li><li><span><a href=\"#Предварительный-вывод\" data-toc-modified-id=\"Предварительный-вывод-2.3.7\"><span class=\"toc-item-num\">2.3.7&nbsp;&nbsp;</span>Предварительный вывод</a></span></li></ul></li><li><span><a href=\"#Обработка-явных-и-неявных-дубликатов\" data-toc-modified-id=\"Обработка-явных-и-неявных-дубликатов-2.4\"><span class=\"toc-item-num\">2.4&nbsp;&nbsp;</span>Обработка явных и неявных дубликатов</a></span><ul class=\"toc-item\"><li><span><a href=\"#Обработка-дубликатов-в-датасете-df_acquisition\" data-toc-modified-id=\"Обработка-дубликатов-в-датасете-df_acquisition-2.4.1\"><span class=\"toc-item-num\">2.4.1&nbsp;&nbsp;</span>Обработка дубликатов в датасете df_acquisition</a></span></li><li><span><a href=\"#Обработка-дубликатов-в-датасете-df_company\" data-toc-modified-id=\"Обработка-дубликатов-в-датасете-df_company-2.4.2\"><span class=\"toc-item-num\">2.4.2&nbsp;&nbsp;</span>Обработка дубликатов в датасете df_company</a></span></li><li><span><a href=\"#Обработка-дубликатов-в-датасете-df_rounds\" data-toc-modified-id=\"Обработка-дубликатов-в-датасете-df_rounds-2.4.3\"><span class=\"toc-item-num\">2.4.3&nbsp;&nbsp;</span>Обработка дубликатов в датасете df_rounds</a></span></li><li><span><a href=\"#Обработка-дубликатов-в-датасете-df_education\" data-toc-modified-id=\"Обработка-дубликатов-в-датасете-df_education-2.4.4\"><span class=\"toc-item-num\">2.4.4&nbsp;&nbsp;</span>Обработка дубликатов в датасете df_education</a></span></li><li><span><a href=\"#Обработка-дубликатов-в-датасете-df_people\" data-toc-modified-id=\"Обработка-дубликатов-в-датасете-df_people-2.4.5\"><span class=\"toc-item-num\">2.4.5&nbsp;&nbsp;</span>Обработка дубликатов в датасете df_people</a></span></li><li><span><a href=\"#Обработка-дубликатов-в-датасете-df_degrees\" data-toc-modified-id=\"Обработка-дубликатов-в-датасете-df_degrees-2.4.6\"><span class=\"toc-item-num\">2.4.6&nbsp;&nbsp;</span>Обработка дубликатов в датасете df_degrees</a></span></li><li><span><a href=\"#Предварительный-вывод\" data-toc-modified-id=\"Предварительный-вывод-2.4.7\"><span class=\"toc-item-num\">2.4.7&nbsp;&nbsp;</span>Предварительный вывод</a></span></li></ul></li></ul></li><li><span><a href=\"#Предварительное-исследование\" data-toc-modified-id=\"Предварительное-исследование-3\"><span class=\"toc-item-num\">3&nbsp;&nbsp;</span>Предварительное исследование</a></span><ul class=\"toc-item\"><li><span><a href=\"#Раунды-финансирования-по-годам\" data-toc-modified-id=\"Раунды-финансирования-по-годам-3.1\"><span class=\"toc-item-num\">3.1&nbsp;&nbsp;</span>Раунды финансирования по годам</a></span></li><li><span><a href=\"#Люди-и-их-образование\" data-toc-modified-id=\"Люди-и-их-образование-3.2\"><span class=\"toc-item-num\">3.2&nbsp;&nbsp;</span>Люди и их образование</a></span></li><li><span><a href=\"#Объединять-или-не-объединять-—-вот-в-чём-вопрос\" data-toc-modified-id=\"Объединять-или-не-объединять-—-вот-в-чём-вопрос-3.3\"><span class=\"toc-item-num\">3.3&nbsp;&nbsp;</span>Объединять или не объединять — вот в чём вопрос</a></span></li><li><span><a href=\"#Проблемный-датасет-и-причина-возникновения-пропусков\" data-toc-modified-id=\"Проблемный-датасет-и-причина-возникновения-пропусков-3.4\"><span class=\"toc-item-num\">3.4&nbsp;&nbsp;</span>Проблемный датасет и причина возникновения пропусков</a></span></li></ul></li><li><span><a href=\"#Исследовательский-анализ-объединённых-таблиц\" data-toc-modified-id=\"Исследовательский-анализ-объединённых-таблиц-4\"><span class=\"toc-item-num\">4&nbsp;&nbsp;</span>Исследовательский анализ объединённых таблиц</a></span><ul class=\"toc-item\"><li><span><a href=\"#Объединение-данных\" data-toc-modified-id=\"Объединение-данных-4.1\"><span class=\"toc-item-num\">4.1&nbsp;&nbsp;</span>Объединение данных</a></span></li><li><span><a href=\"#Анализ-выбросов\" data-toc-modified-id=\"Анализ-выбросов-4.2\"><span class=\"toc-item-num\">4.2&nbsp;&nbsp;</span>Анализ выбросов</a></span></li><li><span><a href=\"#Куплены-забесплатно?\" data-toc-modified-id=\"Куплены-забесплатно?-4.3\"><span class=\"toc-item-num\">4.3&nbsp;&nbsp;</span>Куплены забесплатно?</a></span></li><li><span><a href=\"#Цены-стартапов-по-категориям\" data-toc-modified-id=\"Цены-стартапов-по-категориям-4.4\"><span class=\"toc-item-num\">4.4&nbsp;&nbsp;</span>Цены стартапов по категориям</a></span></li><li><span><a href=\"#Сколько-раундов-продержится-стартап-перед-покупкой\" data-toc-modified-id=\"Сколько-раундов-продержится-стартап-перед-покупкой-4.5\"><span class=\"toc-item-num\">4.5&nbsp;&nbsp;</span>Сколько раундов продержится стартап перед покупкой</a></span></li></ul></li><li><span><a href=\"#Итоговый-вывод-и-рекомендации\" data-toc-modified-id=\"Итоговый-вывод-и-рекомендации-5\"><span class=\"toc-item-num\">5&nbsp;&nbsp;</span>Итоговый вывод и рекомендации</a></span></li></ul></div>"
   ]
  },
  {
   "cell_type": "markdown",
   "metadata": {},
   "source": [
    "### Цели и задачи проекта\n",
    "\n",
    "Целью данного проекта является исследование стартапов на исторических данных, для разработки модели бизнеса по покупке наиболее перспективных компаний. В ходе работы необходимо будет ответить на вопросы заказчика и провести исследование признаков стартапов, которые будут указывать на повышенную вероятность успешной сделки."
   ]
  },
  {
   "cell_type": "markdown",
   "metadata": {},
   "source": [
    "### Описание данных\n",
    "\n",
    "\n",
    "В проекте будут использованы данные датасетов `acquisition.csv`, `company_and_rounds.csv`, `education.csv`, `people.csv` и `degrees.csv`\n",
    "\n",
    "**Датасет `acquisition` содержит информацию о покупках одними компаниями других компаний:**\n",
    "\n",
    "- `id` — идентификатор покупки  \n",
    "- `acquiring_company_id` — идентификатор покупающей компании  \n",
    "- `acquired_company_id` — идентификатор покупаемой компании  \n",
    "- `term_code` — варианты расчёта  \n",
    "- `price_amount` — сумма сделки  \n",
    "- `acquired_at` — дата сделки  <br><br>\n",
    "\n",
    "**Таблица `company_and_rounds` содержит информацию о компаниях и раундах финансирования:**\n",
    "\n",
    "- `company ID` — идентификатор компании  \n",
    "- `name` — название компании  \n",
    "- `category code` — категория области деятельности компании  \n",
    "- `status` — статус компании  \n",
    "- `founded at` — дата инвестирования\n",
    "- `closed at` — дата закрытия компании  \n",
    "- `domain` — официальный сайт компании  \n",
    "- `network username` — ник компании в сети  \n",
    "- `country code` — код страны компании  \n",
    "- `investment rounds` — число инвестиционных раундов  \n",
    "- `funding rounds` — число раундов финансирования  \n",
    "- `funding total` — сумма финансирования  \n",
    "- `milestones` — вехи финансирования  \n",
    "- `funding round id` — идентификатор этапа финансирования  \n",
    "- `company id` — идентификатор компании  \n",
    "- `funded at` — дата финансирования  \n",
    "- `funding round type` — тип финансирования  \n",
    "- `raised amount` — сумма финансирования  \n",
    "- `pre money valuation` — предварительная денежная оценка  \n",
    "- `participants` — число участников  \n",
    "- `is first round` — является ли раунд первым  \n",
    "- `is last round` — является раунд последним  <br><br>\n",
    "\n",
    "**Таблица `education` содержит информацию об образовании сотрудника:**\n",
    "\n",
    "- `id` — идентификатор записи об образовании  \n",
    "- `person_id` — идентификатор работника  \n",
    "- `instituition` — название учебного заведения  \n",
    "- `graduated_at` — дата получения образования  <br><br>\n",
    "\n",
    "**Таблица `people` содержит информацию о сотрудниках:**\n",
    "\n",
    "- `id` — идентификатор сотрудника  \n",
    "- `first_name` — имя сотрудника  \n",
    "- `last_name` — фамилия сотрудника  \n",
    "- `company_id` — идентификатор компании  \n",
    "- `network_username` — ник в социальных сетях  <br><br>\n",
    "\n",
    "**Таблица `degrees` содержит информацию о типе образования сотрудника:**\n",
    "\n",
    "- `id` — идентификатор записи  \n",
    "- `object_id` — идентификатор сотрудника  \n",
    "- `degree_type` — тип образования  \n",
    "- `subject` — специальность  "
   ]
  },
  {
   "cell_type": "markdown",
   "metadata": {
    "id": "xqr6uttCrJg0"
   },
   "source": [
    "<a id=\"id1\"></a>\n",
    "##  Загрузка данных и знакомство с ними\n",
    "\n",
    "В этом разделе подключим необходимые библиотеки, загрузим датасеты, используемые в анализе. Изучим их структуру и содержание, так же проверим корректность типов данных."
   ]
  },
  {
   "cell_type": "markdown",
   "metadata": {},
   "source": [
    "Перед началом работы загрузим необходимые библиотеки."
   ]
  },
  {
   "cell_type": "code",
   "execution_count": 1,
   "metadata": {},
   "outputs": [],
   "source": [
    "# Устанавливаем библиотеку Pandas\n",
    "try:\n",
    "    import pandas as pd\n",
    "except ModuleNotFoundError:\n",
    "    !pip install pandas\n",
    "    import pandas as pd\n",
    "\n",
    "# Устанавливаем библиотеку matplotlib\n",
    "try:\n",
    "    import matplotlib.pyplot as plt\n",
    "except ModuleNotFoundError:\n",
    "    !pip install matplotlib\n",
    "    import matplotlib.pyplot as plt\n",
    "\n",
    "# Устанавливаем библиотеку matplotlib\n",
    "try:\n",
    "    from matplotlib_venn import venn2, venn3\n",
    "except ModuleNotFoundError:\n",
    "    !pip install matplotlib-venn\n",
    "    from matplotlib_venn import venn2 \n",
    "\n",
    "# Устанавливаем библиотеку seaborn\n",
    "try:\n",
    "    import seaborn as sns\n",
    "except ModuleNotFoundError:\n",
    "    !pip install seaborn\n",
    "    import seaborn as sns\n",
    "    \n",
    "# Из библиотеки phik подгружаем метод phik_matrix\n",
    "try:\n",
    "    from phik import phik_matrix\n",
    "except ModuleNotFoundError:\n",
    "    !pip install phik\n",
    "    from phik import phik_matrix\n"
   ]
  },
  {
   "cell_type": "code",
   "execution_count": 2,
   "metadata": {},
   "outputs": [],
   "source": [
    "# Изменим режим отображения столбцов в датафрейме,\n",
    "# чтобы все столбцы отображались при просмотре датафрейма\n",
    "pd.set_option('display.max_columns', None)"
   ]
  },
  {
   "cell_type": "markdown",
   "metadata": {
    "id": "2Tm4Pk__Felf"
   },
   "source": [
    "Загрузим данные датасетов `acquisition.csv`, `company_and_rounds.csv`, `education.csv`, `people.csv` и `degrees.csv`."
   ]
  },
  {
   "cell_type": "code",
   "execution_count": 3,
   "metadata": {},
   "outputs": [],
   "source": [
    "# Вложим часть пути к файлу в переменную\n",
    "PATH = \"https://code.s3.yandex.net/datasets/\"\n",
    "\n",
    "# Загружаем датасет acquisition.csv\n",
    "try:\n",
    "    df_acquisition = pd.read_csv('datasets/acquisition.csv')\n",
    "except FileNotFoundError:\n",
    "    df_acquisition = pd.read_csv(PATH + 'acquisition.csv')\n",
    "\n",
    "# Загружаем датасет company_and_rounds.csv\n",
    "try:\n",
    "    df_company_and_rounds = pd.read_csv('datasets/company_and_rounds.csv')\n",
    "except FileNotFoundError:\n",
    "    df_company_and_rounds = pd.read_csv(PATH + 'company_and_rounds.csv')  \n",
    "\n",
    "# Загружаем датасет education.csv\n",
    "try:\n",
    "    df_education = pd.read_csv('datasets/education.csv')\n",
    "except FileNotFoundError:\n",
    "    df_education = pd.read_csv(PATH + 'education.csv')\n",
    "\n",
    "# Загружаем датасет people.csv\n",
    "try:\n",
    "    df_people = pd.read_csv('datasets/people.csv')\n",
    "except FileNotFoundError:\n",
    "    df_people = pd.read_csv(PATH + 'people.csv')\n",
    "\n",
    "# Загружаем датасет degrees.csv\n",
    "try:\n",
    "    df_degrees = pd.read_csv('datasets/degrees.csv')\n",
    "except FileNotFoundError:\n",
    "    df_degrees = pd.read_csv(PATH + 'degrees.csv') "
   ]
  },
  {
   "cell_type": "markdown",
   "metadata": {},
   "source": [
    "<a id=\"id2\"></a>\n",
    "### Знакомство с данными датасета acquisition.csv\n",
    "Познакомимся с данными датасета acquisition.csv. Выведем первые 5 строк и основную информацию о датафрейме."
   ]
  },
  {
   "cell_type": "code",
   "execution_count": 4,
   "metadata": {},
   "outputs": [
    {
     "data": {
      "text/html": [
       "<div>\n",
       "<style scoped>\n",
       "    .dataframe tbody tr th:only-of-type {\n",
       "        vertical-align: middle;\n",
       "    }\n",
       "\n",
       "    .dataframe tbody tr th {\n",
       "        vertical-align: top;\n",
       "    }\n",
       "\n",
       "    .dataframe thead th {\n",
       "        text-align: right;\n",
       "    }\n",
       "</style>\n",
       "<table border=\"1\" class=\"dataframe\">\n",
       "  <thead>\n",
       "    <tr style=\"text-align: right;\">\n",
       "      <th></th>\n",
       "      <th>id</th>\n",
       "      <th>acquiring_company_id</th>\n",
       "      <th>acquired_company_id</th>\n",
       "      <th>term_code</th>\n",
       "      <th>price_amount</th>\n",
       "      <th>acquired_at</th>\n",
       "    </tr>\n",
       "  </thead>\n",
       "  <tbody>\n",
       "    <tr>\n",
       "      <th>0</th>\n",
       "      <td>1</td>\n",
       "      <td>11</td>\n",
       "      <td>10</td>\n",
       "      <td>NaN</td>\n",
       "      <td>20000000</td>\n",
       "      <td>2007-05-30</td>\n",
       "    </tr>\n",
       "    <tr>\n",
       "      <th>1</th>\n",
       "      <td>7</td>\n",
       "      <td>59</td>\n",
       "      <td>72</td>\n",
       "      <td>cash</td>\n",
       "      <td>60000000</td>\n",
       "      <td>2007-07-01</td>\n",
       "    </tr>\n",
       "    <tr>\n",
       "      <th>2</th>\n",
       "      <td>8</td>\n",
       "      <td>24</td>\n",
       "      <td>132</td>\n",
       "      <td>cash</td>\n",
       "      <td>280000000</td>\n",
       "      <td>2007-05-01</td>\n",
       "    </tr>\n",
       "    <tr>\n",
       "      <th>3</th>\n",
       "      <td>9</td>\n",
       "      <td>59</td>\n",
       "      <td>155</td>\n",
       "      <td>cash</td>\n",
       "      <td>100000000</td>\n",
       "      <td>2007-06-01</td>\n",
       "    </tr>\n",
       "    <tr>\n",
       "      <th>4</th>\n",
       "      <td>10</td>\n",
       "      <td>212</td>\n",
       "      <td>215</td>\n",
       "      <td>cash</td>\n",
       "      <td>25000000</td>\n",
       "      <td>2007-07-01</td>\n",
       "    </tr>\n",
       "  </tbody>\n",
       "</table>\n",
       "</div>"
      ],
      "text/plain": [
       "   id  acquiring_company_id  acquired_company_id term_code  price_amount  \\\n",
       "0   1                    11                   10       NaN      20000000   \n",
       "1   7                    59                   72      cash      60000000   \n",
       "2   8                    24                  132      cash     280000000   \n",
       "3   9                    59                  155      cash     100000000   \n",
       "4  10                   212                  215      cash      25000000   \n",
       "\n",
       "  acquired_at  \n",
       "0  2007-05-30  \n",
       "1  2007-07-01  \n",
       "2  2007-05-01  \n",
       "3  2007-06-01  \n",
       "4  2007-07-01  "
      ]
     },
     "execution_count": 4,
     "metadata": {},
     "output_type": "execute_result"
    }
   ],
   "source": [
    "df_acquisition.head()"
   ]
  },
  {
   "cell_type": "code",
   "execution_count": 5,
   "metadata": {},
   "outputs": [
    {
     "name": "stdout",
     "output_type": "stream",
     "text": [
      "<class 'pandas.core.frame.DataFrame'>\n",
      "RangeIndex: 9407 entries, 0 to 9406\n",
      "Data columns (total 6 columns):\n",
      " #   Column                Non-Null Count  Dtype \n",
      "---  ------                --------------  ----- \n",
      " 0   id                    9407 non-null   int64 \n",
      " 1   acquiring_company_id  9407 non-null   int64 \n",
      " 2   acquired_company_id   9407 non-null   int64 \n",
      " 3   term_code             1831 non-null   object\n",
      " 4   price_amount          9407 non-null   int64 \n",
      " 5   acquired_at           9378 non-null   object\n",
      "dtypes: int64(4), object(2)\n",
      "memory usage: 441.1+ KB\n"
     ]
    }
   ],
   "source": [
    "df_acquisition.info()"
   ]
  },
  {
   "cell_type": "markdown",
   "metadata": {},
   "source": [
    "Датасет `acquisition.csv` содержит 6 столбцов и 9407 строк, в котором представлена информация о покупках одними компаниями других компаний.\n",
    "\n",
    "**После первичного анализа можно сделать следующие выводы:**\n",
    "-  Наименование столбцов не нуждается в корректировке.\n",
    "-  Значения в столбцах соответствуют своему описанию.\n",
    "-  Наблюдаются пропуски в столбцах `term_code` и `acquired_at`. <br><br>\n",
    "\n",
    "**Типы данных и их корректность:**\n",
    "- `acquired_at (object)`: Содержит дату сделки, поэтому его необходимо привести к формату `datetime64`.\n",
    "- `price_amount (int64)`: Денежный столбец, содержит в себе сумму сделки. Необходимо будет привести в типу `float64`.\n",
    "- Для столбцов `acquiring_company_id` и `acquired_company_id` необходимо провести оптимизацию разрядности."
   ]
  },
  {
   "cell_type": "markdown",
   "metadata": {
    "id": "oNqJ2qpRFebv"
   },
   "source": [
    "<a id=\"id3\"></a>\n",
    "### Знакомство с данными датасета company_and_rounds.csv.\n",
    "Познакомимся с данными датасета company_and_rounds.csv. Выведем первые и последние строки датафрейма и основную информацию о нём."
   ]
  },
  {
   "cell_type": "code",
   "execution_count": 6,
   "metadata": {},
   "outputs": [
    {
     "data": {
      "text/html": [
       "<div>\n",
       "<style scoped>\n",
       "    .dataframe tbody tr th:only-of-type {\n",
       "        vertical-align: middle;\n",
       "    }\n",
       "\n",
       "    .dataframe tbody tr th {\n",
       "        vertical-align: top;\n",
       "    }\n",
       "\n",
       "    .dataframe thead th {\n",
       "        text-align: right;\n",
       "    }\n",
       "</style>\n",
       "<table border=\"1\" class=\"dataframe\">\n",
       "  <thead>\n",
       "    <tr style=\"text-align: right;\">\n",
       "      <th></th>\n",
       "      <th>company  ID</th>\n",
       "      <th>name</th>\n",
       "      <th>category  code</th>\n",
       "      <th>status</th>\n",
       "      <th>founded  at</th>\n",
       "      <th>closed  at</th>\n",
       "      <th>domain</th>\n",
       "      <th>network  username</th>\n",
       "      <th>country  code</th>\n",
       "      <th>investment  rounds</th>\n",
       "      <th>funding  rounds</th>\n",
       "      <th>funding  total</th>\n",
       "      <th>milestones</th>\n",
       "      <th>funding  round  id</th>\n",
       "      <th>company  id</th>\n",
       "      <th>funded  at</th>\n",
       "      <th>funding  round  type</th>\n",
       "      <th>raised  amount</th>\n",
       "      <th>pre  money  valuation</th>\n",
       "      <th>participants</th>\n",
       "      <th>is  first  round</th>\n",
       "      <th>is  last  round</th>\n",
       "    </tr>\n",
       "  </thead>\n",
       "  <tbody>\n",
       "    <tr>\n",
       "      <th>0</th>\n",
       "      <td>1.0</td>\n",
       "      <td>Wetpaint</td>\n",
       "      <td>web</td>\n",
       "      <td>operating</td>\n",
       "      <td>2005-10-17</td>\n",
       "      <td>NaN</td>\n",
       "      <td>wetpaint-inc.com</td>\n",
       "      <td>BachelrWetpaint</td>\n",
       "      <td>USA</td>\n",
       "      <td>0.0</td>\n",
       "      <td>3.0</td>\n",
       "      <td>39750000.0</td>\n",
       "      <td>5.0</td>\n",
       "      <td>888.0</td>\n",
       "      <td>1.0</td>\n",
       "      <td>2005-10-01</td>\n",
       "      <td>series-a</td>\n",
       "      <td>5250000.0</td>\n",
       "      <td>0.0</td>\n",
       "      <td>2.0</td>\n",
       "      <td>0.0</td>\n",
       "      <td>1.0</td>\n",
       "    </tr>\n",
       "    <tr>\n",
       "      <th>1</th>\n",
       "      <td>1.0</td>\n",
       "      <td>Wetpaint</td>\n",
       "      <td>web</td>\n",
       "      <td>operating</td>\n",
       "      <td>2005-10-17</td>\n",
       "      <td>NaN</td>\n",
       "      <td>wetpaint-inc.com</td>\n",
       "      <td>BachelrWetpaint</td>\n",
       "      <td>USA</td>\n",
       "      <td>0.0</td>\n",
       "      <td>3.0</td>\n",
       "      <td>39750000.0</td>\n",
       "      <td>5.0</td>\n",
       "      <td>889.0</td>\n",
       "      <td>1.0</td>\n",
       "      <td>2007-01-01</td>\n",
       "      <td>series-b</td>\n",
       "      <td>9500000.0</td>\n",
       "      <td>0.0</td>\n",
       "      <td>3.0</td>\n",
       "      <td>0.0</td>\n",
       "      <td>0.0</td>\n",
       "    </tr>\n",
       "    <tr>\n",
       "      <th>2</th>\n",
       "      <td>1.0</td>\n",
       "      <td>Wetpaint</td>\n",
       "      <td>web</td>\n",
       "      <td>operating</td>\n",
       "      <td>2005-10-17</td>\n",
       "      <td>NaN</td>\n",
       "      <td>wetpaint-inc.com</td>\n",
       "      <td>BachelrWetpaint</td>\n",
       "      <td>USA</td>\n",
       "      <td>0.0</td>\n",
       "      <td>3.0</td>\n",
       "      <td>39750000.0</td>\n",
       "      <td>5.0</td>\n",
       "      <td>2312.0</td>\n",
       "      <td>1.0</td>\n",
       "      <td>2008-05-19</td>\n",
       "      <td>series-c+</td>\n",
       "      <td>25000000.0</td>\n",
       "      <td>0.0</td>\n",
       "      <td>4.0</td>\n",
       "      <td>1.0</td>\n",
       "      <td>0.0</td>\n",
       "    </tr>\n",
       "  </tbody>\n",
       "</table>\n",
       "</div>"
      ],
      "text/plain": [
       "   company  ID      name category  code     status founded  at closed  at  \\\n",
       "0          1.0  Wetpaint            web  operating  2005-10-17        NaN   \n",
       "1          1.0  Wetpaint            web  operating  2005-10-17        NaN   \n",
       "2          1.0  Wetpaint            web  operating  2005-10-17        NaN   \n",
       "\n",
       "             domain network  username country  code  investment  rounds  \\\n",
       "0  wetpaint-inc.com   BachelrWetpaint           USA                 0.0   \n",
       "1  wetpaint-inc.com   BachelrWetpaint           USA                 0.0   \n",
       "2  wetpaint-inc.com   BachelrWetpaint           USA                 0.0   \n",
       "\n",
       "   funding  rounds  funding  total  milestones  funding  round  id  \\\n",
       "0              3.0      39750000.0         5.0               888.0   \n",
       "1              3.0      39750000.0         5.0               889.0   \n",
       "2              3.0      39750000.0         5.0              2312.0   \n",
       "\n",
       "   company  id  funded  at funding  round  type  raised  amount  \\\n",
       "0          1.0  2005-10-01             series-a       5250000.0   \n",
       "1          1.0  2007-01-01             series-b       9500000.0   \n",
       "2          1.0  2008-05-19            series-c+      25000000.0   \n",
       "\n",
       "   pre  money  valuation  participants  is  first  round  is  last  round  \n",
       "0                    0.0           2.0               0.0              1.0  \n",
       "1                    0.0           3.0               0.0              0.0  \n",
       "2                    0.0           4.0               1.0              0.0  "
      ]
     },
     "execution_count": 6,
     "metadata": {},
     "output_type": "execute_result"
    }
   ],
   "source": [
    "df_company_and_rounds.head(3)"
   ]
  },
  {
   "cell_type": "code",
   "execution_count": 7,
   "metadata": {},
   "outputs": [
    {
     "data": {
      "text/html": [
       "<div>\n",
       "<style scoped>\n",
       "    .dataframe tbody tr th:only-of-type {\n",
       "        vertical-align: middle;\n",
       "    }\n",
       "\n",
       "    .dataframe tbody tr th {\n",
       "        vertical-align: top;\n",
       "    }\n",
       "\n",
       "    .dataframe thead th {\n",
       "        text-align: right;\n",
       "    }\n",
       "</style>\n",
       "<table border=\"1\" class=\"dataframe\">\n",
       "  <thead>\n",
       "    <tr style=\"text-align: right;\">\n",
       "      <th></th>\n",
       "      <th>company  ID</th>\n",
       "      <th>name</th>\n",
       "      <th>category  code</th>\n",
       "      <th>status</th>\n",
       "      <th>founded  at</th>\n",
       "      <th>closed  at</th>\n",
       "      <th>domain</th>\n",
       "      <th>network  username</th>\n",
       "      <th>country  code</th>\n",
       "      <th>investment  rounds</th>\n",
       "      <th>funding  rounds</th>\n",
       "      <th>funding  total</th>\n",
       "      <th>milestones</th>\n",
       "      <th>funding  round  id</th>\n",
       "      <th>company  id</th>\n",
       "      <th>funded  at</th>\n",
       "      <th>funding  round  type</th>\n",
       "      <th>raised  amount</th>\n",
       "      <th>pre  money  valuation</th>\n",
       "      <th>participants</th>\n",
       "      <th>is  first  round</th>\n",
       "      <th>is  last  round</th>\n",
       "    </tr>\n",
       "  </thead>\n",
       "  <tbody>\n",
       "    <tr>\n",
       "      <th>217771</th>\n",
       "      <td>NaN</td>\n",
       "      <td>NaN</td>\n",
       "      <td>NaN</td>\n",
       "      <td>NaN</td>\n",
       "      <td>NaN</td>\n",
       "      <td>NaN</td>\n",
       "      <td>NaN</td>\n",
       "      <td>NaN</td>\n",
       "      <td>NaN</td>\n",
       "      <td>NaN</td>\n",
       "      <td>NaN</td>\n",
       "      <td>NaN</td>\n",
       "      <td>NaN</td>\n",
       "      <td>56543.0</td>\n",
       "      <td>55477.0</td>\n",
       "      <td>2012-05-31</td>\n",
       "      <td>venture</td>\n",
       "      <td>2125720.0</td>\n",
       "      <td>0.0</td>\n",
       "      <td>0.0</td>\n",
       "      <td>1.0</td>\n",
       "      <td>0.0</td>\n",
       "    </tr>\n",
       "    <tr>\n",
       "      <th>217772</th>\n",
       "      <td>NaN</td>\n",
       "      <td>NaN</td>\n",
       "      <td>NaN</td>\n",
       "      <td>NaN</td>\n",
       "      <td>NaN</td>\n",
       "      <td>NaN</td>\n",
       "      <td>NaN</td>\n",
       "      <td>NaN</td>\n",
       "      <td>NaN</td>\n",
       "      <td>NaN</td>\n",
       "      <td>NaN</td>\n",
       "      <td>NaN</td>\n",
       "      <td>NaN</td>\n",
       "      <td>56928.0</td>\n",
       "      <td>283492.0</td>\n",
       "      <td>2013-12-03</td>\n",
       "      <td>venture</td>\n",
       "      <td>3602480.0</td>\n",
       "      <td>0.0</td>\n",
       "      <td>5.0</td>\n",
       "      <td>1.0</td>\n",
       "      <td>1.0</td>\n",
       "    </tr>\n",
       "    <tr>\n",
       "      <th>217773</th>\n",
       "      <td>NaN</td>\n",
       "      <td>NaN</td>\n",
       "      <td>NaN</td>\n",
       "      <td>NaN</td>\n",
       "      <td>NaN</td>\n",
       "      <td>NaN</td>\n",
       "      <td>NaN</td>\n",
       "      <td>NaN</td>\n",
       "      <td>NaN</td>\n",
       "      <td>NaN</td>\n",
       "      <td>NaN</td>\n",
       "      <td>NaN</td>\n",
       "      <td>NaN</td>\n",
       "      <td>57063.0</td>\n",
       "      <td>284191.0</td>\n",
       "      <td>2013-12-04</td>\n",
       "      <td>venture</td>\n",
       "      <td>7000000.0</td>\n",
       "      <td>0.0</td>\n",
       "      <td>4.0</td>\n",
       "      <td>1.0</td>\n",
       "      <td>1.0</td>\n",
       "    </tr>\n",
       "  </tbody>\n",
       "</table>\n",
       "</div>"
      ],
      "text/plain": [
       "        company  ID name category  code status founded  at closed  at domain  \\\n",
       "217771          NaN  NaN            NaN    NaN         NaN        NaN    NaN   \n",
       "217772          NaN  NaN            NaN    NaN         NaN        NaN    NaN   \n",
       "217773          NaN  NaN            NaN    NaN         NaN        NaN    NaN   \n",
       "\n",
       "       network  username country  code  investment  rounds  funding  rounds  \\\n",
       "217771               NaN           NaN                 NaN              NaN   \n",
       "217772               NaN           NaN                 NaN              NaN   \n",
       "217773               NaN           NaN                 NaN              NaN   \n",
       "\n",
       "        funding  total  milestones  funding  round  id  company  id  \\\n",
       "217771             NaN         NaN             56543.0      55477.0   \n",
       "217772             NaN         NaN             56928.0     283492.0   \n",
       "217773             NaN         NaN             57063.0     284191.0   \n",
       "\n",
       "        funded  at funding  round  type  raised  amount  \\\n",
       "217771  2012-05-31              venture       2125720.0   \n",
       "217772  2013-12-03              venture       3602480.0   \n",
       "217773  2013-12-04              venture       7000000.0   \n",
       "\n",
       "        pre  money  valuation  participants  is  first  round  is  last  round  \n",
       "217771                    0.0           0.0               1.0              0.0  \n",
       "217772                    0.0           5.0               1.0              1.0  \n",
       "217773                    0.0           4.0               1.0              1.0  "
      ]
     },
     "execution_count": 7,
     "metadata": {},
     "output_type": "execute_result"
    }
   ],
   "source": [
    "df_company_and_rounds.tail(3)"
   ]
  },
  {
   "cell_type": "code",
   "execution_count": 8,
   "metadata": {},
   "outputs": [
    {
     "data": {
      "text/html": [
       "<div>\n",
       "<style scoped>\n",
       "    .dataframe tbody tr th:only-of-type {\n",
       "        vertical-align: middle;\n",
       "    }\n",
       "\n",
       "    .dataframe tbody tr th {\n",
       "        vertical-align: top;\n",
       "    }\n",
       "\n",
       "    .dataframe thead th {\n",
       "        text-align: right;\n",
       "    }\n",
       "</style>\n",
       "<table border=\"1\" class=\"dataframe\">\n",
       "  <thead>\n",
       "    <tr style=\"text-align: right;\">\n",
       "      <th></th>\n",
       "      <th>company  ID</th>\n",
       "      <th>company  id</th>\n",
       "    </tr>\n",
       "  </thead>\n",
       "  <tbody>\n",
       "    <tr>\n",
       "      <th>13175</th>\n",
       "      <td>146461.0</td>\n",
       "      <td>146461.0</td>\n",
       "    </tr>\n",
       "    <tr>\n",
       "      <th>215821</th>\n",
       "      <td>8984.0</td>\n",
       "      <td>8984.0</td>\n",
       "    </tr>\n",
       "    <tr>\n",
       "      <th>23284</th>\n",
       "      <td>158365.0</td>\n",
       "      <td>158365.0</td>\n",
       "    </tr>\n",
       "    <tr>\n",
       "      <th>38700</th>\n",
       "      <td>174986.0</td>\n",
       "      <td>174986.0</td>\n",
       "    </tr>\n",
       "    <tr>\n",
       "      <th>26834</th>\n",
       "      <td>162182.0</td>\n",
       "      <td>162182.0</td>\n",
       "    </tr>\n",
       "  </tbody>\n",
       "</table>\n",
       "</div>"
      ],
      "text/plain": [
       "        company  ID  company  id\n",
       "13175      146461.0     146461.0\n",
       "215821       8984.0       8984.0\n",
       "23284      158365.0     158365.0\n",
       "38700      174986.0     174986.0\n",
       "26834      162182.0     162182.0"
      ]
     },
     "execution_count": 8,
     "metadata": {},
     "output_type": "execute_result"
    }
   ],
   "source": [
    "# Посмотрим на два столбца, имеющих одинаковое название\n",
    "df_company_and_rounds[['company  ID', 'company  id']].query('`company  id` > 0').sample(5)"
   ]
  },
  {
   "cell_type": "code",
   "execution_count": 9,
   "metadata": {},
   "outputs": [
    {
     "name": "stdout",
     "output_type": "stream",
     "text": [
      "<class 'pandas.core.frame.DataFrame'>\n",
      "RangeIndex: 217774 entries, 0 to 217773\n",
      "Data columns (total 22 columns):\n",
      " #   Column                 Non-Null Count   Dtype  \n",
      "---  ------                 --------------   -----  \n",
      " 0   company  ID            217472 non-null  float64\n",
      " 1   name                   217471 non-null  object \n",
      " 2   category  code         143886 non-null  object \n",
      " 3   status                 217472 non-null  object \n",
      " 4   founded  at            109956 non-null  object \n",
      " 5   closed  at             3449 non-null    object \n",
      " 6   domain                 147159 non-null  object \n",
      " 7   network  username      95534 non-null   object \n",
      " 8   country  code          108607 non-null  object \n",
      " 9   investment  rounds     217472 non-null  float64\n",
      " 10  funding  rounds        217472 non-null  float64\n",
      " 11  funding  total         217472 non-null  float64\n",
      " 12  milestones             217472 non-null  float64\n",
      " 13  funding  round  id     52928 non-null   float64\n",
      " 14  company  id            52928 non-null   float64\n",
      " 15  funded  at             52680 non-null   object \n",
      " 16  funding  round  type   52928 non-null   object \n",
      " 17  raised  amount         52928 non-null   float64\n",
      " 18  pre  money  valuation  52928 non-null   float64\n",
      " 19  participants           52928 non-null   float64\n",
      " 20  is  first  round       52928 non-null   float64\n",
      " 21  is  last  round        52928 non-null   float64\n",
      "dtypes: float64(12), object(10)\n",
      "memory usage: 36.6+ MB\n"
     ]
    }
   ],
   "source": [
    "df_company_and_rounds.info()"
   ]
  },
  {
   "cell_type": "markdown",
   "metadata": {},
   "source": [
    "Датасет `company_and_rounds.csv` содержит 22 столбца и 217774 строки, в котором представлена информация о компаниях и раундах финансирования.\n",
    "\n",
    "**После первичного анализа можно сделать следующие выводы:**\n",
    "-  Наименование столбцов необходимо привести к `snake_case`.\n",
    "-  Столбец `founded  at` по описанию является датой инвестирования. Есть предпосылки предполагать, что это дата основания компании. Если данный столбец - это дата инвестирования, то необходимо поменять на более конкретное имя, например, `investment_date`.\n",
    "-  Столбцы `company  ID` и `company  id` включают в себя одинаковые данные -  идентификатор компании. Необходимо будет проверить, чем они отличаются и после этого принимать решение что с ними делать дальше.\n",
    "-  В половине столбцов наблюдается наличие пропусков. <br><br>\n",
    "\n",
    "**Типы данных и их корректность:**\n",
    "- Необходимо привести к типу `int` с оптимизацией разрядности следующие столбцы:\n",
    "    - `investment rounds (float64)` - число инвестиционных раундов.\n",
    "    - `funding rounds (float64)` - число раундов финансирования.\n",
    "    - `milestones (float64)` - вехи финансирования.\n",
    "    - `funding  round  id (float64)` - идентификатор этапа финансирования.\n",
    "    - `company  id (float64)` - идентификатор компании.\n",
    "    - `pre  money  valuation (float64)` - предварительная денежная оценка.\n",
    "    - `participants (float64)` - число участников. <br><br>\n",
    "\n",
    "- Необходимо привести к типу `int64`:\n",
    "    - `company ID (float64)` - содержит ID компании. <br><br>\n",
    "\n",
    "- Необходимо привести к типу `datetime64` следующие столбцы:\n",
    "    - `funded at (object)` - дата финансирования.\n",
    "    - `founded  at (object)` - дата инвестирования.\n",
    "    - `close  at` - дата закрытия компании.<br><br>\n",
    "    \n",
    "- Необходимо привести к типу `bool` следующие столбцы:\n",
    "    - `is  first  round (float64)` -  является ли раунд первым.\n",
    "    - `is  last  round (float64)` -  является раунд последним."
   ]
  },
  {
   "cell_type": "markdown",
   "metadata": {},
   "source": [
    "<a id=\"id4\"></a>\n",
    "### Знакомство с данными датасета education.csv.\n",
    "Познакомимся с данными датасета education.csv. Выведем первые 5 строк и основную информацию о датафрейме."
   ]
  },
  {
   "cell_type": "code",
   "execution_count": 10,
   "metadata": {},
   "outputs": [
    {
     "data": {
      "text/html": [
       "<div>\n",
       "<style scoped>\n",
       "    .dataframe tbody tr th:only-of-type {\n",
       "        vertical-align: middle;\n",
       "    }\n",
       "\n",
       "    .dataframe tbody tr th {\n",
       "        vertical-align: top;\n",
       "    }\n",
       "\n",
       "    .dataframe thead th {\n",
       "        text-align: right;\n",
       "    }\n",
       "</style>\n",
       "<table border=\"1\" class=\"dataframe\">\n",
       "  <thead>\n",
       "    <tr style=\"text-align: right;\">\n",
       "      <th></th>\n",
       "      <th>id</th>\n",
       "      <th>person_id</th>\n",
       "      <th>instituition</th>\n",
       "      <th>graduated_at</th>\n",
       "    </tr>\n",
       "  </thead>\n",
       "  <tbody>\n",
       "    <tr>\n",
       "      <th>0</th>\n",
       "      <td>1</td>\n",
       "      <td>6117</td>\n",
       "      <td>NaN</td>\n",
       "      <td>NaN</td>\n",
       "    </tr>\n",
       "    <tr>\n",
       "      <th>1</th>\n",
       "      <td>2</td>\n",
       "      <td>6136</td>\n",
       "      <td>Washington University, St. Louis</td>\n",
       "      <td>1990-01-01</td>\n",
       "    </tr>\n",
       "    <tr>\n",
       "      <th>2</th>\n",
       "      <td>3</td>\n",
       "      <td>6136</td>\n",
       "      <td>Boston University</td>\n",
       "      <td>1992-01-01</td>\n",
       "    </tr>\n",
       "    <tr>\n",
       "      <th>3</th>\n",
       "      <td>4</td>\n",
       "      <td>6005</td>\n",
       "      <td>University of Greenwich</td>\n",
       "      <td>2006-01-01</td>\n",
       "    </tr>\n",
       "    <tr>\n",
       "      <th>4</th>\n",
       "      <td>5</td>\n",
       "      <td>5832</td>\n",
       "      <td>Rice University</td>\n",
       "      <td>NaN</td>\n",
       "    </tr>\n",
       "  </tbody>\n",
       "</table>\n",
       "</div>"
      ],
      "text/plain": [
       "   id  person_id                      instituition graduated_at\n",
       "0   1       6117                               NaN          NaN\n",
       "1   2       6136  Washington University, St. Louis   1990-01-01\n",
       "2   3       6136                 Boston University   1992-01-01\n",
       "3   4       6005           University of Greenwich   2006-01-01\n",
       "4   5       5832                   Rice University          NaN"
      ]
     },
     "execution_count": 10,
     "metadata": {},
     "output_type": "execute_result"
    }
   ],
   "source": [
    "df_education.head()"
   ]
  },
  {
   "cell_type": "code",
   "execution_count": 11,
   "metadata": {},
   "outputs": [
    {
     "name": "stdout",
     "output_type": "stream",
     "text": [
      "<class 'pandas.core.frame.DataFrame'>\n",
      "RangeIndex: 109610 entries, 0 to 109609\n",
      "Data columns (total 4 columns):\n",
      " #   Column        Non-Null Count   Dtype \n",
      "---  ------        --------------   ----- \n",
      " 0   id            109610 non-null  int64 \n",
      " 1   person_id     109610 non-null  int64 \n",
      " 2   instituition  109555 non-null  object\n",
      " 3   graduated_at  58054 non-null   object\n",
      "dtypes: int64(2), object(2)\n",
      "memory usage: 3.3+ MB\n"
     ]
    }
   ],
   "source": [
    "df_education.info()"
   ]
  },
  {
   "cell_type": "markdown",
   "metadata": {},
   "source": [
    "Датасет `education.csv` содержит 4 столбца и 109610 строк, в котором содержится информацию об образовании сотрудников.\n",
    "\n",
    "**После первичного анализа можно сделать следующие выводы:**\n",
    "-  Наименование столбцов имеют корректный формат.\n",
    "-  Значения в столбцах соответствуют своему описанию.\n",
    "-  Наблюдаются пропуски в столбцах: `graduated_at` и `instituition`. <br><br>\n",
    "\n",
    "**Типы данных и их корректность:**\n",
    "- `graduated_at (object)`: содержит информацию о дате получения образования. Его необходимо будет преобразовать в формат `datetime64`."
   ]
  },
  {
   "cell_type": "markdown",
   "metadata": {},
   "source": [
    "<a id=\"id5\"></a>\n",
    "### Знакомство с данными датасета people.csv.\n",
    "Познакомимся с данными датасета people.csv. Выведем первые 5 строк и основную информацию о датафрейме."
   ]
  },
  {
   "cell_type": "code",
   "execution_count": 12,
   "metadata": {},
   "outputs": [
    {
     "data": {
      "text/html": [
       "<div>\n",
       "<style scoped>\n",
       "    .dataframe tbody tr th:only-of-type {\n",
       "        vertical-align: middle;\n",
       "    }\n",
       "\n",
       "    .dataframe tbody tr th {\n",
       "        vertical-align: top;\n",
       "    }\n",
       "\n",
       "    .dataframe thead th {\n",
       "        text-align: right;\n",
       "    }\n",
       "</style>\n",
       "<table border=\"1\" class=\"dataframe\">\n",
       "  <thead>\n",
       "    <tr style=\"text-align: right;\">\n",
       "      <th></th>\n",
       "      <th>id</th>\n",
       "      <th>first_name</th>\n",
       "      <th>last_name</th>\n",
       "      <th>company_id</th>\n",
       "      <th>network_username</th>\n",
       "    </tr>\n",
       "  </thead>\n",
       "  <tbody>\n",
       "    <tr>\n",
       "      <th>0</th>\n",
       "      <td>10</td>\n",
       "      <td>Mark</td>\n",
       "      <td>Zuckerberg</td>\n",
       "      <td>5.0</td>\n",
       "      <td>NaN</td>\n",
       "    </tr>\n",
       "    <tr>\n",
       "      <th>1</th>\n",
       "      <td>100</td>\n",
       "      <td>Peter</td>\n",
       "      <td>Lester</td>\n",
       "      <td>27.0</td>\n",
       "      <td>NaN</td>\n",
       "    </tr>\n",
       "    <tr>\n",
       "      <th>2</th>\n",
       "      <td>1000</td>\n",
       "      <td>Dr. Steven</td>\n",
       "      <td>E. Saunders</td>\n",
       "      <td>292.0</td>\n",
       "      <td>NaN</td>\n",
       "    </tr>\n",
       "    <tr>\n",
       "      <th>3</th>\n",
       "      <td>10000</td>\n",
       "      <td>Neil</td>\n",
       "      <td>Capel</td>\n",
       "      <td>2526.0</td>\n",
       "      <td>NaN</td>\n",
       "    </tr>\n",
       "    <tr>\n",
       "      <th>4</th>\n",
       "      <td>100000</td>\n",
       "      <td>Sue</td>\n",
       "      <td>Pilsch</td>\n",
       "      <td>NaN</td>\n",
       "      <td>NaN</td>\n",
       "    </tr>\n",
       "  </tbody>\n",
       "</table>\n",
       "</div>"
      ],
      "text/plain": [
       "       id  first_name    last_name  company_id network_username\n",
       "0      10        Mark   Zuckerberg         5.0              NaN\n",
       "1     100       Peter       Lester        27.0              NaN\n",
       "2    1000  Dr. Steven  E. Saunders       292.0              NaN\n",
       "3   10000        Neil        Capel      2526.0              NaN\n",
       "4  100000         Sue       Pilsch         NaN              NaN"
      ]
     },
     "execution_count": 12,
     "metadata": {},
     "output_type": "execute_result"
    }
   ],
   "source": [
    "df_people.head()"
   ]
  },
  {
   "cell_type": "code",
   "execution_count": 13,
   "metadata": {},
   "outputs": [
    {
     "name": "stdout",
     "output_type": "stream",
     "text": [
      "<class 'pandas.core.frame.DataFrame'>\n",
      "RangeIndex: 226709 entries, 0 to 226708\n",
      "Data columns (total 5 columns):\n",
      " #   Column            Non-Null Count   Dtype  \n",
      "---  ------            --------------   -----  \n",
      " 0   id                226709 non-null  int64  \n",
      " 1   first_name        226700 non-null  object \n",
      " 2   last_name         226705 non-null  object \n",
      " 3   company_id        34615 non-null   float64\n",
      " 4   network_username  38867 non-null   object \n",
      "dtypes: float64(1), int64(1), object(3)\n",
      "memory usage: 8.6+ MB\n"
     ]
    }
   ],
   "source": [
    "df_people.info()"
   ]
  },
  {
   "cell_type": "markdown",
   "metadata": {},
   "source": [
    "Датасет `people.csv` содержит 5 столбцов и 226709 строк, в котором содержится информацию о сотрудниках.\n",
    "\n",
    "**После первичного анализа можно сделать следующие выводы:**\n",
    "-  Наименование столбцов имеют корректный формат.\n",
    "-  Значения в столбцах соответствуют своему описанию.\n",
    "-  Наблюдаются пропуски в столбцах: `first_name`, `last_name`, `company_id`, `network_username` <br><br>\n",
    "\n",
    "**Типы данных и их корректность:**\n",
    "- `company_id (float64)`: содержит информацию об идентификаторе компании. Его необходимо будет преобразовать в тип `int64`."
   ]
  },
  {
   "cell_type": "markdown",
   "metadata": {},
   "source": [
    "<a id=\"id6\"></a>\n",
    "### Знакомство с данными датасета degrees.csv.\n",
    "Познакомимся с данными датасета degrees.csv. Выведем первые 5 строк и основную информацию о датафрейме."
   ]
  },
  {
   "cell_type": "code",
   "execution_count": 14,
   "metadata": {},
   "outputs": [
    {
     "data": {
      "text/html": [
       "<div>\n",
       "<style scoped>\n",
       "    .dataframe tbody tr th:only-of-type {\n",
       "        vertical-align: middle;\n",
       "    }\n",
       "\n",
       "    .dataframe tbody tr th {\n",
       "        vertical-align: top;\n",
       "    }\n",
       "\n",
       "    .dataframe thead th {\n",
       "        text-align: right;\n",
       "    }\n",
       "</style>\n",
       "<table border=\"1\" class=\"dataframe\">\n",
       "  <thead>\n",
       "    <tr style=\"text-align: right;\">\n",
       "      <th></th>\n",
       "      <th>id</th>\n",
       "      <th>object_id</th>\n",
       "      <th>degree_type</th>\n",
       "      <th>subject</th>\n",
       "    </tr>\n",
       "  </thead>\n",
       "  <tbody>\n",
       "    <tr>\n",
       "      <th>0</th>\n",
       "      <td>1</td>\n",
       "      <td>p:6117</td>\n",
       "      <td>MBA</td>\n",
       "      <td>NaN</td>\n",
       "    </tr>\n",
       "    <tr>\n",
       "      <th>1</th>\n",
       "      <td>2</td>\n",
       "      <td>p:6136</td>\n",
       "      <td>BA</td>\n",
       "      <td>English, French</td>\n",
       "    </tr>\n",
       "    <tr>\n",
       "      <th>2</th>\n",
       "      <td>3</td>\n",
       "      <td>p:6136</td>\n",
       "      <td>MS</td>\n",
       "      <td>Mass Communication</td>\n",
       "    </tr>\n",
       "    <tr>\n",
       "      <th>3</th>\n",
       "      <td>4</td>\n",
       "      <td>p:6005</td>\n",
       "      <td>MS</td>\n",
       "      <td>Internet Technology</td>\n",
       "    </tr>\n",
       "    <tr>\n",
       "      <th>4</th>\n",
       "      <td>5</td>\n",
       "      <td>p:5832</td>\n",
       "      <td>BCS</td>\n",
       "      <td>Computer Science, Psychology</td>\n",
       "    </tr>\n",
       "  </tbody>\n",
       "</table>\n",
       "</div>"
      ],
      "text/plain": [
       "   id object_id degree_type                       subject\n",
       "0   1    p:6117         MBA                           NaN\n",
       "1   2    p:6136          BA               English, French\n",
       "2   3    p:6136          MS            Mass Communication\n",
       "3   4    p:6005          MS           Internet Technology\n",
       "4   5    p:5832         BCS  Computer Science, Psychology"
      ]
     },
     "execution_count": 14,
     "metadata": {},
     "output_type": "execute_result"
    }
   ],
   "source": [
    "df_degrees.head()"
   ]
  },
  {
   "cell_type": "code",
   "execution_count": 15,
   "metadata": {},
   "outputs": [
    {
     "name": "stdout",
     "output_type": "stream",
     "text": [
      "<class 'pandas.core.frame.DataFrame'>\n",
      "RangeIndex: 109610 entries, 0 to 109609\n",
      "Data columns (total 4 columns):\n",
      " #   Column       Non-Null Count   Dtype \n",
      "---  ------       --------------   ----- \n",
      " 0   id           109610 non-null  int64 \n",
      " 1   object_id    109610 non-null  object\n",
      " 2   degree_type  98389 non-null   object\n",
      " 3   subject      81298 non-null   object\n",
      "dtypes: int64(1), object(3)\n",
      "memory usage: 3.3+ MB\n"
     ]
    }
   ],
   "source": [
    "df_degrees.info()"
   ]
  },
  {
   "cell_type": "markdown",
   "metadata": {},
   "source": [
    "Рассмотрим какие еще строки хранит столбец `object_id`."
   ]
  },
  {
   "cell_type": "code",
   "execution_count": 16,
   "metadata": {},
   "outputs": [
    {
     "data": {
      "text/plain": [
       "70680    p:226408\n",
       "51836     p:90027\n",
       "14325     p:99068\n",
       "60649     p:24701\n",
       "91074    p:246648\n",
       "63009     p:26488\n",
       "99623    p:256923\n",
       "34200     p:55879\n",
       "90017    p:245397\n",
       "441        p:3262\n",
       "Name: object_id, dtype: object"
      ]
     },
     "execution_count": 16,
     "metadata": {},
     "output_type": "execute_result"
    }
   ],
   "source": [
    "# Рассмотрим столбец object_id\n",
    "df_degrees['object_id'].sample(10)"
   ]
  },
  {
   "cell_type": "markdown",
   "metadata": {},
   "source": [
    "Датасет `degrees.csv` содержит 4 столбца и 109610 строк, в котором содержится информацию о типе образования сотрудника.\n",
    "\n",
    "**После первичного анализа можно сделать следующие выводы:**\n",
    "-  Наименование столбцов имеют корректный формат.\n",
    "-  В столбце `object_id` необходимо убрать префикс `p:`.\n",
    "-  Наблюдаются пропуски в столбцах: `degree_type` и `subject`. <br><br>\n",
    "\n",
    "**Типы данных и их корректность:**\n",
    "- `object_id (object)`: содержит информацию об идентификаторе сотрудника. После удаления префикса `p:` необходимо преобразовать в тип `int64`."
   ]
  },
  {
   "cell_type": "markdown",
   "metadata": {},
   "source": [
    "<a id=\"id7\"></a>\n",
    "### Промежуточный вывод"
   ]
  },
  {
   "cell_type": "markdown",
   "metadata": {},
   "source": [
    "Было проведено знакомство с данными датасетов: `acquisition.csv`, `company_and_rounds.csv`, `education.csv`, `people.csv` и `degrees.csv`, на основе этого можно сделать следующие выводы:\n",
    "- Все датасеты, за исключением `company_and_rounds.csv`, имеют корректное наименование столбцов.\n",
    "- У всех датасетов значения в столбцах соответствует их описанию.\n",
    "-  Датасет `company_and_rounds.csv` содержит в себе два столбца `company  ID` и `company  id`, которые включают в себе одинаковый тип данных. Необходимо будет разобраться чем они отличаются друг от друга.\n",
    "- В каждом датасете присутствуют пропуски. В датасете `company_and_rounds.csv` пропуски наблюдаются почти во всех столбцах.\n",
    "- Во всех датасетах необходимо будет даты преобразовать из типа `object` в `datetime64`, так же целочисленные значения привести к `int`."
   ]
  },
  {
   "cell_type": "markdown",
   "metadata": {},
   "source": [
    "<a id=\"id8\"></a>\n",
    "## Предобработка данных\n",
    "\n",
    "В данном разделе преобразуем наименования столбцов в формат snake_case, обработаем пропуски, выставим правильный формат данных для столбцов и обработам дубликаты."
   ]
  },
  {
   "cell_type": "markdown",
   "metadata": {},
   "source": [
    "<a id=\"id9\"></a>\n",
    "### Корректировка названий столбцов и исследование различий между `company  ID` и `company  id` датасета df_company_and_rounds"
   ]
  },
  {
   "cell_type": "markdown",
   "metadata": {},
   "source": [
    "На этапе знакомства с данными было определено, что в корректировке названий столбцов нуждается только датасет `company_and_rounds.csv`.Так же было выявлено, что в нём присутствуют одинаковые по наименованию столбцы: `company  ID` и `company  id`. Чтобы они не приобрели одинаковое название после преобразования наименований столбцов к формату snake_case, дадим им разные имена. Переименуем столбец `company  ID` в `company_id_first`, а `company  id` - в `company_id_second`."
   ]
  },
  {
   "cell_type": "code",
   "execution_count": 17,
   "metadata": {},
   "outputs": [
    {
     "data": {
      "text/plain": [
       "Index(['company_id_first', 'name', 'category  code', 'status', 'founded  at',\n",
       "       'closed  at', 'domain', 'network  username', 'country  code',\n",
       "       'investment  rounds', 'funding  rounds', 'funding  total', 'milestones',\n",
       "       'funding  round  id', 'company_id_second', 'funded  at',\n",
       "       'funding  round  type', 'raised  amount', 'pre  money  valuation',\n",
       "       'participants', 'is  first  round', 'is  last  round'],\n",
       "      dtype='object')"
      ]
     },
     "execution_count": 17,
     "metadata": {},
     "output_type": "execute_result"
    }
   ],
   "source": [
    "# Переименуем столбцы 'company  ID' и 'company  id'\n",
    "df_company_and_rounds = df_company_and_rounds.rename(columns={'company  ID': 'company_id_first', 'company  id': 'company_id_second'})\n",
    "\n",
    "# Проверим преобразование\n",
    "df_company_and_rounds.columns"
   ]
  },
  {
   "cell_type": "markdown",
   "metadata": {},
   "source": [
    "Столбцы переименовали корректно. Теперь изучим их и определим насколько столбцы отличаются друг от друга или совпадают друг с другом. Для этого по каждому исследуемому столбцу найдем уникальное множество значений, затем отобразим пересечение столбцов по диаграмме Венна."
   ]
  },
  {
   "cell_type": "code",
   "execution_count": 18,
   "metadata": {},
   "outputs": [
    {
     "data": {
      "image/png": "[encoded data removed]",
      "text/plain": [
       "<Figure size 640x480 with 1 Axes>"
      ]
     },
     "metadata": {},
     "output_type": "display_data"
    }
   ],
   "source": [
    "# Создадим множества значений\n",
    "company_id_first = set(df_company_and_rounds['company_id_first'].dropna().unique())\n",
    "company_id_second = set(df_company_and_rounds['company_id_second'].dropna().unique())\n",
    "\n",
    "# Создаем диаграмму Венна\n",
    "venn2([company_id_first, company_id_second], set_labels=('Множество company_id_first', 'Множество company_id_second'))\n",
    "\n",
    "plt.title(\"Пересечение множеств значений 'company  ID' и 'company  id'\")\n",
    "plt.show()"
   ]
  },
  {
   "cell_type": "markdown",
   "metadata": {},
   "source": [
    "По диаграмме видно, что `company_id_second` являтся почти целиком подмножеством `company_id_first`, 232 значения находятся за пределами пересечения.\n",
    "\n",
    "Сравним данные столбцы построчно."
   ]
  },
  {
   "cell_type": "code",
   "execution_count": 19,
   "metadata": {},
   "outputs": [
    {
     "data": {
      "text/html": [
       "<div>\n",
       "<style scoped>\n",
       "    .dataframe tbody tr th:only-of-type {\n",
       "        vertical-align: middle;\n",
       "    }\n",
       "\n",
       "    .dataframe tbody tr th {\n",
       "        vertical-align: top;\n",
       "    }\n",
       "\n",
       "    .dataframe thead th {\n",
       "        text-align: right;\n",
       "    }\n",
       "</style>\n",
       "<table border=\"1\" class=\"dataframe\">\n",
       "  <thead>\n",
       "    <tr style=\"text-align: right;\">\n",
       "      <th></th>\n",
       "      <th>company_id_first</th>\n",
       "      <th>company_id_second</th>\n",
       "    </tr>\n",
       "  </thead>\n",
       "  <tbody>\n",
       "    <tr>\n",
       "      <th>0</th>\n",
       "      <td>1.0</td>\n",
       "      <td>1.0</td>\n",
       "    </tr>\n",
       "    <tr>\n",
       "      <th>1</th>\n",
       "      <td>1.0</td>\n",
       "      <td>1.0</td>\n",
       "    </tr>\n",
       "    <tr>\n",
       "      <th>2</th>\n",
       "      <td>1.0</td>\n",
       "      <td>1.0</td>\n",
       "    </tr>\n",
       "    <tr>\n",
       "      <th>15</th>\n",
       "      <td>1001.0</td>\n",
       "      <td>1001.0</td>\n",
       "    </tr>\n",
       "    <tr>\n",
       "      <th>20</th>\n",
       "      <td>10014.0</td>\n",
       "      <td>10014.0</td>\n",
       "    </tr>\n",
       "  </tbody>\n",
       "</table>\n",
       "</div>"
      ],
      "text/plain": [
       "    company_id_first  company_id_second\n",
       "0                1.0                1.0\n",
       "1                1.0                1.0\n",
       "2                1.0                1.0\n",
       "15            1001.0             1001.0\n",
       "20           10014.0            10014.0"
      ]
     },
     "execution_count": 19,
     "metadata": {},
     "output_type": "execute_result"
    }
   ],
   "source": [
    "# Выведем строки, в которых значения столбцов совпадает\n",
    "df_company_and_rounds.loc[\n",
    "    df_company_and_rounds['company_id_first'] == df_company_and_rounds['company_id_second'],\n",
    "    ['company_id_first', 'company_id_second']\n",
    "].head()"
   ]
  },
  {
   "cell_type": "code",
   "execution_count": 20,
   "metadata": {},
   "outputs": [
    {
     "data": {
      "text/html": [
       "<div>\n",
       "<style scoped>\n",
       "    .dataframe tbody tr th:only-of-type {\n",
       "        vertical-align: middle;\n",
       "    }\n",
       "\n",
       "    .dataframe tbody tr th {\n",
       "        vertical-align: top;\n",
       "    }\n",
       "\n",
       "    .dataframe thead th {\n",
       "        text-align: right;\n",
       "    }\n",
       "</style>\n",
       "<table border=\"1\" class=\"dataframe\">\n",
       "  <thead>\n",
       "    <tr style=\"text-align: right;\">\n",
       "      <th></th>\n",
       "      <th>company_id_first</th>\n",
       "      <th>company_id_second</th>\n",
       "    </tr>\n",
       "  </thead>\n",
       "  <tbody>\n",
       "    <tr>\n",
       "      <th>3</th>\n",
       "      <td>10.0</td>\n",
       "      <td>NaN</td>\n",
       "    </tr>\n",
       "    <tr>\n",
       "      <th>4</th>\n",
       "      <td>100.0</td>\n",
       "      <td>NaN</td>\n",
       "    </tr>\n",
       "    <tr>\n",
       "      <th>5</th>\n",
       "      <td>10000.0</td>\n",
       "      <td>NaN</td>\n",
       "    </tr>\n",
       "    <tr>\n",
       "      <th>6</th>\n",
       "      <td>10001.0</td>\n",
       "      <td>NaN</td>\n",
       "    </tr>\n",
       "    <tr>\n",
       "      <th>7</th>\n",
       "      <td>10002.0</td>\n",
       "      <td>NaN</td>\n",
       "    </tr>\n",
       "    <tr>\n",
       "      <th>...</th>\n",
       "      <td>...</td>\n",
       "      <td>...</td>\n",
       "    </tr>\n",
       "    <tr>\n",
       "      <th>217769</th>\n",
       "      <td>NaN</td>\n",
       "      <td>282847.0</td>\n",
       "    </tr>\n",
       "    <tr>\n",
       "      <th>217770</th>\n",
       "      <td>NaN</td>\n",
       "      <td>55477.0</td>\n",
       "    </tr>\n",
       "    <tr>\n",
       "      <th>217771</th>\n",
       "      <td>NaN</td>\n",
       "      <td>55477.0</td>\n",
       "    </tr>\n",
       "    <tr>\n",
       "      <th>217772</th>\n",
       "      <td>NaN</td>\n",
       "      <td>283492.0</td>\n",
       "    </tr>\n",
       "    <tr>\n",
       "      <th>217773</th>\n",
       "      <td>NaN</td>\n",
       "      <td>284191.0</td>\n",
       "    </tr>\n",
       "  </tbody>\n",
       "</table>\n",
       "<p>165148 rows × 2 columns</p>\n",
       "</div>"
      ],
      "text/plain": [
       "        company_id_first  company_id_second\n",
       "3                   10.0                NaN\n",
       "4                  100.0                NaN\n",
       "5                10000.0                NaN\n",
       "6                10001.0                NaN\n",
       "7                10002.0                NaN\n",
       "...                  ...                ...\n",
       "217769               NaN           282847.0\n",
       "217770               NaN            55477.0\n",
       "217771               NaN            55477.0\n",
       "217772               NaN           283492.0\n",
       "217773               NaN           284191.0\n",
       "\n",
       "[165148 rows x 2 columns]"
      ]
     },
     "execution_count": 20,
     "metadata": {},
     "output_type": "execute_result"
    }
   ],
   "source": [
    "# Выведем строки, в которых значения столбцов отличается\n",
    "df_company_and_rounds.loc[\n",
    "    df_company_and_rounds['company_id_first'] != df_company_and_rounds['company_id_second'],\n",
    "    ['company_id_first', 'company_id_second']\n",
    "]"
   ]
  },
  {
   "cell_type": "markdown",
   "metadata": {},
   "source": [
    "Согласно проведенному исследованию двух столбцов `company_id_first` и `company_id_second` можно предположить, что по этим столбцам производилось объединение двух таблиц с помощью `full join`. Поэтому значения в двух столбцах совпадают или содержат пропуск в одном из них.\n",
    "\n",
    "Теперь приведем наименования всех столбцов к формату `snake_case`."
   ]
  },
  {
   "cell_type": "code",
   "execution_count": 21,
   "metadata": {},
   "outputs": [],
   "source": [
    "# Приведем столбцы к формату snake_case\n",
    "df_company_and_rounds.columns = df_company_and_rounds.columns.str.lower().str.replace(r'\\s+', '_', regex=True)"
   ]
  },
  {
   "cell_type": "code",
   "execution_count": 22,
   "metadata": {
    "scrolled": true
   },
   "outputs": [
    {
     "data": {
      "text/plain": [
       "Index(['company_id_first', 'name', 'category_code', 'status', 'founded_at',\n",
       "       'closed_at', 'domain', 'network_username', 'country_code',\n",
       "       'investment_rounds', 'funding_rounds', 'funding_total', 'milestones',\n",
       "       'funding_round_id', 'company_id_second', 'funded_at',\n",
       "       'funding_round_type', 'raised_amount', 'pre_money_valuation',\n",
       "       'participants', 'is_first_round', 'is_last_round'],\n",
       "      dtype='object')"
      ]
     },
     "execution_count": 22,
     "metadata": {},
     "output_type": "execute_result"
    }
   ],
   "source": [
    "# Проверим преобразование столбцов\n",
    "df_company_and_rounds.columns"
   ]
  },
  {
   "cell_type": "markdown",
   "metadata": {},
   "source": [
    "<a id=\"id10\"></a>\n",
    "### Анализ и обработка пропусков"
   ]
  },
  {
   "cell_type": "markdown",
   "metadata": {},
   "source": [
    "<a id=\"id11\"></a>\n",
    "#### Изучение пропусков в acquisition.csv\n",
    "Изучим количество пропусков в датасете `acquisition.csv`"
   ]
  },
  {
   "cell_type": "code",
   "execution_count": 23,
   "metadata": {},
   "outputs": [
    {
     "name": "stdout",
     "output_type": "stream",
     "text": [
      "Количество пропусков, шт.:\n"
     ]
    },
    {
     "data": {
      "text/plain": [
       "term_code               7576\n",
       "acquired_at               29\n",
       "acquiring_company_id       0\n",
       "id                         0\n",
       "acquired_company_id        0\n",
       "price_amount               0\n",
       "dtype: int64"
      ]
     },
     "metadata": {},
     "output_type": "display_data"
    },
    {
     "name": "stdout",
     "output_type": "stream",
     "text": [
      "\n",
      "Количество пропусков, %:\n"
     ]
    },
    {
     "data": {
      "text/plain": [
       "term_code               80.5\n",
       "acquired_at              0.3\n",
       "acquiring_company_id     0.0\n",
       "id                       0.0\n",
       "acquired_company_id      0.0\n",
       "price_amount             0.0\n",
       "dtype: float64"
      ]
     },
     "metadata": {},
     "output_type": "display_data"
    }
   ],
   "source": [
    "# Выведем количество пропусков во всем датафрейме\n",
    "\n",
    "# В абсолютных значениях\n",
    "print('Количество пропусков, шт.:')\n",
    "display(df_acquisition.isna().sum().sort_values(ascending=False))\n",
    "print()\n",
    "\n",
    "# В относительных значениях\n",
    "print('Количество пропусков, %:')\n",
    "display(round(df_acquisition.isna().mean().sort_values(ascending=False) * 100, 1))"
   ]
  },
  {
   "cell_type": "markdown",
   "metadata": {},
   "source": [
    "Наблюдаются пропуски в столбцах:\n",
    "- `term_code` (варианты расчета) - 7576 строк (80.5%).\n",
    "- `acquired_at` (дата сделки) - 29 строк (0.3%).\n",
    "\n",
    "Для большинства сделок не указан вариант расчета (столбец `term_code`), пропущенные значения в нём можно будет заменить на индикатор `unknown`. В столбце `acquired_at` количество пропусков составляет 0.3%, их оставим без изменений."
   ]
  },
  {
   "cell_type": "code",
   "execution_count": 24,
   "metadata": {
    "scrolled": true
   },
   "outputs": [
    {
     "data": {
      "text/plain": [
       "acquired_at             29\n",
       "id                       0\n",
       "acquiring_company_id     0\n",
       "acquired_company_id      0\n",
       "term_code                0\n",
       "price_amount             0\n",
       "dtype: int64"
      ]
     },
     "metadata": {},
     "output_type": "display_data"
    }
   ],
   "source": [
    "# Заменим пропуски в столбце `term_code` на `unknown`\n",
    "df_acquisition['term_code'] = df_acquisition['term_code'].fillna('unknown')\n",
    "\n",
    "# Проверим наличие пропусков\n",
    "display(df_acquisition.isna().sum().sort_values(ascending=False))"
   ]
  },
  {
   "cell_type": "code",
   "execution_count": 25,
   "metadata": {},
   "outputs": [
    {
     "data": {
      "text/html": [
       "<div>\n",
       "<style scoped>\n",
       "    .dataframe tbody tr th:only-of-type {\n",
       "        vertical-align: middle;\n",
       "    }\n",
       "\n",
       "    .dataframe tbody tr th {\n",
       "        vertical-align: top;\n",
       "    }\n",
       "\n",
       "    .dataframe thead th {\n",
       "        text-align: right;\n",
       "    }\n",
       "</style>\n",
       "<table border=\"1\" class=\"dataframe\">\n",
       "  <thead>\n",
       "    <tr style=\"text-align: right;\">\n",
       "      <th></th>\n",
       "      <th>id</th>\n",
       "      <th>acquiring_company_id</th>\n",
       "      <th>acquired_company_id</th>\n",
       "      <th>term_code</th>\n",
       "      <th>price_amount</th>\n",
       "      <th>acquired_at</th>\n",
       "    </tr>\n",
       "  </thead>\n",
       "  <tbody>\n",
       "    <tr>\n",
       "      <th>0</th>\n",
       "      <td>1</td>\n",
       "      <td>11</td>\n",
       "      <td>10</td>\n",
       "      <td>unknown</td>\n",
       "      <td>20000000</td>\n",
       "      <td>2007-05-30</td>\n",
       "    </tr>\n",
       "    <tr>\n",
       "      <th>5</th>\n",
       "      <td>11</td>\n",
       "      <td>227</td>\n",
       "      <td>228</td>\n",
       "      <td>unknown</td>\n",
       "      <td>7140000</td>\n",
       "      <td>2003-08-05</td>\n",
       "    </tr>\n",
       "    <tr>\n",
       "      <th>41</th>\n",
       "      <td>54</td>\n",
       "      <td>13171</td>\n",
       "      <td>651</td>\n",
       "      <td>unknown</td>\n",
       "      <td>90000000</td>\n",
       "      <td>2007-08-01</td>\n",
       "    </tr>\n",
       "    <tr>\n",
       "      <th>99</th>\n",
       "      <td>132</td>\n",
       "      <td>59</td>\n",
       "      <td>49</td>\n",
       "      <td>unknown</td>\n",
       "      <td>0</td>\n",
       "      <td>2006-10-31</td>\n",
       "    </tr>\n",
       "    <tr>\n",
       "      <th>100</th>\n",
       "      <td>134</td>\n",
       "      <td>1444</td>\n",
       "      <td>1409</td>\n",
       "      <td>unknown</td>\n",
       "      <td>20000000</td>\n",
       "      <td>2007-11-01</td>\n",
       "    </tr>\n",
       "  </tbody>\n",
       "</table>\n",
       "</div>"
      ],
      "text/plain": [
       "      id  acquiring_company_id  acquired_company_id term_code  price_amount  \\\n",
       "0      1                    11                   10   unknown      20000000   \n",
       "5     11                   227                  228   unknown       7140000   \n",
       "41    54                 13171                  651   unknown      90000000   \n",
       "99   132                    59                   49   unknown             0   \n",
       "100  134                  1444                 1409   unknown      20000000   \n",
       "\n",
       "    acquired_at  \n",
       "0    2007-05-30  \n",
       "5    2003-08-05  \n",
       "41   2007-08-01  \n",
       "99   2006-10-31  \n",
       "100  2007-11-01  "
      ]
     },
     "execution_count": 25,
     "metadata": {},
     "output_type": "execute_result"
    }
   ],
   "source": [
    "# Проверим корректность замены\n",
    "df_acquisition.query('term_code == \"unknown\"').head()"
   ]
  },
  {
   "cell_type": "markdown",
   "metadata": {},
   "source": [
    "Пропуски обработали корректно."
   ]
  },
  {
   "cell_type": "markdown",
   "metadata": {},
   "source": [
    "<a id=\"id12\"></a>\n",
    "#### Изучение пропусков в company_and_rounds.csv\n",
    "Изучим количество пропусков в датасете company_and_rounds.csv"
   ]
  },
  {
   "cell_type": "code",
   "execution_count": 26,
   "metadata": {},
   "outputs": [
    {
     "name": "stdout",
     "output_type": "stream",
     "text": [
      "Количество пропусков, шт.:\n"
     ]
    },
    {
     "data": {
      "text/plain": [
       "closed_at              214325\n",
       "funded_at              165094\n",
       "is_first_round         164846\n",
       "participants           164846\n",
       "funding_round_id       164846\n",
       "raised_amount          164846\n",
       "is_last_round          164846\n",
       "funding_round_type     164846\n",
       "company_id_second      164846\n",
       "pre_money_valuation    164846\n",
       "network_username       122240\n",
       "country_code           109167\n",
       "founded_at             107818\n",
       "category_code           73888\n",
       "domain                  70615\n",
       "name                      303\n",
       "status                    302\n",
       "company_id_first          302\n",
       "milestones                302\n",
       "funding_total             302\n",
       "funding_rounds            302\n",
       "investment_rounds         302\n",
       "dtype: int64"
      ]
     },
     "metadata": {},
     "output_type": "display_data"
    },
    {
     "name": "stdout",
     "output_type": "stream",
     "text": [
      "\n",
      "Количество пропусков, %:\n"
     ]
    },
    {
     "data": {
      "text/plain": [
       "company_id_first        0.1\n",
       "name                    0.1\n",
       "category_code          33.9\n",
       "status                  0.1\n",
       "founded_at             49.5\n",
       "closed_at              98.4\n",
       "domain                 32.4\n",
       "network_username       56.1\n",
       "country_code           50.1\n",
       "investment_rounds       0.1\n",
       "funding_rounds          0.1\n",
       "funding_total           0.1\n",
       "milestones              0.1\n",
       "funding_round_id       75.7\n",
       "company_id_second      75.7\n",
       "funded_at              75.8\n",
       "funding_round_type     75.7\n",
       "raised_amount          75.7\n",
       "pre_money_valuation    75.7\n",
       "participants           75.7\n",
       "is_first_round         75.7\n",
       "is_last_round          75.7\n",
       "dtype: float64"
      ]
     },
     "metadata": {},
     "output_type": "display_data"
    }
   ],
   "source": [
    "# Выведем количество пропусков во всем датафрейме\n",
    "\n",
    "# В абсолютных значениях\n",
    "print('Количество пропусков, шт.:')\n",
    "display(df_company_and_rounds.isna().sum().sort_values(ascending=False))\n",
    "print()\n",
    "\n",
    "# В относительных значениях\n",
    "print('Количество пропусков, %:')\n",
    "display(round(df_company_and_rounds.isna().mean() * 100, 1))"
   ]
  },
  {
   "cell_type": "markdown",
   "metadata": {},
   "source": [
    "- Пропуски наблюдаются почти во всех столбцах датафрейма. Наибольшее количество пропусков содержится в столбце `closed  at` - 214325 строк (98.4% данных). Скорее всего данный пропуск свидетельствует о том, что компания не закрылась и продолжает работать.\n",
    "- В стобцах: `funded  at`, `is  first  round`, `participants`, `funding  round  id`, `raised  amount `, `is  last  round `, `funding  round  type`, `pre  money  valuation ` количество пропусков составляет 164846 строк (75.7%). По структуре похоже, что данный датасет был создан из двух датасетов, которые были объединены по столбцам `company ID` и `company id` (был удален из датафрейма) с помощью метода full join, что подтверждается наличием одинакового количества пропусков в столбцах указанных выше и в следующих столбцах: `name`, `status`, `company  ID`, `milestones`, `funding  total`, `funding  rounds`, `investment  rounds` для них количество пропусков составило 302 строк или 0.1% данных.\n",
    "- Наблюдаются так же пропуски в столбцах: `network  username` - 122240 строк (56.1%), `country  code` - 109167 строки (50.1%), `founded  at` - 107818 строк (49.5%), `category  code` - 73888 строки (33.9%), `domain` - 70615 строк (32.4%)."
   ]
  },
  {
   "cell_type": "markdown",
   "metadata": {},
   "source": [
    "Разобьем датасет на два."
   ]
  },
  {
   "cell_type": "code",
   "execution_count": 27,
   "metadata": {
    "scrolled": true
   },
   "outputs": [],
   "source": [
    "# Делаем отдельную таблицу по компаниям\n",
    "df_company = df_company_and_rounds[['company_id_first', 'name', 'category_code', 'status', \n",
    "                            'founded_at', 'closed_at', 'domain', \n",
    "                            'network_username', 'country_code', \n",
    "                            'investment_rounds', 'funding_rounds', \n",
    "                            'funding_total', 'milestones']]\n",
    "\n",
    "# Делаем отдельную таблицу по раундам инвестирования\n",
    "df_rounds = df_company_and_rounds[['funding_round_id', 'company_id_second', 'funded_at',\n",
    "                            'funding_round_type', 'raised_amount', \n",
    "                            'pre_money_valuation', 'participants',\n",
    "                            'is_first_round', 'is_last_round']]\n",
    "\n",
    "# Переименуем столбцы с id компаниями \n",
    "df_company = df_company.rename(columns={'company_id_first': 'company_id'})\n",
    "df_rounds = df_rounds.rename(columns={'company_id_second': 'company_id'})"
   ]
  },
  {
   "cell_type": "markdown",
   "metadata": {},
   "source": [
    "<a id=\"id13\"></a>\n",
    "#### Изучение пропусков в df_company"
   ]
  },
  {
   "cell_type": "code",
   "execution_count": 28,
   "metadata": {},
   "outputs": [
    {
     "name": "stdout",
     "output_type": "stream",
     "text": [
      "Количество пропусков, шт.:\n"
     ]
    },
    {
     "data": {
      "text/plain": [
       "closed_at            214325\n",
       "network_username     122240\n",
       "country_code         109167\n",
       "founded_at           107818\n",
       "category_code         73888\n",
       "domain                70615\n",
       "name                    303\n",
       "status                  302\n",
       "company_id              302\n",
       "investment_rounds       302\n",
       "funding_rounds          302\n",
       "funding_total           302\n",
       "milestones              302\n",
       "dtype: int64"
      ]
     },
     "metadata": {},
     "output_type": "display_data"
    },
    {
     "name": "stdout",
     "output_type": "stream",
     "text": [
      "\n",
      "Количество пропусков, %:\n"
     ]
    },
    {
     "data": {
      "text/plain": [
       "closed_at            98.4\n",
       "network_username     56.1\n",
       "country_code         50.1\n",
       "founded_at           49.5\n",
       "category_code        33.9\n",
       "domain               32.4\n",
       "name                  0.1\n",
       "status                0.1\n",
       "company_id            0.1\n",
       "investment_rounds     0.1\n",
       "funding_rounds        0.1\n",
       "funding_total         0.1\n",
       "milestones            0.1\n",
       "dtype: float64"
      ]
     },
     "metadata": {},
     "output_type": "display_data"
    }
   ],
   "source": [
    "# Выведем количество пропусков во всем датафрейме\n",
    "\n",
    "# В абсолютных значениях\n",
    "print('Количество пропусков, шт.:')\n",
    "display(df_company.isna().sum().sort_values(ascending=False))\n",
    "print()\n",
    "\n",
    "# В относительных значениях\n",
    "print('Количество пропусков, %:')\n",
    "display(round(df_company.isna().mean().sort_values(ascending=False) * 100, 1))"
   ]
  },
  {
   "cell_type": "markdown",
   "metadata": {},
   "source": [
    "Можно заметить, что в последних столбцах, количество пропусков равняется 302 строкам. Они могли быть образованы после объединения датасетов. Проверим, что существует 302 строки, в каждом столбце которых имеется пропуск."
   ]
  },
  {
   "cell_type": "code",
   "execution_count": 29,
   "metadata": {},
   "outputs": [
    {
     "data": {
      "text/plain": [
       "np.int64(302)"
      ]
     },
     "execution_count": 29,
     "metadata": {},
     "output_type": "execute_result"
    }
   ],
   "source": [
    "# Найдем количество строк, в которых во всех столбцах имеются пропуски\n",
    "columns = df_company.columns.tolist()\n",
    "df_company[columns].isna().all(axis=1).sum()"
   ]
  },
  {
   "cell_type": "markdown",
   "metadata": {},
   "source": [
    "Таких строк нашлось 302. Удалим их."
   ]
  },
  {
   "cell_type": "code",
   "execution_count": 30,
   "metadata": {},
   "outputs": [
    {
     "name": "stdout",
     "output_type": "stream",
     "text": [
      "Количество пропусков, шт.:\n"
     ]
    },
    {
     "data": {
      "text/plain": [
       "closed_at            214023\n",
       "network_username     121938\n",
       "country_code         108865\n",
       "founded_at           107516\n",
       "category_code         73586\n",
       "domain                70313\n",
       "name                      1\n",
       "status                    0\n",
       "company_id                0\n",
       "investment_rounds         0\n",
       "funding_rounds            0\n",
       "funding_total             0\n",
       "milestones                0\n",
       "dtype: int64"
      ]
     },
     "metadata": {},
     "output_type": "display_data"
    },
    {
     "name": "stdout",
     "output_type": "stream",
     "text": [
      "\n"
     ]
    },
    {
     "data": {
      "text/plain": [
       "closed_at            98.4\n",
       "network_username     56.1\n",
       "country_code         50.1\n",
       "founded_at           49.4\n",
       "category_code        33.8\n",
       "domain               32.3\n",
       "name                  0.0\n",
       "status                0.0\n",
       "company_id            0.0\n",
       "investment_rounds     0.0\n",
       "funding_rounds        0.0\n",
       "funding_total         0.0\n",
       "milestones            0.0\n",
       "dtype: float64"
      ]
     },
     "metadata": {},
     "output_type": "display_data"
    }
   ],
   "source": [
    "# Очистим датасет от пустых строк\n",
    "df_company = df_company.dropna(subset=['status'])\n",
    "\n",
    "print('Количество пропусков, шт.:')\n",
    "display(df_company.isna().sum().sort_values(ascending=False))\n",
    "print()\n",
    "\n",
    "#Выведем пропуски\n",
    "display(round(df_company.isna().mean().sort_values(ascending=False) * 100, 1))"
   ]
  },
  {
   "cell_type": "markdown",
   "metadata": {},
   "source": [
    "Пропуски в столбце `founded_at` (дата инвестирования) обрабатывать не будем, они не помешают при последующем анализе. \n",
    "\n",
    "Пропуски в столбцах: `network_username`, `country_code`, `category_code`, `domain` заменим на индикатор `unknown`.\n",
    "\n",
    "Строку с одним пропусков в `name` удалим из таблицы."
   ]
  },
  {
   "cell_type": "code",
   "execution_count": 31,
   "metadata": {},
   "outputs": [
    {
     "data": {
      "text/plain": [
       "closed_at            214023\n",
       "founded_at           107516\n",
       "company_id                0\n",
       "category_code             0\n",
       "name                      0\n",
       "status                    0\n",
       "domain                    0\n",
       "network_username          0\n",
       "country_code              0\n",
       "investment_rounds         0\n",
       "funding_rounds            0\n",
       "funding_total             0\n",
       "milestones                0\n",
       "dtype: int64"
      ]
     },
     "metadata": {},
     "output_type": "display_data"
    }
   ],
   "source": [
    "# Заменим пропуски на индикатор `unknown`\n",
    "columns = ['network_username', 'country_code', 'category_code', 'domain']\n",
    "df_company[columns] = df_company[columns].fillna('unknown')\n",
    "\n",
    "df_company = df_company.dropna(subset=['name'])\n",
    "\n",
    "# Проверим корректность замены\n",
    "display(df_company.isna().sum().sort_values(ascending=False))"
   ]
  },
  {
   "cell_type": "markdown",
   "metadata": {},
   "source": [
    "Пропуски обработали корректно."
   ]
  },
  {
   "cell_type": "markdown",
   "metadata": {},
   "source": [
    "<a id=\"id14\"></a>\n",
    "#### Изучение пропусков в df_rounds"
   ]
  },
  {
   "cell_type": "code",
   "execution_count": 32,
   "metadata": {},
   "outputs": [
    {
     "name": "stdout",
     "output_type": "stream",
     "text": [
      "Количество пропусков, шт.:\n"
     ]
    },
    {
     "data": {
      "text/plain": [
       "funded_at              165094\n",
       "funding_round_id       164846\n",
       "company_id             164846\n",
       "funding_round_type     164846\n",
       "raised_amount          164846\n",
       "pre_money_valuation    164846\n",
       "participants           164846\n",
       "is_first_round         164846\n",
       "is_last_round          164846\n",
       "dtype: int64"
      ]
     },
     "metadata": {},
     "output_type": "display_data"
    },
    {
     "name": "stdout",
     "output_type": "stream",
     "text": [
      "\n",
      "Количество пропусков, %:\n"
     ]
    },
    {
     "data": {
      "text/plain": [
       "funded_at              75.8\n",
       "funding_round_id       75.7\n",
       "company_id             75.7\n",
       "funding_round_type     75.7\n",
       "raised_amount          75.7\n",
       "pre_money_valuation    75.7\n",
       "participants           75.7\n",
       "is_first_round         75.7\n",
       "is_last_round          75.7\n",
       "dtype: float64"
      ]
     },
     "metadata": {},
     "output_type": "display_data"
    }
   ],
   "source": [
    "# Выведем количество пропусков во всем датафрейме\n",
    "\n",
    "# В абсолютных значениях\n",
    "print('Количество пропусков, шт.:')\n",
    "display(df_rounds.isna().sum().sort_values(ascending=False))\n",
    "print()\n",
    "\n",
    "# В относительных значениях\n",
    "print('Количество пропусков, %:')\n",
    "display(round(df_rounds.isna().mean().sort_values(ascending=False) * 100, 1))"
   ]
  },
  {
   "cell_type": "markdown",
   "metadata": {},
   "source": [
    "Во всех столбцах наблюдается одинаковое количество пропусков. Как и в датафрейме `df_company` они могли возникнуть после объединения двух датасетов.\n",
    "\n",
    "Проверим, сколько строк имеют пустые значения во всех столбцах."
   ]
  },
  {
   "cell_type": "code",
   "execution_count": 33,
   "metadata": {},
   "outputs": [
    {
     "data": {
      "text/plain": [
       "np.int64(164846)"
      ]
     },
     "execution_count": 33,
     "metadata": {},
     "output_type": "execute_result"
    }
   ],
   "source": [
    "# Найдем количество строк, в которых во всех столбцах имеются пропуски\n",
    "columns = df_rounds.columns.tolist()\n",
    "df_rounds[columns].isna().all(axis=1).sum()"
   ]
  },
  {
   "cell_type": "markdown",
   "metadata": {},
   "source": [
    "В `164846` строках наблюдаются пропуски по всем столбцам. Удалим их."
   ]
  },
  {
   "cell_type": "code",
   "execution_count": 34,
   "metadata": {},
   "outputs": [
    {
     "name": "stdout",
     "output_type": "stream",
     "text": [
      "Количество пропусков, шт.:\n"
     ]
    },
    {
     "data": {
      "text/plain": [
       "funded_at              248\n",
       "funding_round_id         0\n",
       "company_id               0\n",
       "funding_round_type       0\n",
       "raised_amount            0\n",
       "pre_money_valuation      0\n",
       "participants             0\n",
       "is_first_round           0\n",
       "is_last_round            0\n",
       "dtype: int64"
      ]
     },
     "metadata": {},
     "output_type": "display_data"
    },
    {
     "name": "stdout",
     "output_type": "stream",
     "text": [
      "\n",
      "Количество пропусков, %:\n"
     ]
    },
    {
     "data": {
      "text/plain": [
       "funded_at              0.5\n",
       "funding_round_id       0.0\n",
       "company_id             0.0\n",
       "funding_round_type     0.0\n",
       "raised_amount          0.0\n",
       "pre_money_valuation    0.0\n",
       "participants           0.0\n",
       "is_first_round         0.0\n",
       "is_last_round          0.0\n",
       "dtype: float64"
      ]
     },
     "metadata": {},
     "output_type": "display_data"
    }
   ],
   "source": [
    "# Очистим датасет от пустых строк\n",
    "df_rounds = df_rounds.dropna(subset=['is_last_round'])\n",
    "\n",
    "# Выведем пропуски\n",
    "# В абсолютных значениях\n",
    "print('Количество пропусков, шт.:')\n",
    "display(df_rounds.isna().sum().sort_values(ascending=False))\n",
    "print()\n",
    "\n",
    "# В относительных значениях\n",
    "print('Количество пропусков, %:')\n",
    "display(round(df_rounds.isna().mean().sort_values(ascending=False) * 100, 1))"
   ]
  },
  {
   "cell_type": "markdown",
   "metadata": {},
   "source": [
    "Остались пропуски только в столбце `funded_at` (дата финансирования) в количестве 248 строк (0.5%). Пропуски оставим как есть, они не помешают для дальнейшего анализа."
   ]
  },
  {
   "cell_type": "markdown",
   "metadata": {},
   "source": [
    "<a id=\"id15\"></a>\n",
    "#### Изучение пропусков в education.csv\n",
    "Изучим количество пропусков в датасете education.csv"
   ]
  },
  {
   "cell_type": "code",
   "execution_count": 35,
   "metadata": {},
   "outputs": [
    {
     "name": "stdout",
     "output_type": "stream",
     "text": [
      "Количество пропусков, шт.:\n"
     ]
    },
    {
     "data": {
      "text/plain": [
       "graduated_at    51556\n",
       "instituition       55\n",
       "person_id           0\n",
       "id                  0\n",
       "dtype: int64"
      ]
     },
     "metadata": {},
     "output_type": "display_data"
    },
    {
     "name": "stdout",
     "output_type": "stream",
     "text": [
      "\n",
      "Количество пропусков, %:\n"
     ]
    },
    {
     "data": {
      "text/plain": [
       "graduated_at    47.0\n",
       "instituition     0.1\n",
       "person_id        0.0\n",
       "id               0.0\n",
       "dtype: float64"
      ]
     },
     "metadata": {},
     "output_type": "display_data"
    }
   ],
   "source": [
    "# Выведем количество пропусков во всем датафрейме\n",
    "\n",
    "# В абсолютных значениях\n",
    "print('Количество пропусков, шт.:')\n",
    "display(df_education.isna().sum().sort_values(ascending=False))\n",
    "print()\n",
    "\n",
    "# В относительных значениях\n",
    "print('Количество пропусков, %:')\n",
    "display(round(df_education.isna().mean().sort_values(ascending=False) * 100, 1))"
   ]
  },
  {
   "cell_type": "markdown",
   "metadata": {},
   "source": [
    "Наблюдаются пропуски в столбцах:\n",
    "- `graduated_at` (дата получения образования) - 51556 строки (47.0%).\n",
    "- `instituition` (название учебного заведения) - 55 строк (0.1%).\n",
    "\n",
    "В `graduated_at` хранится дата получения образования сотрудника, пропуски заменять не будем, они нам не помешают для дальнейшей работы. В столбце `instituition` количество пропусков составляет 0.1% данных. Хоть пропусков и меньше 0.1%, оставим данные и заменим пропуски на индикатор `unknown`"
   ]
  },
  {
   "cell_type": "code",
   "execution_count": 36,
   "metadata": {},
   "outputs": [
    {
     "data": {
      "text/html": [
       "<div>\n",
       "<style scoped>\n",
       "    .dataframe tbody tr th:only-of-type {\n",
       "        vertical-align: middle;\n",
       "    }\n",
       "\n",
       "    .dataframe tbody tr th {\n",
       "        vertical-align: top;\n",
       "    }\n",
       "\n",
       "    .dataframe thead th {\n",
       "        text-align: right;\n",
       "    }\n",
       "</style>\n",
       "<table border=\"1\" class=\"dataframe\">\n",
       "  <thead>\n",
       "    <tr style=\"text-align: right;\">\n",
       "      <th></th>\n",
       "      <th>id</th>\n",
       "      <th>person_id</th>\n",
       "      <th>instituition</th>\n",
       "      <th>graduated_at</th>\n",
       "    </tr>\n",
       "  </thead>\n",
       "  <tbody>\n",
       "    <tr>\n",
       "      <th>0</th>\n",
       "      <td>1</td>\n",
       "      <td>6117</td>\n",
       "      <td>unknown</td>\n",
       "      <td>NaN</td>\n",
       "    </tr>\n",
       "    <tr>\n",
       "      <th>102</th>\n",
       "      <td>103</td>\n",
       "      <td>1697</td>\n",
       "      <td>unknown</td>\n",
       "      <td>2007-01-01</td>\n",
       "    </tr>\n",
       "    <tr>\n",
       "      <th>160</th>\n",
       "      <td>161</td>\n",
       "      <td>7304</td>\n",
       "      <td>unknown</td>\n",
       "      <td>NaN</td>\n",
       "    </tr>\n",
       "    <tr>\n",
       "      <th>162</th>\n",
       "      <td>163</td>\n",
       "      <td>7306</td>\n",
       "      <td>unknown</td>\n",
       "      <td>NaN</td>\n",
       "    </tr>\n",
       "    <tr>\n",
       "      <th>271</th>\n",
       "      <td>272</td>\n",
       "      <td>7724</td>\n",
       "      <td>unknown</td>\n",
       "      <td>NaN</td>\n",
       "    </tr>\n",
       "  </tbody>\n",
       "</table>\n",
       "</div>"
      ],
      "text/plain": [
       "      id  person_id instituition graduated_at\n",
       "0      1       6117      unknown          NaN\n",
       "102  103       1697      unknown   2007-01-01\n",
       "160  161       7304      unknown          NaN\n",
       "162  163       7306      unknown          NaN\n",
       "271  272       7724      unknown          NaN"
      ]
     },
     "execution_count": 36,
     "metadata": {},
     "output_type": "execute_result"
    }
   ],
   "source": [
    "# Заменим пропуски в столбце `instituition` на `unknown`\n",
    "df_education['instituition'] = df_education['instituition'].fillna('unknown')\n",
    "\n",
    "# Проверим корректность замены пропуска\n",
    "df_education.query('instituition == \"unknown\"').head()"
   ]
  },
  {
   "cell_type": "markdown",
   "metadata": {},
   "source": [
    "Пропуски обработали корректно."
   ]
  },
  {
   "cell_type": "markdown",
   "metadata": {},
   "source": [
    "<a id=\"id16\"></a>\n",
    "#### Изучение пропусков в people.csv\n",
    "Изучим количество пропусков в датасете people.csv"
   ]
  },
  {
   "cell_type": "code",
   "execution_count": 37,
   "metadata": {},
   "outputs": [
    {
     "name": "stdout",
     "output_type": "stream",
     "text": [
      "Количество пропусков, шт.:\n"
     ]
    },
    {
     "data": {
      "text/plain": [
       "company_id          192094\n",
       "network_username    187842\n",
       "first_name               9\n",
       "last_name                4\n",
       "id                       0\n",
       "dtype: int64"
      ]
     },
     "metadata": {},
     "output_type": "display_data"
    },
    {
     "name": "stdout",
     "output_type": "stream",
     "text": [
      "\n",
      "Количество пропусков, %:\n"
     ]
    },
    {
     "data": {
      "text/plain": [
       "company_id          84.7\n",
       "network_username    82.9\n",
       "first_name           0.0\n",
       "last_name            0.0\n",
       "id                   0.0\n",
       "dtype: float64"
      ]
     },
     "metadata": {},
     "output_type": "display_data"
    }
   ],
   "source": [
    "# Выведем количество пропусков во всем датафрейме\n",
    "\n",
    "# В абсолютных значениях\n",
    "print('Количество пропусков, шт.:')\n",
    "display(df_people.isna().sum().sort_values(ascending=False))\n",
    "print()\n",
    "\n",
    "# В относительных значениях\n",
    "print('Количество пропусков, %:')\n",
    "display(round(df_people.isna().mean().sort_values(ascending=False) * 100, 1))"
   ]
  },
  {
   "cell_type": "markdown",
   "metadata": {},
   "source": [
    "Наблюдаются пропуски в столбцах:\n",
    "- `company_id` (идентификатор компании) - 192094 строки (84.7%).\n",
    "- `network_username` (ник в социальных сетях) - 187842 строк (82.9%).\n",
    "- `first_name` (имя сотрудника) - 9 строк (< 0.1% данных)\n",
    "- `last_name` (фамилия сотрудника) - 4 строки (< 0.1% данных) <br><br>\n",
    "\n",
    "- Для большинства строк отсутствует информация об индентификаторе компании (`company_id` - 84.7% пропусков), что не позволит узнать, где сотрудники работали. Это сильно ограничивает выборку для последующего анализа влияния характеристик сотрудников (например, специализации или уровня образования) на успешность стартапа. \n",
    "\n",
    "Пропуски в `company_id` заменим на `-1`, а в остальных столбцах на индикатор `unknown`."
   ]
  },
  {
   "cell_type": "code",
   "execution_count": 38,
   "metadata": {},
   "outputs": [
    {
     "name": "stdout",
     "output_type": "stream",
     "text": [
      "Количество пропусков, %:\n"
     ]
    },
    {
     "data": {
      "text/plain": [
       "id                  0.0\n",
       "first_name          0.0\n",
       "last_name           0.0\n",
       "company_id          0.0\n",
       "network_username    0.0\n",
       "dtype: float64"
      ]
     },
     "metadata": {},
     "output_type": "display_data"
    }
   ],
   "source": [
    "# Заменим пропуски в `company_id` на индикатор `-1`\n",
    "df_people['company_id'] = df_people['company_id'].fillna(-1)\n",
    "\n",
    "# Заменим пропуски на индикатор `unknown`\n",
    "columns = ['network_username', 'first_name', 'last_name']\n",
    "df_people[columns] = df_people[columns].fillna('unknown')\n",
    "\n",
    "# Проверим наличие пропусков\n",
    "print('Количество пропусков, %:')\n",
    "display(round(df_people.isna().mean().sort_values(ascending=False) * 100, 1))"
   ]
  },
  {
   "cell_type": "code",
   "execution_count": 39,
   "metadata": {},
   "outputs": [
    {
     "data": {
      "text/html": [
       "<div>\n",
       "<style scoped>\n",
       "    .dataframe tbody tr th:only-of-type {\n",
       "        vertical-align: middle;\n",
       "    }\n",
       "\n",
       "    .dataframe tbody tr th {\n",
       "        vertical-align: top;\n",
       "    }\n",
       "\n",
       "    .dataframe thead th {\n",
       "        text-align: right;\n",
       "    }\n",
       "</style>\n",
       "<table border=\"1\" class=\"dataframe\">\n",
       "  <thead>\n",
       "    <tr style=\"text-align: right;\">\n",
       "      <th></th>\n",
       "      <th>id</th>\n",
       "      <th>first_name</th>\n",
       "      <th>last_name</th>\n",
       "      <th>company_id</th>\n",
       "      <th>network_username</th>\n",
       "    </tr>\n",
       "  </thead>\n",
       "  <tbody>\n",
       "    <tr>\n",
       "      <th>4516</th>\n",
       "      <td>105758</td>\n",
       "      <td>unknown</td>\n",
       "      <td>Available</td>\n",
       "      <td>-1.0</td>\n",
       "      <td>unknown</td>\n",
       "    </tr>\n",
       "    <tr>\n",
       "      <th>32245</th>\n",
       "      <td>142093</td>\n",
       "      <td>unknown</td>\n",
       "      <td>unknown</td>\n",
       "      <td>-1.0</td>\n",
       "      <td>unknown</td>\n",
       "    </tr>\n",
       "    <tr>\n",
       "      <th>42260</th>\n",
       "      <td>153095</td>\n",
       "      <td>unknown</td>\n",
       "      <td>unknown</td>\n",
       "      <td>-1.0</td>\n",
       "      <td>unknown</td>\n",
       "    </tr>\n",
       "    <tr>\n",
       "      <th>47148</th>\n",
       "      <td>158368</td>\n",
       "      <td>unknown</td>\n",
       "      <td>unknown</td>\n",
       "      <td>-1.0</td>\n",
       "      <td>unknown</td>\n",
       "    </tr>\n",
       "    <tr>\n",
       "      <th>55061</th>\n",
       "      <td>166928</td>\n",
       "      <td>unknown</td>\n",
       "      <td>Delete</td>\n",
       "      <td>-1.0</td>\n",
       "      <td>unknown</td>\n",
       "    </tr>\n",
       "  </tbody>\n",
       "</table>\n",
       "</div>"
      ],
      "text/plain": [
       "           id first_name  last_name  company_id network_username\n",
       "4516   105758    unknown  Available        -1.0          unknown\n",
       "32245  142093    unknown    unknown        -1.0          unknown\n",
       "42260  153095    unknown    unknown        -1.0          unknown\n",
       "47148  158368    unknown    unknown        -1.0          unknown\n",
       "55061  166928    unknown     Delete        -1.0          unknown"
      ]
     },
     "execution_count": 39,
     "metadata": {},
     "output_type": "execute_result"
    }
   ],
   "source": [
    "# Проверим успешность замены пропуска\n",
    "df_people.query('first_name == \"unknown\"').head()"
   ]
  },
  {
   "cell_type": "markdown",
   "metadata": {},
   "source": [
    "Пропуски обработаны корректно."
   ]
  },
  {
   "cell_type": "markdown",
   "metadata": {},
   "source": [
    "<a id=\"id17\"></a>\n",
    "#### Изучение пропусков в degrees.csv\n",
    "Изучим количество пропусков в датасете degrees.csv"
   ]
  },
  {
   "cell_type": "code",
   "execution_count": 40,
   "metadata": {},
   "outputs": [
    {
     "name": "stdout",
     "output_type": "stream",
     "text": [
      "Количество пропусков, шт.:\n"
     ]
    },
    {
     "data": {
      "text/plain": [
       "subject        28312\n",
       "degree_type    11221\n",
       "object_id          0\n",
       "id                 0\n",
       "dtype: int64"
      ]
     },
     "metadata": {},
     "output_type": "display_data"
    },
    {
     "name": "stdout",
     "output_type": "stream",
     "text": [
      "\n",
      "Количество пропусков, %:\n"
     ]
    },
    {
     "data": {
      "text/plain": [
       "subject        25.8\n",
       "degree_type    10.2\n",
       "object_id       0.0\n",
       "id              0.0\n",
       "dtype: float64"
      ]
     },
     "metadata": {},
     "output_type": "display_data"
    }
   ],
   "source": [
    "# Выведем количество пропусков во всем датафрейме\n",
    "\n",
    "# В абсолютных значениях\n",
    "print('Количество пропусков, шт.:')\n",
    "display(df_degrees.isna().sum().sort_values(ascending=False))\n",
    "print()\n",
    "\n",
    "# В относительных значениях\n",
    "print('Количество пропусков, %:')\n",
    "display(round(df_degrees.isna().mean().sort_values(ascending=False) * 100, 1))"
   ]
  },
  {
   "cell_type": "markdown",
   "metadata": {},
   "source": [
    "Наблюдаются пропуски в столбцах:\n",
    "- `subject` (специальность) - 28312 строки (25.8%).\n",
    "- `degree_type` (тип образования) - 11221 строка (10.2%).\n",
    "\n",
    "Значения в данных столбцах носят категориальный характер, заменим пропуски на `unknown`."
   ]
  },
  {
   "cell_type": "code",
   "execution_count": 41,
   "metadata": {},
   "outputs": [
    {
     "name": "stdout",
     "output_type": "stream",
     "text": [
      "Количество пропусков, %:\n"
     ]
    },
    {
     "data": {
      "text/plain": [
       "id             0.0\n",
       "object_id      0.0\n",
       "degree_type    0.0\n",
       "subject        0.0\n",
       "dtype: float64"
      ]
     },
     "metadata": {},
     "output_type": "display_data"
    }
   ],
   "source": [
    "# Заменим пропуски на индикатор `unknown`\n",
    "df_degrees[['subject', 'degree_type']] = df_degrees[['subject', 'degree_type']].fillna('unknown')\n",
    "\n",
    "# Проверим наличие пропусков\n",
    "print('Количество пропусков, %:')\n",
    "display(round(df_degrees.isna().mean().sort_values(ascending=False) * 100, 1))"
   ]
  },
  {
   "cell_type": "code",
   "execution_count": 42,
   "metadata": {},
   "outputs": [
    {
     "data": {
      "text/html": [
       "<div>\n",
       "<style scoped>\n",
       "    .dataframe tbody tr th:only-of-type {\n",
       "        vertical-align: middle;\n",
       "    }\n",
       "\n",
       "    .dataframe tbody tr th {\n",
       "        vertical-align: top;\n",
       "    }\n",
       "\n",
       "    .dataframe thead th {\n",
       "        text-align: right;\n",
       "    }\n",
       "</style>\n",
       "<table border=\"1\" class=\"dataframe\">\n",
       "  <thead>\n",
       "    <tr style=\"text-align: right;\">\n",
       "      <th></th>\n",
       "      <th>id</th>\n",
       "      <th>object_id</th>\n",
       "      <th>degree_type</th>\n",
       "      <th>subject</th>\n",
       "    </tr>\n",
       "  </thead>\n",
       "  <tbody>\n",
       "    <tr>\n",
       "      <th>229</th>\n",
       "      <td>230</td>\n",
       "      <td>p:6950</td>\n",
       "      <td>unknown</td>\n",
       "      <td>unknown</td>\n",
       "    </tr>\n",
       "    <tr>\n",
       "      <th>780</th>\n",
       "      <td>781</td>\n",
       "      <td>p:10857</td>\n",
       "      <td>unknown</td>\n",
       "      <td>unknown</td>\n",
       "    </tr>\n",
       "    <tr>\n",
       "      <th>788</th>\n",
       "      <td>789</td>\n",
       "      <td>p:3267</td>\n",
       "      <td>unknown</td>\n",
       "      <td>unknown</td>\n",
       "    </tr>\n",
       "    <tr>\n",
       "      <th>789</th>\n",
       "      <td>790</td>\n",
       "      <td>p:3267</td>\n",
       "      <td>unknown</td>\n",
       "      <td>unknown</td>\n",
       "    </tr>\n",
       "    <tr>\n",
       "      <th>868</th>\n",
       "      <td>869</td>\n",
       "      <td>p:10570</td>\n",
       "      <td>unknown</td>\n",
       "      <td>unknown</td>\n",
       "    </tr>\n",
       "  </tbody>\n",
       "</table>\n",
       "</div>"
      ],
      "text/plain": [
       "      id object_id degree_type  subject\n",
       "229  230    p:6950     unknown  unknown\n",
       "780  781   p:10857     unknown  unknown\n",
       "788  789    p:3267     unknown  unknown\n",
       "789  790    p:3267     unknown  unknown\n",
       "868  869   p:10570     unknown  unknown"
      ]
     },
     "execution_count": 42,
     "metadata": {},
     "output_type": "execute_result"
    }
   ],
   "source": [
    "# Проверим успешность замены пропуска\n",
    "df_degrees.query('subject == \"unknown\" and degree_type == \"unknown\"').head()"
   ]
  },
  {
   "cell_type": "markdown",
   "metadata": {},
   "source": [
    "Пропуски обработаны корректно."
   ]
  },
  {
   "cell_type": "markdown",
   "metadata": {},
   "source": [
    "<a id=\"id18\"></a>\n",
    "#### Промежуточный вывод"
   ]
  },
  {
   "cell_type": "markdown",
   "metadata": {},
   "source": [
    "- Были изучены пропуски во всех датасетах. В столбцах, которые в дальнейшем будут преобразованы в формат `datetime64`, пропуски были оставлены. Для всех остальных столбцов они были заменены на значение `unknown`.\n",
    "- Было определено, что датафрейм `df_company_and_rounds` состоит из двух склеенных датафреймов, первый из которых содержал в себе информацию о компаниях, а второй - о раундах финансирования. В этом разделе мы разбили его на два отдельных и дали им наименования: `df_company` и `df_rounds`.\n",
    "\n",
    "**Обработка пропусков в датасетах:**\n",
    "- **df_acquisition:**\n",
    "    -  Пропуски в столбце`term_code` в количестве 7576 строк (80.5%) были заменены на `unknown`.\n",
    "    -  Пропуски в столбце`acquired_at` в количестве 29 строк (0.3%) были оставлены как есть.\n",
    "- **df_company:**\n",
    "    - Были удалены 302 строки (0.1%) полностью состоящие из пустых значений.\n",
    "    - Была удалена 1 строка с пропуском в столбце `name`. \n",
    "    - Пропуски в столбцах: `network_username` (121938 строк, 56.1%), `country_code` (108865 строк, 50.1%), `category_code` (73586 строки, 33.8%), `domain` (70313 строк, 32.3%) заменены на индикатор `unknown`.\n",
    "    - Пропуски в столбце `founded_at` в количестве 107516 строк (49.4%) были оставлены как есть.\n",
    "- **df_rounds:**\n",
    "    - Были удалены 164846 строк (75.7%) полностью состоящие из пустых значений.\n",
    "    - Пропуски в столбце `funded_at` в количестве 248 строк (0.5%) были оставлены как есть.\n",
    "- **df_education:**\n",
    "    - Пропуски в столбце `graduated_at` в количестве 51556 строки (47.0%) были оставлены как есть.\n",
    "    - Пропуски в столбце`instituition` в количестве 55 строк (0.1%) были заменены на `unknown`.\n",
    "- **df_people:**\n",
    "    - Пропуски в столбце `company_id` в количестве 192094 строки (84.7%) были заменены на индикатор `-1`\n",
    "    - Пропуски в столбцах: `company_id` (192094 строки, 84.7%), `network_username` (187842 строки, 82.9%), `first_name` (9 строк, 0.1%), `last_name` (4 строки, 0.1%) заменены на индикатор `unknown`.\n",
    "- **df_degrees:**\n",
    "    - Пропуски в столбцах: `subject` (28312 строки, 25.8%) и `degree_type` (11221 строка, 10.2%) заменены на индикатор `unknown`. "
   ]
  },
  {
   "cell_type": "markdown",
   "metadata": {},
   "source": [
    "<a id=\"id19\"></a>\n",
    "### Оптимизация типов данных\n",
    "В этом разделе приведем данные к требуемому типу и оптимизируем для них разрядность."
   ]
  },
  {
   "cell_type": "markdown",
   "metadata": {},
   "source": [
    "<a id=\"id20\"></a>\n",
    "#### Оптимизация типов данных датасета df_acquisition\n",
    "На этапе знакомства с данными было определено, что для следующих столбцов нужно провести оптимизацию типа данных:\n",
    "- `acquired_at`: object --> datetime64.\n",
    "- `price_amount`: int64 --> float64 с оптимизацией разрядности\n",
    "- `acquiring_company_id`, `acquired_company_id`: int64 провести оптимизацию разрядности."
   ]
  },
  {
   "cell_type": "code",
   "execution_count": 43,
   "metadata": {},
   "outputs": [
    {
     "name": "stdout",
     "output_type": "stream",
     "text": [
      "<class 'pandas.core.frame.DataFrame'>\n",
      "RangeIndex: 9407 entries, 0 to 9406\n",
      "Data columns (total 6 columns):\n",
      " #   Column                Non-Null Count  Dtype         \n",
      "---  ------                --------------  -----         \n",
      " 0   id                    9407 non-null   int64         \n",
      " 1   acquiring_company_id  9407 non-null   int32         \n",
      " 2   acquired_company_id   9407 non-null   int32         \n",
      " 3   term_code             9407 non-null   object        \n",
      " 4   price_amount          9407 non-null   float64       \n",
      " 5   acquired_at           9378 non-null   datetime64[ns]\n",
      "dtypes: datetime64[ns](1), float64(1), int32(2), int64(1), object(1)\n",
      "memory usage: 367.6+ KB\n"
     ]
    }
   ],
   "source": [
    "# Обработаем столбцы, приведем к требуемому типу\n",
    "df_acquisition['acquired_at'] = pd.to_datetime(df_acquisition['acquired_at'])\n",
    "df_acquisition['price_amount'] = pd.to_numeric(df_acquisition['price_amount'], downcast='float')\n",
    "\n",
    "for column in ['acquiring_company_id', 'acquired_company_id']:\n",
    "    df_acquisition[column] = pd.to_numeric(df_acquisition[column], downcast='integer')\n",
    "\n",
    "# Проверим оптимизацию типов данных\n",
    "df_acquisition.info()"
   ]
  },
  {
   "cell_type": "markdown",
   "metadata": {},
   "source": [
    "Тип данных для всех столбцов установлен корректно."
   ]
  },
  {
   "cell_type": "markdown",
   "metadata": {},
   "source": [
    "#### Оптимизация типов данных датасета df_company\n",
    "На этапе знакомства с данными было определено, что для следующих столбцов нужно провести оптимизацию типа данных:\n",
    "- `founded_at`,  `closed_at`: object --> datetime64.\n",
    "- `company_id`: float64 --> int64\n",
    "- `company_id`, `investment_rounds`, `funding_rounds`, `milestones`: float64 --> int64 с оптимизацией разрядности."
   ]
  },
  {
   "cell_type": "code",
   "execution_count": 44,
   "metadata": {},
   "outputs": [
    {
     "data": {
      "text/plain": [
       "dtype('float64')"
      ]
     },
     "execution_count": 44,
     "metadata": {},
     "output_type": "execute_result"
    }
   ],
   "source": [
    "df_company['company_id'].dtypes"
   ]
  },
  {
   "cell_type": "code",
   "execution_count": 45,
   "metadata": {},
   "outputs": [
    {
     "name": "stdout",
     "output_type": "stream",
     "text": [
      "<class 'pandas.core.frame.DataFrame'>\n",
      "Index: 217471 entries, 0 to 217471\n",
      "Data columns (total 13 columns):\n",
      " #   Column             Non-Null Count   Dtype         \n",
      "---  ------             --------------   -----         \n",
      " 0   company_id         217471 non-null  int64         \n",
      " 1   name               217471 non-null  object        \n",
      " 2   category_code      217471 non-null  object        \n",
      " 3   status             217471 non-null  object        \n",
      " 4   founded_at         109955 non-null  datetime64[ns]\n",
      " 5   closed_at          3448 non-null    datetime64[ns]\n",
      " 6   domain             217471 non-null  object        \n",
      " 7   network_username   217471 non-null  object        \n",
      " 8   country_code       217471 non-null  object        \n",
      " 9   investment_rounds  217471 non-null  int16         \n",
      " 10  funding_rounds     217471 non-null  int8          \n",
      " 11  funding_total      217471 non-null  float64       \n",
      " 12  milestones         217471 non-null  int8          \n",
      "dtypes: datetime64[ns](2), float64(1), int16(1), int64(1), int8(2), object(6)\n",
      "memory usage: 19.1+ MB\n"
     ]
    }
   ],
   "source": [
    "# Приведем типы столбцов к требуемым\n",
    "for column in ['founded_at', 'closed_at']:\n",
    "    df_company[column] = pd.to_datetime(df_company[column])\n",
    "\n",
    "for column in ['investment_rounds', 'funding_rounds', 'milestones']:\n",
    "    df_company[column] = pd.to_numeric(df_company[column], downcast='integer')\n",
    "\n",
    "df_company['company_id'] = df_company['company_id'].astype('int64')\n",
    "\n",
    "# Проверим оптимизацию типов данных\n",
    "df_company.info()"
   ]
  },
  {
   "cell_type": "markdown",
   "metadata": {},
   "source": [
    "#### Оптимизация типов данных датасета df_rounds\n",
    "На этапе знакомства с данными было определено, что для следующих столбцов нужно провести оптимизацию типа данных:\n",
    "- `funded_at`: object --> datetime64.\n",
    "- `company_id`, `funding_round_id`, `participants`, `milestones`: float64 --> int64 с оптимизацией разрядности.\n",
    "- `is_first_round`, `is_last_round`: float64 --> bool."
   ]
  },
  {
   "cell_type": "code",
   "execution_count": 46,
   "metadata": {},
   "outputs": [
    {
     "name": "stdout",
     "output_type": "stream",
     "text": [
      "<class 'pandas.core.frame.DataFrame'>\n",
      "Index: 52928 entries, 0 to 217773\n",
      "Data columns (total 9 columns):\n",
      " #   Column               Non-Null Count  Dtype         \n",
      "---  ------               --------------  -----         \n",
      " 0   funding_round_id     52928 non-null  int32         \n",
      " 1   company_id           52928 non-null  int64         \n",
      " 2   funded_at            52680 non-null  datetime64[ns]\n",
      " 3   funding_round_type   52928 non-null  object        \n",
      " 4   raised_amount        52928 non-null  float64       \n",
      " 5   pre_money_valuation  52928 non-null  float64       \n",
      " 6   participants         52928 non-null  int8          \n",
      " 7   is_first_round       52928 non-null  bool          \n",
      " 8   is_last_round        52928 non-null  bool          \n",
      "dtypes: bool(2), datetime64[ns](1), float64(2), int32(1), int64(1), int8(1), object(1)\n",
      "memory usage: 2.8+ MB\n"
     ]
    }
   ],
   "source": [
    "# Приведем типы столбцов к требуемым\n",
    "df_rounds['funded_at'] = pd.to_datetime(df_rounds['funded_at'])\n",
    "\n",
    "for column in ['funding_round_id', 'participants']:\n",
    "    df_rounds[column] = pd.to_numeric(df_rounds[column], downcast='integer')\n",
    "\n",
    "df_rounds[['is_first_round', 'is_last_round']] = df_rounds[['is_first_round', 'is_last_round']].astype('bool')\n",
    "\n",
    "df_rounds['company_id'] = df_rounds['company_id'].astype('int64')\n",
    "\n",
    "# Проверим оптимизацию типов данных\n",
    "df_rounds.info()"
   ]
  },
  {
   "cell_type": "markdown",
   "metadata": {},
   "source": [
    "#### Оптимизация типов данных датасета df_education\n",
    "На этапе знакомства с данными было определено, что для следующих столбцов нужно провести оптимизацию типа данных:\n",
    "- `graduated_at`: object --> datetime64.\n",
    "- `person_id`: int64 -- > провести оптимизацию разрядности"
   ]
  },
  {
   "cell_type": "code",
   "execution_count": 47,
   "metadata": {},
   "outputs": [
    {
     "name": "stdout",
     "output_type": "stream",
     "text": [
      "<class 'pandas.core.frame.DataFrame'>\n",
      "RangeIndex: 109610 entries, 0 to 109609\n",
      "Data columns (total 4 columns):\n",
      " #   Column        Non-Null Count   Dtype         \n",
      "---  ------        --------------   -----         \n",
      " 0   id            109610 non-null  int64         \n",
      " 1   person_id     109610 non-null  int64         \n",
      " 2   instituition  109610 non-null  object        \n",
      " 3   graduated_at  58054 non-null   datetime64[ns]\n",
      "dtypes: datetime64[ns](1), int64(2), object(1)\n",
      "memory usage: 3.3+ MB\n"
     ]
    }
   ],
   "source": [
    "# Приведем типы столбцов к требуемым\n",
    "df_education['graduated_at'] = pd.to_datetime(df_education['graduated_at'])\n",
    "\n",
    "# Проверим оптимизацию типов данных\n",
    "df_education.info()"
   ]
  },
  {
   "cell_type": "markdown",
   "metadata": {},
   "source": [
    "#### Оптимизация типов данных датасета df_people\n",
    "На этапе знакомства с данными было определено, что для следующих столбцов нужно провести оптимизацию типа данных:\n",
    "- `company_id `: float64 --> int64 с оптимизацией разрядности\n",
    "- `id`: int64 -- > провести оптимизацию разрядности"
   ]
  },
  {
   "cell_type": "code",
   "execution_count": 48,
   "metadata": {},
   "outputs": [
    {
     "name": "stdout",
     "output_type": "stream",
     "text": [
      "<class 'pandas.core.frame.DataFrame'>\n",
      "RangeIndex: 226709 entries, 0 to 226708\n",
      "Data columns (total 5 columns):\n",
      " #   Column            Non-Null Count   Dtype \n",
      "---  ------            --------------   ----- \n",
      " 0   id                226709 non-null  int64 \n",
      " 1   first_name        226709 non-null  object\n",
      " 2   last_name         226709 non-null  object\n",
      " 3   company_id        226709 non-null  int64 \n",
      " 4   network_username  226709 non-null  object\n",
      "dtypes: int64(2), object(3)\n",
      "memory usage: 8.6+ MB\n"
     ]
    }
   ],
   "source": [
    "# Приведем типы столбцов к требуемым\n",
    "df_people['company_id'] = df_people['company_id'].astype('int64')\n",
    "\n",
    "# Проверим оптимизацию типов данных\n",
    "df_people.info()"
   ]
  },
  {
   "cell_type": "markdown",
   "metadata": {},
   "source": [
    "#### Оптимизация типов данных датасета df_degrees\n",
    "На этапе знакомства с данными было определено, что для следующих столбцов нужно провести оптимизацию типа данных:\n",
    "- `object_id`: object --> int с оптимизацией разрядности, но перед этим необходимо удалить префикс `p:`.\n",
    "- `id`: int64 -- > провести оптимизацию разрядности"
   ]
  },
  {
   "cell_type": "code",
   "execution_count": 49,
   "metadata": {},
   "outputs": [
    {
     "name": "stdout",
     "output_type": "stream",
     "text": [
      "<class 'pandas.core.frame.DataFrame'>\n",
      "RangeIndex: 109610 entries, 0 to 109609\n",
      "Data columns (total 4 columns):\n",
      " #   Column       Non-Null Count   Dtype \n",
      "---  ------       --------------   ----- \n",
      " 0   id           109610 non-null  int64 \n",
      " 1   object_id    109610 non-null  int64 \n",
      " 2   degree_type  109610 non-null  object\n",
      " 3   subject      109610 non-null  object\n",
      "dtypes: int64(2), object(2)\n",
      "memory usage: 3.3+ MB\n"
     ]
    }
   ],
   "source": [
    "# Уберем префикс \"p:\" из столбца \"object_id\"\n",
    "df_degrees['object_id'] = df_degrees['object_id'].str.replace('p:', '')\n",
    "\n",
    "# Преобразуем типы данных к требуемым\n",
    "df_degrees['object_id'] = df_degrees['object_id'].astype('int64')\n",
    "\n",
    "# Проверим оптимизацию типов данных\n",
    "df_degrees.info()"
   ]
  },
  {
   "cell_type": "markdown",
   "metadata": {},
   "source": [
    "#### Предварительный вывод"
   ]
  },
  {
   "cell_type": "markdown",
   "metadata": {},
   "source": [
    "На данном этапе были поменяны или оптимизированы типы данных для всех столбцов датафреймов:\n",
    "- **df_acquisition:**\n",
    "    - `acquired_at`: object --> datetime64.\n",
    "    - `price_amount`: int64 --> float64 с оптимизацией разрядности.\n",
    "    - `acquiring_company_id`, `acquired_company_id`: проведена оптимизация разрядности для `int64`.\n",
    "- **df_company:**\n",
    "    - `founded_at`,  `closed_at`: object --> datetime64.\n",
    "    - `company_id`: float64 --> int64.\n",
    "    - `investment_rounds`, `funding_rounds`, `milestones`: float64 --> int64 с оптимизацией разрядности.\n",
    "- **df_rounds:**\n",
    "    - `funded_at`: object --> datetime64.\n",
    "    - `company_id`: float64 --> int64.\n",
    "    - `funding_round_id`, `participants`, `milestones`: float64 --> int64 с оптимизацией разрядности.\n",
    "    - `is_first_round`, `is_last_round`: float64 --> bool.\n",
    "- **df_education:**\n",
    "    - `graduated_at`: object --> datetime64.\n",
    "- **df_people:**\n",
    "    - `company_id `: float64 --> int64.\n",
    "- **df_degrees:**\n",
    "    - Для значений столбца `object_id` был убран префикс `p:`.\n",
    "    - `object_id`: object --> int64."
   ]
  },
  {
   "cell_type": "markdown",
   "metadata": {},
   "source": [
    "### Обработка явных и неявных дубликатов\n",
    "В этом разделе для каждого датасета обработаем явные и неявные дубликаты. Для категориальных величин проверим корректность данных."
   ]
  },
  {
   "cell_type": "markdown",
   "metadata": {},
   "source": [
    "#### Обработка дубликатов в датасете df_acquisition"
   ]
  },
  {
   "cell_type": "markdown",
   "metadata": {},
   "source": [
    "В этом датафрейме в текстовом типе данных хранятся значения только в столбце `term_code`. Изучим его уникальные значения."
   ]
  },
  {
   "cell_type": "code",
   "execution_count": 50,
   "metadata": {},
   "outputs": [
    {
     "data": {
      "text/plain": [
       "array(['unknown', 'cash', 'stock', 'cash_and_stock'], dtype=object)"
      ]
     },
     "execution_count": 50,
     "metadata": {},
     "output_type": "execute_result"
    }
   ],
   "source": [
    "# Изучим уникальные значения столбца `term_code`\n",
    "df_acquisition['term_code'].unique()"
   ]
  },
  {
   "cell_type": "markdown",
   "metadata": {},
   "source": [
    "В столбце не наблюдаются неявных дубликатов.\n",
    "\n",
    "Проведем теперь поиск полных дубликатов по всем строкам."
   ]
  },
  {
   "cell_type": "code",
   "execution_count": 51,
   "metadata": {},
   "outputs": [
    {
     "data": {
      "text/plain": [
       "np.int64(0)"
      ]
     },
     "execution_count": 51,
     "metadata": {},
     "output_type": "execute_result"
    }
   ],
   "source": [
    "# Высчитаем количество полных дубликатов\n",
    "df_acquisition.duplicated().sum()"
   ]
  },
  {
   "cell_type": "markdown",
   "metadata": {},
   "source": [
    "Полные дубликаты не найдены.\n",
    "\n",
    "Рассмотрим наличие дубликатов в идентификаторе покупки."
   ]
  },
  {
   "cell_type": "code",
   "execution_count": 52,
   "metadata": {},
   "outputs": [
    {
     "data": {
      "text/plain": [
       "np.int64(0)"
      ]
     },
     "execution_count": 52,
     "metadata": {},
     "output_type": "execute_result"
    }
   ],
   "source": [
    "df_acquisition['id'].duplicated().sum()"
   ]
  },
  {
   "cell_type": "markdown",
   "metadata": {},
   "source": [
    "Дубликаты не выявлены. Датасет готов к работе."
   ]
  },
  {
   "cell_type": "markdown",
   "metadata": {},
   "source": [
    "#### Обработка дубликатов в датасете df_company"
   ]
  },
  {
   "cell_type": "markdown",
   "metadata": {},
   "source": [
    "Приведем все столбцы, содержащие формат данных `object`, к lower_case."
   ]
  },
  {
   "cell_type": "code",
   "execution_count": 53,
   "metadata": {},
   "outputs": [
    {
     "data": {
      "text/html": [
       "<div>\n",
       "<style scoped>\n",
       "    .dataframe tbody tr th:only-of-type {\n",
       "        vertical-align: middle;\n",
       "    }\n",
       "\n",
       "    .dataframe tbody tr th {\n",
       "        vertical-align: top;\n",
       "    }\n",
       "\n",
       "    .dataframe thead th {\n",
       "        text-align: right;\n",
       "    }\n",
       "</style>\n",
       "<table border=\"1\" class=\"dataframe\">\n",
       "  <thead>\n",
       "    <tr style=\"text-align: right;\">\n",
       "      <th></th>\n",
       "      <th>company_id</th>\n",
       "      <th>name</th>\n",
       "      <th>category_code</th>\n",
       "      <th>status</th>\n",
       "      <th>founded_at</th>\n",
       "      <th>closed_at</th>\n",
       "      <th>domain</th>\n",
       "      <th>network_username</th>\n",
       "      <th>country_code</th>\n",
       "      <th>investment_rounds</th>\n",
       "      <th>funding_rounds</th>\n",
       "      <th>funding_total</th>\n",
       "      <th>milestones</th>\n",
       "    </tr>\n",
       "  </thead>\n",
       "  <tbody>\n",
       "    <tr>\n",
       "      <th>0</th>\n",
       "      <td>1</td>\n",
       "      <td>wetpaint</td>\n",
       "      <td>web</td>\n",
       "      <td>operating</td>\n",
       "      <td>2005-10-17</td>\n",
       "      <td>NaT</td>\n",
       "      <td>wetpaint-inc.com</td>\n",
       "      <td>bachelrwetpaint</td>\n",
       "      <td>usa</td>\n",
       "      <td>0</td>\n",
       "      <td>3</td>\n",
       "      <td>39750000.0</td>\n",
       "      <td>5</td>\n",
       "    </tr>\n",
       "    <tr>\n",
       "      <th>1</th>\n",
       "      <td>1</td>\n",
       "      <td>wetpaint</td>\n",
       "      <td>web</td>\n",
       "      <td>operating</td>\n",
       "      <td>2005-10-17</td>\n",
       "      <td>NaT</td>\n",
       "      <td>wetpaint-inc.com</td>\n",
       "      <td>bachelrwetpaint</td>\n",
       "      <td>usa</td>\n",
       "      <td>0</td>\n",
       "      <td>3</td>\n",
       "      <td>39750000.0</td>\n",
       "      <td>5</td>\n",
       "    </tr>\n",
       "    <tr>\n",
       "      <th>2</th>\n",
       "      <td>1</td>\n",
       "      <td>wetpaint</td>\n",
       "      <td>web</td>\n",
       "      <td>operating</td>\n",
       "      <td>2005-10-17</td>\n",
       "      <td>NaT</td>\n",
       "      <td>wetpaint-inc.com</td>\n",
       "      <td>bachelrwetpaint</td>\n",
       "      <td>usa</td>\n",
       "      <td>0</td>\n",
       "      <td>3</td>\n",
       "      <td>39750000.0</td>\n",
       "      <td>5</td>\n",
       "    </tr>\n",
       "    <tr>\n",
       "      <th>3</th>\n",
       "      <td>10</td>\n",
       "      <td>flektor</td>\n",
       "      <td>games_video</td>\n",
       "      <td>acquired</td>\n",
       "      <td>NaT</td>\n",
       "      <td>NaT</td>\n",
       "      <td>flektor.com</td>\n",
       "      <td>unknown</td>\n",
       "      <td>usa</td>\n",
       "      <td>0</td>\n",
       "      <td>0</td>\n",
       "      <td>0.0</td>\n",
       "      <td>0</td>\n",
       "    </tr>\n",
       "    <tr>\n",
       "      <th>4</th>\n",
       "      <td>100</td>\n",
       "      <td>there</td>\n",
       "      <td>games_video</td>\n",
       "      <td>acquired</td>\n",
       "      <td>NaT</td>\n",
       "      <td>NaT</td>\n",
       "      <td>there.com</td>\n",
       "      <td>unknown</td>\n",
       "      <td>usa</td>\n",
       "      <td>0</td>\n",
       "      <td>0</td>\n",
       "      <td>0.0</td>\n",
       "      <td>4</td>\n",
       "    </tr>\n",
       "  </tbody>\n",
       "</table>\n",
       "</div>"
      ],
      "text/plain": [
       "   company_id      name category_code     status founded_at closed_at  \\\n",
       "0           1  wetpaint           web  operating 2005-10-17       NaT   \n",
       "1           1  wetpaint           web  operating 2005-10-17       NaT   \n",
       "2           1  wetpaint           web  operating 2005-10-17       NaT   \n",
       "3          10   flektor   games_video   acquired        NaT       NaT   \n",
       "4         100     there   games_video   acquired        NaT       NaT   \n",
       "\n",
       "             domain network_username country_code  investment_rounds  \\\n",
       "0  wetpaint-inc.com  bachelrwetpaint          usa                  0   \n",
       "1  wetpaint-inc.com  bachelrwetpaint          usa                  0   \n",
       "2  wetpaint-inc.com  bachelrwetpaint          usa                  0   \n",
       "3       flektor.com          unknown          usa                  0   \n",
       "4         there.com          unknown          usa                  0   \n",
       "\n",
       "   funding_rounds  funding_total  milestones  \n",
       "0               3     39750000.0           5  \n",
       "1               3     39750000.0           5  \n",
       "2               3     39750000.0           5  \n",
       "3               0            0.0           0  \n",
       "4               0            0.0           4  "
      ]
     },
     "execution_count": 53,
     "metadata": {},
     "output_type": "execute_result"
    }
   ],
   "source": [
    "# Отберем столбцы с форматом object\n",
    "columns = df_company.select_dtypes(include=['object']).columns.tolist()\n",
    "\n",
    "# Приведем все колонки к lower_case\n",
    "for column in columns:\n",
    "    df_company[column] = df_company[column].str.lower()\n",
    "\n",
    "# Отобразим датафрейм\n",
    "df_company.head()"
   ]
  },
  {
   "cell_type": "markdown",
   "metadata": {
    "scrolled": true
   },
   "source": [
    "Найдем полные дубликаты и удалим их."
   ]
  },
  {
   "cell_type": "code",
   "execution_count": 54,
   "metadata": {},
   "outputs": [
    {
     "name": "stdout",
     "output_type": "stream",
     "text": [
      "Удалено полных дубликатов в датасете: 20919 (9.6%)\n"
     ]
    }
   ],
   "source": [
    "# Удалим дубликаты\n",
    "num_rows = df_company.shape[0]\n",
    "duplicates = df_company.duplicated().sum()\n",
    "df_company = df_company.drop_duplicates()\n",
    "ratio_duplicates = round(duplicates * 100 / num_rows, 1)\n",
    "print(f'Удалено полных дубликатов в датасете: {duplicates} ({ratio_duplicates}%)')"
   ]
  },
  {
   "cell_type": "markdown",
   "metadata": {},
   "source": [
    "Проверим наличие неявных дубликатов. Строки в столбце `company_id` должны быть уникальными."
   ]
  },
  {
   "cell_type": "code",
   "execution_count": 55,
   "metadata": {},
   "outputs": [
    {
     "data": {
      "text/plain": [
       "np.int64(0)"
      ]
     },
     "execution_count": 55,
     "metadata": {},
     "output_type": "execute_result"
    }
   ],
   "source": [
    "df_company['company_id'].duplicated().sum()"
   ]
  },
  {
   "cell_type": "markdown",
   "metadata": {},
   "source": [
    "В `company_id` нет дубликатов. \n",
    "\n",
    "Рассмотрим уникальные значения в категориальных столбцах"
   ]
  },
  {
   "cell_type": "code",
   "execution_count": 56,
   "metadata": {},
   "outputs": [
    {
     "name": "stdout",
     "output_type": "stream",
     "text": [
      "Уникальные значения в столбце category_code\n",
      "['advertising' 'analytics' 'automotive' 'biotech' 'cleantech' 'consulting'\n",
      " 'design' 'ecommerce' 'education' 'enterprise' 'fashion' 'finance'\n",
      " 'games_video' 'government' 'hardware' 'health' 'hospitality' 'legal'\n",
      " 'local' 'manufacturing' 'medical' 'messaging' 'mobile' 'music' 'nanotech'\n",
      " 'network_hosting' 'news' 'nonprofit' 'other' 'pets' 'photo_video'\n",
      " 'public_relations' 'real_estate' 'search' 'security' 'semiconductor'\n",
      " 'social' 'software' 'sports' 'transportation' 'travel' 'unknown' 'web']\n",
      "\n",
      "Уникальные значения в столбце status\n",
      "['acquired' 'closed' 'ipo' 'operating']\n",
      "\n",
      "Уникальные значения в столбце country_code\n",
      "['afg' 'ago' 'aia' 'alb' 'and' 'ant' 'ara' 'are' 'arg' 'arm' 'atg' 'aus'\n",
      " 'aut' 'aze' 'bdi' 'bel' 'ben' 'bgd' 'bgr' 'bhr' 'bhs' 'bih' 'blr' 'blz'\n",
      " 'bmu' 'bol' 'bra' 'brb' 'brn' 'bwa' 'can' 'che' 'chl' 'chn' 'civ' 'cmr'\n",
      " 'col' 'cri' 'css' 'cub' 'cym' 'cyp' 'cze' 'deu' 'dma' 'dnk' 'dom' 'dza'\n",
      " 'ecu' 'egy' 'esp' 'est' 'eth' 'fin' 'fra' 'fst' 'gbr' 'geo' 'gha' 'gib'\n",
      " 'gin' 'glp' 'grc' 'grd' 'gtm' 'hkg' 'hmi' 'hnd' 'hrv' 'hti' 'hun' 'idn'\n",
      " 'ind' 'iot' 'irl' 'irn' 'irq' 'isl' 'isr' 'ita' 'jam' 'jor' 'jpn' 'kaz'\n",
      " 'ken' 'kgz' 'khm' 'kor' 'kwt' 'lao' 'lbn' 'lie' 'lka' 'lso' 'ltu' 'lux'\n",
      " 'lva' 'mac' 'mar' 'mco' 'mda' 'mdg' 'mdv' 'mex' 'mkd' 'mlt' 'mmr' 'mtq'\n",
      " 'mus' 'mys' 'nam' 'ncl' 'ner' 'nfk' 'nga' 'nic' 'nld' 'nor' 'npl' 'nru'\n",
      " 'nzl' 'omn' 'pak' 'pan' 'pcn' 'per' 'phl' 'pol' 'pri' 'prk' 'prt' 'pry'\n",
      " 'pst' 'qat' 'reu' 'rom' 'rus' 'rwa' 'sau' 'sdn' 'sen' 'sgp' 'sle' 'slv'\n",
      " 'smr' 'som' 'sur' 'svk' 'svn' 'swe' 'swz' 'syc' 'syr' 'tha' 'tjk' 'tto'\n",
      " 'tun' 'tur' 'twn' 'tza' 'uga' 'ukr' 'umi' 'unknown' 'ury' 'usa' 'uzb'\n",
      " 'vct' 'ven' 'vgb' 'vir' 'vnm' 'yem' 'zaf' 'zmb' 'zwe']\n",
      "\n"
     ]
    }
   ],
   "source": [
    "# Выведем уникальные значения столбцов с категориальными данными\n",
    "for column in ['category_code', 'status', 'country_code']:\n",
    "    print(f'Уникальные значения в столбце {column}')\n",
    "    print(df_company[column].sort_values().unique(), end='\\n\\n')"
   ]
  },
  {
   "cell_type": "markdown",
   "metadata": {},
   "source": [
    "Все значения уникальны, неявных дубликатов не выявлено.\n",
    "\n",
    "Посмотрим на уникальные значения в полях, содержащих дискретные значения: `investment_rounds`, `funding_rounds`, `milestones`."
   ]
  },
  {
   "cell_type": "code",
   "execution_count": 57,
   "metadata": {},
   "outputs": [
    {
     "name": "stdout",
     "output_type": "stream",
     "text": [
      "Уникальные значения в столбце investment_rounds\n",
      "[  0   1   2   3   4   5   6   7   8   9  10  11  12  13  14  15  16  17\n",
      "  18  19  20  21  22  24  25  29  30  32  33  37  38  40  44  49  51  58\n",
      "  68  89  96 125 297 478]\n",
      "\n",
      "Уникальные значения в столбце funding_rounds\n",
      "[ 0  1  2  3  4  5  6  7  8  9 10 11 12 13 14 15]\n",
      "\n",
      "Уникальные значения в столбце milestones\n",
      "[0 1 2 3 4 5 6 7 8 9]\n",
      "\n"
     ]
    }
   ],
   "source": [
    "# Выведем уникальные значения столбцов с дискретными данными\n",
    "for column in ['investment_rounds', 'funding_rounds', 'milestones']:\n",
    "    print(f'Уникальные значения в столбце {column}')\n",
    "    print(df_company[column].sort_values().unique(), end='\\n\\n')"
   ]
  },
  {
   "cell_type": "markdown",
   "metadata": {},
   "source": [
    "Здесь проблем не наблюдается.\n",
    "\n",
    "Датасет готов к работе."
   ]
  },
  {
   "cell_type": "markdown",
   "metadata": {},
   "source": [
    "#### Обработка дубликатов в датасете df_rounds"
   ]
  },
  {
   "cell_type": "markdown",
   "metadata": {},
   "source": [
    "Рассмотрим уникальные значения в столбце с категориальными значениями - `funding_round_type` и в столбце с дискретными значениями - `participants`."
   ]
  },
  {
   "cell_type": "code",
   "execution_count": 58,
   "metadata": {},
   "outputs": [
    {
     "name": "stdout",
     "output_type": "stream",
     "text": [
      "Уникальные значения в столбце funding_round_type\n",
      "['angel' 'crowdfunding' 'other' 'post-ipo' 'private-equity' 'series-a'\n",
      " 'series-b' 'series-c+' 'venture']\n",
      "\n",
      "Уникальные значения в столбце participants\n",
      "[ 0  1  2  3  4  5  6  7  8  9 10 11 12 13 14 15 16 17 18 19 20 21 22 23\n",
      " 24 25 26 27 28 29 32 36]\n",
      "\n"
     ]
    }
   ],
   "source": [
    "# Выведем уникальные значения\n",
    "for column in ['funding_round_type', 'participants']:\n",
    "    print(f'Уникальные значения в столбце {column}')\n",
    "    print(df_rounds[column].sort_values().unique(), end='\\n\\n')"
   ]
  },
  {
   "cell_type": "markdown",
   "metadata": {},
   "source": [
    "Значения в столбцах корректные.\n",
    "\n",
    "Найдем количество полных дубликатов и удалим их."
   ]
  },
  {
   "cell_type": "code",
   "execution_count": 59,
   "metadata": {},
   "outputs": [
    {
     "name": "stdout",
     "output_type": "stream",
     "text": [
      "Удалено полных дубликатов в датасете 0\n"
     ]
    }
   ],
   "source": [
    "# Удалим полные дубликаты\n",
    "duplicates = df_rounds.duplicated().sum()\n",
    "df_rounds = df_rounds.drop_duplicates()\n",
    "print(f'Удалено полных дубликатов в датасете {duplicates}')"
   ]
  },
  {
   "cell_type": "markdown",
   "metadata": {},
   "source": [
    "Полные дубликаты не найдены.\n",
    "\n",
    "Рассмотрим дубликаты по ключевому столбцу `funding_round_id`."
   ]
  },
  {
   "cell_type": "code",
   "execution_count": 60,
   "metadata": {},
   "outputs": [
    {
     "data": {
      "text/plain": [
       "np.int64(0)"
      ]
     },
     "execution_count": 60,
     "metadata": {},
     "output_type": "execute_result"
    }
   ],
   "source": [
    "# Найдем дубликаты по столбцу `company_id`\n",
    "df_rounds['funding_round_id'].duplicated().sum()"
   ]
  },
  {
   "cell_type": "markdown",
   "metadata": {},
   "source": [
    "Дубликатов не выявлено. Датасет готов к работе."
   ]
  },
  {
   "cell_type": "markdown",
   "metadata": {},
   "source": [
    "#### Обработка дубликатов в датасете df_education"
   ]
  },
  {
   "cell_type": "markdown",
   "metadata": {},
   "source": [
    "Рассмотрим наличие полных дубликатов и дубликатов в ключевом столбце `id`."
   ]
  },
  {
   "cell_type": "code",
   "execution_count": 61,
   "metadata": {},
   "outputs": [
    {
     "name": "stdout",
     "output_type": "stream",
     "text": [
      "Удалено полных дубликатов в датасете: 0\n",
      "Найдено дубликатов в столбце \"id\": 0\n"
     ]
    }
   ],
   "source": [
    "# Удалим полные дубликаты\n",
    "duplicates = df_education.duplicated().sum()\n",
    "df_education = df_education.drop_duplicates()\n",
    "print(f'Удалено полных дубликатов в датасете: {duplicates}')\n",
    "duplicates = df_education['id'].duplicated().sum()\n",
    "print(f'Найдено дубликатов в столбце \"id\": {duplicates}')"
   ]
  },
  {
   "cell_type": "markdown",
   "metadata": {},
   "source": [
    "Дубликатов не выявлено. Датасет готов к работе."
   ]
  },
  {
   "cell_type": "markdown",
   "metadata": {},
   "source": [
    "#### Обработка дубликатов в датасете df_people"
   ]
  },
  {
   "cell_type": "markdown",
   "metadata": {},
   "source": [
    "Рассмотрим наличие полных дубликатов и дубликатов в ключевом столбце `id`."
   ]
  },
  {
   "cell_type": "code",
   "execution_count": 62,
   "metadata": {},
   "outputs": [
    {
     "name": "stdout",
     "output_type": "stream",
     "text": [
      "Удалено полных дубликатов в датасете: 0\n",
      "Найдено дубликатов в столбце \"id\": 1\n"
     ]
    }
   ],
   "source": [
    "# Удалим полные дубликаты\n",
    "duplicates = df_people.duplicated().sum()\n",
    "df_people = df_people.drop_duplicates()\n",
    "print(f'Удалено полных дубликатов в датасете: {duplicates}')\n",
    "duplicates = df_people['id'].duplicated().sum()\n",
    "print(f'Найдено дубликатов в столбце \"id\": {duplicates}')"
   ]
  },
  {
   "cell_type": "markdown",
   "metadata": {},
   "source": [
    "Полных дубликатов не выявлено. Найдена 1 строка повтора в столбце `id`. Рассмотрим эти строки."
   ]
  },
  {
   "cell_type": "code",
   "execution_count": 63,
   "metadata": {},
   "outputs": [
    {
     "data": {
      "text/html": [
       "<div>\n",
       "<style scoped>\n",
       "    .dataframe tbody tr th:only-of-type {\n",
       "        vertical-align: middle;\n",
       "    }\n",
       "\n",
       "    .dataframe tbody tr th {\n",
       "        vertical-align: top;\n",
       "    }\n",
       "\n",
       "    .dataframe thead th {\n",
       "        text-align: right;\n",
       "    }\n",
       "</style>\n",
       "<table border=\"1\" class=\"dataframe\">\n",
       "  <thead>\n",
       "    <tr style=\"text-align: right;\">\n",
       "      <th></th>\n",
       "      <th>id</th>\n",
       "      <th>first_name</th>\n",
       "      <th>last_name</th>\n",
       "      <th>company_id</th>\n",
       "      <th>network_username</th>\n",
       "    </tr>\n",
       "  </thead>\n",
       "  <tbody>\n",
       "    <tr>\n",
       "      <th>13171</th>\n",
       "      <td>116554</td>\n",
       "      <td>Nicole</td>\n",
       "      <td>Couto</td>\n",
       "      <td>200243</td>\n",
       "      <td>unknown</td>\n",
       "    </tr>\n",
       "    <tr>\n",
       "      <th>13172</th>\n",
       "      <td>116554</td>\n",
       "      <td>Nicole</td>\n",
       "      <td>Couto</td>\n",
       "      <td>212993</td>\n",
       "      <td>unknown</td>\n",
       "    </tr>\n",
       "  </tbody>\n",
       "</table>\n",
       "</div>"
      ],
      "text/plain": [
       "           id first_name last_name  company_id network_username\n",
       "13171  116554     Nicole     Couto      200243          unknown\n",
       "13172  116554     Nicole     Couto      212993          unknown"
      ]
     },
     "execution_count": 63,
     "metadata": {},
     "output_type": "execute_result"
    }
   ],
   "source": [
    "# Выведем строки с дубликатами\n",
    "mask = df_people['id'].duplicated(keep=False)\n",
    "df_people[mask]"
   ]
  },
  {
   "cell_type": "markdown",
   "metadata": {},
   "source": [
    "Один человек работал в разных компаниях. В нашем случае такое могло произойти, за рассматриваемый период люди могли менять компании. Данные дубликат не является ошибкой, а говорит о том, что на столбце `id` не висит ключ.\n",
    "\n",
    "Датасет проверен на дубликаты и готов к работе."
   ]
  },
  {
   "cell_type": "markdown",
   "metadata": {},
   "source": [
    "#### Обработка дубликатов в датасете df_degrees"
   ]
  },
  {
   "cell_type": "markdown",
   "metadata": {},
   "source": [
    "Рассмотрим наличие полных дубликатов и дубликатов в ключевом столбце `id`."
   ]
  },
  {
   "cell_type": "code",
   "execution_count": 64,
   "metadata": {},
   "outputs": [
    {
     "name": "stdout",
     "output_type": "stream",
     "text": [
      "Удалено полных дубликатов в датасете: 0\n",
      "Найдено дубликатов в столбце \"id\": 0\n"
     ]
    }
   ],
   "source": [
    "# Удалим полные дубликаты\n",
    "duplicates = df_degrees.duplicated().sum()\n",
    "df_degrees = df_degrees.drop_duplicates()\n",
    "print(f'Удалено полных дубликатов в датасете: {duplicates}')\n",
    "duplicates = df_degrees['id'].duplicated().sum()\n",
    "print(f'Найдено дубликатов в столбце \"id\": {duplicates}')"
   ]
  },
  {
   "cell_type": "markdown",
   "metadata": {},
   "source": [
    "Дубликаты не обнаружены. Датасет готов к работе."
   ]
  },
  {
   "cell_type": "markdown",
   "metadata": {},
   "source": [
    "#### Предварительный вывод"
   ]
  },
  {
   "cell_type": "markdown",
   "metadata": {},
   "source": [
    "Все датасеты были проверены на наличие дубликатов в них.\n",
    "- Дубликатов в датасетах: `df_acquisition`, `df_rounds`, `df_education`, `df_people`, `df_degrees` обнаружено не было.\n",
    "- В датасете `df_company` было удалено 20919 строк полных дубликатов (9.6%)."
   ]
  },
  {
   "cell_type": "markdown",
   "metadata": {
    "id": "u60cHsn6rJg1"
   },
   "source": [
    "## Предварительное исследование"
   ]
  },
  {
   "cell_type": "markdown",
   "metadata": {
    "id": "g2bHIIjcrJg1"
   },
   "source": [
    "### Раунды финансирования по годам"
   ]
  },
  {
   "cell_type": "markdown",
   "metadata": {},
   "source": [
    "На основе датасета `df_rounds` изучим, как по годам распределяется типичный размер средств финансирования, выделяемый в рамках одного раунда, и найдем общее количество раундов финансирования по годам. В таблице оставим только те года, в которых количество раундов финансирования было больше 50, это сделает нашу выборку более репрезентативной. Так же проведем расчёт скользящего среднего для полученных полей."
   ]
  },
  {
   "cell_type": "code",
   "execution_count": 65,
   "metadata": {},
   "outputs": [
    {
     "data": {
      "text/html": [
       "<div>\n",
       "<style scoped>\n",
       "    .dataframe tbody tr th:only-of-type {\n",
       "        vertical-align: middle;\n",
       "    }\n",
       "\n",
       "    .dataframe tbody tr th {\n",
       "        vertical-align: top;\n",
       "    }\n",
       "\n",
       "    .dataframe thead th {\n",
       "        text-align: right;\n",
       "    }\n",
       "</style>\n",
       "<table border=\"1\" class=\"dataframe\">\n",
       "  <thead>\n",
       "    <tr style=\"text-align: right;\">\n",
       "      <th></th>\n",
       "      <th>median</th>\n",
       "      <th>count</th>\n",
       "      <th>median_ma</th>\n",
       "      <th>count_ma</th>\n",
       "    </tr>\n",
       "    <tr>\n",
       "      <th>funded_at</th>\n",
       "      <th></th>\n",
       "      <th></th>\n",
       "      <th></th>\n",
       "      <th></th>\n",
       "    </tr>\n",
       "  </thead>\n",
       "  <tbody>\n",
       "    <tr>\n",
       "      <th>1999</th>\n",
       "      <td>2000000.0</td>\n",
       "      <td>76</td>\n",
       "      <td>NaN</td>\n",
       "      <td>NaN</td>\n",
       "    </tr>\n",
       "    <tr>\n",
       "      <th>2000</th>\n",
       "      <td>4200000.0</td>\n",
       "      <td>125</td>\n",
       "      <td>3.066667e+06</td>\n",
       "      <td>99.000000</td>\n",
       "    </tr>\n",
       "    <tr>\n",
       "      <th>2001</th>\n",
       "      <td>3000000.0</td>\n",
       "      <td>96</td>\n",
       "      <td>3.800000e+06</td>\n",
       "      <td>112.333333</td>\n",
       "    </tr>\n",
       "    <tr>\n",
       "      <th>2002</th>\n",
       "      <td>4200000.0</td>\n",
       "      <td>116</td>\n",
       "      <td>3.400000e+06</td>\n",
       "      <td>123.666667</td>\n",
       "    </tr>\n",
       "    <tr>\n",
       "      <th>2003</th>\n",
       "      <td>3000000.0</td>\n",
       "      <td>159</td>\n",
       "      <td>4.066667e+06</td>\n",
       "      <td>188.666667</td>\n",
       "    </tr>\n",
       "    <tr>\n",
       "      <th>2004</th>\n",
       "      <td>5000000.0</td>\n",
       "      <td>291</td>\n",
       "      <td>4.500000e+06</td>\n",
       "      <td>694.333333</td>\n",
       "    </tr>\n",
       "    <tr>\n",
       "      <th>2005</th>\n",
       "      <td>5500000.0</td>\n",
       "      <td>1633</td>\n",
       "      <td>5.166667e+06</td>\n",
       "      <td>1453.333333</td>\n",
       "    </tr>\n",
       "    <tr>\n",
       "      <th>2006</th>\n",
       "      <td>5000000.0</td>\n",
       "      <td>2436</td>\n",
       "      <td>4.824440e+06</td>\n",
       "      <td>2449.333333</td>\n",
       "    </tr>\n",
       "    <tr>\n",
       "      <th>2007</th>\n",
       "      <td>3973320.0</td>\n",
       "      <td>3279</td>\n",
       "      <td>4.027773e+06</td>\n",
       "      <td>3163.000000</td>\n",
       "    </tr>\n",
       "    <tr>\n",
       "      <th>2008</th>\n",
       "      <td>3110000.0</td>\n",
       "      <td>3774</td>\n",
       "      <td>3.027773e+06</td>\n",
       "      <td>3734.666667</td>\n",
       "    </tr>\n",
       "    <tr>\n",
       "      <th>2009</th>\n",
       "      <td>2000000.0</td>\n",
       "      <td>4151</td>\n",
       "      <td>2.237500e+06</td>\n",
       "      <td>4715.333333</td>\n",
       "    </tr>\n",
       "    <tr>\n",
       "      <th>2010</th>\n",
       "      <td>1602500.0</td>\n",
       "      <td>6221</td>\n",
       "      <td>1.600833e+06</td>\n",
       "      <td>6525.333333</td>\n",
       "    </tr>\n",
       "    <tr>\n",
       "      <th>2011</th>\n",
       "      <td>1200000.0</td>\n",
       "      <td>9204</td>\n",
       "      <td>1.267500e+06</td>\n",
       "      <td>8465.000000</td>\n",
       "    </tr>\n",
       "    <tr>\n",
       "      <th>2012</th>\n",
       "      <td>1000000.0</td>\n",
       "      <td>9970</td>\n",
       "      <td>1.133333e+06</td>\n",
       "      <td>10082.000000</td>\n",
       "    </tr>\n",
       "    <tr>\n",
       "      <th>2013</th>\n",
       "      <td>1200000.0</td>\n",
       "      <td>11072</td>\n",
       "      <td>NaN</td>\n",
       "      <td>NaN</td>\n",
       "    </tr>\n",
       "  </tbody>\n",
       "</table>\n",
       "</div>"
      ],
      "text/plain": [
       "              median  count     median_ma      count_ma\n",
       "funded_at                                              \n",
       "1999       2000000.0     76           NaN           NaN\n",
       "2000       4200000.0    125  3.066667e+06     99.000000\n",
       "2001       3000000.0     96  3.800000e+06    112.333333\n",
       "2002       4200000.0    116  3.400000e+06    123.666667\n",
       "2003       3000000.0    159  4.066667e+06    188.666667\n",
       "2004       5000000.0    291  4.500000e+06    694.333333\n",
       "2005       5500000.0   1633  5.166667e+06   1453.333333\n",
       "2006       5000000.0   2436  4.824440e+06   2449.333333\n",
       "2007       3973320.0   3279  4.027773e+06   3163.000000\n",
       "2008       3110000.0   3774  3.027773e+06   3734.666667\n",
       "2009       2000000.0   4151  2.237500e+06   4715.333333\n",
       "2010       1602500.0   6221  1.600833e+06   6525.333333\n",
       "2011       1200000.0   9204  1.267500e+06   8465.000000\n",
       "2012       1000000.0   9970  1.133333e+06  10082.000000\n",
       "2013       1200000.0  11072           NaN           NaN"
      ]
     },
     "execution_count": 65,
     "metadata": {},
     "output_type": "execute_result"
    }
   ],
   "source": [
    "# Сгруппируем строки по годам, затем по столбцу 'raised_amount' высчитаем\n",
    "# медианное значение финансирования и количество таких финансирований в год\n",
    "df_financing_per_year = df_rounds.groupby(\n",
    "    df_rounds['funded_at'].dt.to_period('Y') # Группируем по годам\n",
    "    )['raised_amount'].agg(['median', 'count'])\n",
    "\n",
    "# Уберем строки, в которых за год было меньше 50 раундов финансирования\n",
    "df_financing_per_year = df_financing_per_year.query('count > 50')\n",
    "\n",
    "# Найдем скользящее среднее, рамка окна для которого будет 3 строки (года),\n",
    "# будем рассматривать соседние значения\n",
    "df_financing_per_year['median_ma'] = df_financing_per_year['median'].rolling(window=3, center=True).mean()\n",
    "df_financing_per_year['count_ma'] = df_financing_per_year['count'].rolling(window=3, center=True).mean()\n",
    "\n",
    "df_financing_per_year"
   ]
  },
  {
   "cell_type": "markdown",
   "metadata": {},
   "source": [
    "Построим график типичного размера финансирования за раунд и его скользящего среднего по годам."
   ]
  },
  {
   "cell_type": "code",
   "execution_count": 66,
   "metadata": {},
   "outputs": [
    {
     "data": {
      "image/png": "[encoded data removed]",
      "text/plain": [
       "<Figure size 1200x400 with 1 Axes>"
      ]
     },
     "metadata": {},
     "output_type": "display_data"
    }
   ],
   "source": [
    "plt.figure(figsize=(12, 4))\n",
    "\n",
    "# Вытащим из индекса, формат которого 'period', годы финансирования\n",
    "# чтобы правильно отложить их на оси Х\n",
    "years = df_financing_per_year.index.year\n",
    "\n",
    "# Столбчатая диаграмма (финансирование)\n",
    "plt.bar(\n",
    "    years,\n",
    "    df_financing_per_year['median'],\n",
    "    color='lightblue',\n",
    "    label='Медианное финансирование'\n",
    ")\n",
    "\n",
    "# Линия скользящего среднего\n",
    "plt.plot(\n",
    "    years,\n",
    "    df_financing_per_year['median_ma'],\n",
    "    color='red',\n",
    "    linewidth=2,\n",
    "    marker='o',\n",
    "    label='Скользящее среднее'\n",
    ")\n",
    "\n",
    "# Настройки графика\n",
    "plt.title('Изменение размера финансирования по годам')\n",
    "plt.ylabel('Размер финансирования, млн')\n",
    "plt.xlabel('Год')\n",
    "plt.xticks(years, rotation=0)  # явно задаем метки оси X\n",
    "plt.grid(True, linestyle='--', alpha=0.2)\n",
    "plt.legend()\n",
    "plt.show()"
   ]
  },
  {
   "cell_type": "markdown",
   "metadata": {},
   "source": [
    "Построим график количества раундов финансирования в год и их скользящего среднего."
   ]
  },
  {
   "cell_type": "code",
   "execution_count": 67,
   "metadata": {},
   "outputs": [
    {
     "data": {
      "image/png": "[encoded data removed]",
      "text/plain": [
       "<Figure size 1200x400 with 1 Axes>"
      ]
     },
     "metadata": {},
     "output_type": "display_data"
    }
   ],
   "source": [
    "plt.figure(figsize=(12, 4))\n",
    "\n",
    "# Вытащим из индекса, формат которого 'period', годы финансирования\n",
    "# чтобы правильно отложить их на оси Х\n",
    "years = df_financing_per_year.index.year\n",
    "\n",
    "# Столбчатая диаграмма (количество раундов в год)\n",
    "plt.bar(\n",
    "    years,\n",
    "    df_financing_per_year['count'],\n",
    "    color='lightblue',\n",
    "    label='Раунды финансирования'\n",
    ")\n",
    "\n",
    "# Линия скользящего среднего\n",
    "plt.plot(\n",
    "    years,\n",
    "    df_financing_per_year['count_ma'],\n",
    "    color='red',\n",
    "    linewidth=2,\n",
    "    marker='o',\n",
    "    label='Скользящее среднее'\n",
    ")\n",
    "\n",
    "# Настройки графика\n",
    "plt.title('Изменение количества раундов финансирования по годам')\n",
    "plt.ylabel('Количество раундов')\n",
    "plt.xlabel('Год')\n",
    "plt.xticks(years, rotation=0)  # явно задаем метки оси X\n",
    "plt.grid(True, linestyle='--', alpha=0.2)\n",
    "plt.legend()\n",
    "plt.show()"
   ]
  },
  {
   "cell_type": "markdown",
   "metadata": {},
   "source": [
    "По графикам можно сделать следующие выводы:\n",
    "- В 2005 году типичный размер финансирования в рамках одного раунда был максимальным.\n",
    "- Начиная с 2005 года количество раундов финансирования от года к году резко увеличивалось.\n",
    "- Прослеживается тенденция в уменьшении типичного размера финансирования после 2005 года, что может быть связано с увеличением количества раундов при сравнительно низком их финансировании."
   ]
  },
  {
   "cell_type": "markdown",
   "metadata": {
    "id": "45if1en1rJg2"
   },
   "source": [
    "\n",
    "### Люди и их образование"
   ]
  },
  {
   "cell_type": "markdown",
   "metadata": {},
   "source": [
    "Заказчика интересует ответ на следующий вопрос: зависит ли полнота сведений о сотрудниках (например, об их образовании) от размера компаний. Для того, чтобы ответить на него объединим три датасета: `df_people`, `df_education` и `df_degrees` по идентификатору сотрудника. После этого посчитам сколько людей работает в каждой компании и затем разобьем компании по количеству людей, работающих в них."
   ]
  },
  {
   "cell_type": "code",
   "execution_count": 68,
   "metadata": {
    "scrolled": true
   },
   "outputs": [],
   "source": [
    "# Переименуем столбцы `id` датафреймов\n",
    "df_people = df_people.rename(columns={'id': 'person_id'})\n",
    "df_education = df_education.rename(columns={'id': 'education_id'})\n",
    "\n",
    "# Объединим датасеты по идентификатору сотрудника\n",
    "df_people_education = df_people.merge(df_education, on='person_id', how='left')\n",
    "df_people_education = df_people_education.merge(df_degrees, left_on='person_id', right_on='object_id', how='left')\n",
    "\n",
    "# Уберем второй столбец с индентификатором сотрудника и \n",
    "# id записи датафрейма degrees, которые мы получили после объединения\n",
    "df_people_education = df_people_education.drop(columns=['object_id', 'id'])"
   ]
  },
  {
   "cell_type": "markdown",
   "metadata": {},
   "source": [
    "Посмотрим на размеры датафреймов."
   ]
  },
  {
   "cell_type": "code",
   "execution_count": 69,
   "metadata": {},
   "outputs": [
    {
     "name": "stdout",
     "output_type": "stream",
     "text": [
      "Датафрейм df_people\n"
     ]
    },
    {
     "data": {
      "text/plain": [
       "(226709, 5)"
      ]
     },
     "metadata": {},
     "output_type": "display_data"
    },
    {
     "name": "stdout",
     "output_type": "stream",
     "text": [
      "\n",
      "\n",
      "Датафрейм df_education\n"
     ]
    },
    {
     "data": {
      "text/plain": [
       "(109610, 4)"
      ]
     },
     "metadata": {},
     "output_type": "display_data"
    },
    {
     "name": "stdout",
     "output_type": "stream",
     "text": [
      "\n",
      "\n",
      "Датафрейм df_people_education\n"
     ]
    },
    {
     "data": {
      "text/plain": [
       "(370836, 10)"
      ]
     },
     "metadata": {},
     "output_type": "display_data"
    }
   ],
   "source": [
    "print('Датафрейм df_people')\n",
    "display(df_people.shape)\n",
    "print()\n",
    "print()\n",
    "print('Датафрейм df_education')\n",
    "display(df_education.shape)\n",
    "print()\n",
    "print()\n",
    "print('Датафрейм df_people_education')\n",
    "display(df_people_education.shape)"
   ]
  },
  {
   "cell_type": "markdown",
   "metadata": {},
   "source": [
    "Размер датафрейма df_people_education больше, чем исходные, что может говорить о наличии дубликатов в строках. Найдем дублирующиеся строки."
   ]
  },
  {
   "cell_type": "code",
   "execution_count": 70,
   "metadata": {},
   "outputs": [
    {
     "data": {
      "text/html": [
       "<div>\n",
       "<style scoped>\n",
       "    .dataframe tbody tr th:only-of-type {\n",
       "        vertical-align: middle;\n",
       "    }\n",
       "\n",
       "    .dataframe tbody tr th {\n",
       "        vertical-align: top;\n",
       "    }\n",
       "\n",
       "    .dataframe thead th {\n",
       "        text-align: right;\n",
       "    }\n",
       "</style>\n",
       "<table border=\"1\" class=\"dataframe\">\n",
       "  <thead>\n",
       "    <tr style=\"text-align: right;\">\n",
       "      <th></th>\n",
       "      <th>person_id</th>\n",
       "      <th>first_name</th>\n",
       "      <th>last_name</th>\n",
       "      <th>company_id</th>\n",
       "      <th>network_username</th>\n",
       "      <th>education_id</th>\n",
       "      <th>instituition</th>\n",
       "      <th>graduated_at</th>\n",
       "      <th>degree_type</th>\n",
       "      <th>subject</th>\n",
       "    </tr>\n",
       "  </thead>\n",
       "  <tbody>\n",
       "    <tr>\n",
       "      <th>132801</th>\n",
       "      <td>2</td>\n",
       "      <td>Ben</td>\n",
       "      <td>Elowitz</td>\n",
       "      <td>4993</td>\n",
       "      <td>elowitz</td>\n",
       "      <td>699.0</td>\n",
       "      <td>University of California, Berkeley</td>\n",
       "      <td>1994-01-01</td>\n",
       "      <td>BS</td>\n",
       "      <td>Electrical Engineering/Computer Science</td>\n",
       "    </tr>\n",
       "    <tr>\n",
       "      <th>132802</th>\n",
       "      <td>2</td>\n",
       "      <td>Ben</td>\n",
       "      <td>Elowitz</td>\n",
       "      <td>4993</td>\n",
       "      <td>elowitz</td>\n",
       "      <td>699.0</td>\n",
       "      <td>University of California, Berkeley</td>\n",
       "      <td>1994-01-01</td>\n",
       "      <td>BS</td>\n",
       "      <td>Applied Mathematics</td>\n",
       "    </tr>\n",
       "    <tr>\n",
       "      <th>132803</th>\n",
       "      <td>2</td>\n",
       "      <td>Ben</td>\n",
       "      <td>Elowitz</td>\n",
       "      <td>4993</td>\n",
       "      <td>elowitz</td>\n",
       "      <td>700.0</td>\n",
       "      <td>University of California, Berkeley</td>\n",
       "      <td>1994-01-01</td>\n",
       "      <td>BS</td>\n",
       "      <td>Electrical Engineering/Computer Science</td>\n",
       "    </tr>\n",
       "    <tr>\n",
       "      <th>132804</th>\n",
       "      <td>2</td>\n",
       "      <td>Ben</td>\n",
       "      <td>Elowitz</td>\n",
       "      <td>4993</td>\n",
       "      <td>elowitz</td>\n",
       "      <td>700.0</td>\n",
       "      <td>University of California, Berkeley</td>\n",
       "      <td>1994-01-01</td>\n",
       "      <td>BS</td>\n",
       "      <td>Applied Mathematics</td>\n",
       "    </tr>\n",
       "    <tr>\n",
       "      <th>271005</th>\n",
       "      <td>3</td>\n",
       "      <td>Kevin</td>\n",
       "      <td>Flaherty</td>\n",
       "      <td>1</td>\n",
       "      <td>unknown</td>\n",
       "      <td>706.0</td>\n",
       "      <td>Washington University in St Louis</td>\n",
       "      <td>NaT</td>\n",
       "      <td>BBA</td>\n",
       "      <td>unknown</td>\n",
       "    </tr>\n",
       "    <tr>\n",
       "      <th>271008</th>\n",
       "      <td>3</td>\n",
       "      <td>Kevin</td>\n",
       "      <td>Flaherty</td>\n",
       "      <td>1</td>\n",
       "      <td>unknown</td>\n",
       "      <td>707.0</td>\n",
       "      <td>Indiana University</td>\n",
       "      <td>NaT</td>\n",
       "      <td>MBA</td>\n",
       "      <td>unknown</td>\n",
       "    </tr>\n",
       "    <tr>\n",
       "      <th>271007</th>\n",
       "      <td>3</td>\n",
       "      <td>Kevin</td>\n",
       "      <td>Flaherty</td>\n",
       "      <td>1</td>\n",
       "      <td>unknown</td>\n",
       "      <td>707.0</td>\n",
       "      <td>Indiana University</td>\n",
       "      <td>NaT</td>\n",
       "      <td>BBA</td>\n",
       "      <td>unknown</td>\n",
       "    </tr>\n",
       "    <tr>\n",
       "      <th>271006</th>\n",
       "      <td>3</td>\n",
       "      <td>Kevin</td>\n",
       "      <td>Flaherty</td>\n",
       "      <td>1</td>\n",
       "      <td>unknown</td>\n",
       "      <td>706.0</td>\n",
       "      <td>Washington University in St Louis</td>\n",
       "      <td>NaT</td>\n",
       "      <td>MBA</td>\n",
       "      <td>unknown</td>\n",
       "    </tr>\n",
       "    <tr>\n",
       "      <th>301263</th>\n",
       "      <td>5</td>\n",
       "      <td>Ian</td>\n",
       "      <td>Wenig</td>\n",
       "      <td>3</td>\n",
       "      <td>unknown</td>\n",
       "      <td>47871.0</td>\n",
       "      <td>McGill University</td>\n",
       "      <td>1986-01-01</td>\n",
       "      <td>BS</td>\n",
       "      <td>Biology, Psychology</td>\n",
       "    </tr>\n",
       "    <tr>\n",
       "      <th>301262</th>\n",
       "      <td>5</td>\n",
       "      <td>Ian</td>\n",
       "      <td>Wenig</td>\n",
       "      <td>3</td>\n",
       "      <td>unknown</td>\n",
       "      <td>47871.0</td>\n",
       "      <td>McGill University</td>\n",
       "      <td>1986-01-01</td>\n",
       "      <td>Degree</td>\n",
       "      <td>Advanced Business Professional Course</td>\n",
       "    </tr>\n",
       "  </tbody>\n",
       "</table>\n",
       "</div>"
      ],
      "text/plain": [
       "        person_id first_name last_name  company_id network_username  \\\n",
       "132801          2        Ben   Elowitz        4993          elowitz   \n",
       "132802          2        Ben   Elowitz        4993          elowitz   \n",
       "132803          2        Ben   Elowitz        4993          elowitz   \n",
       "132804          2        Ben   Elowitz        4993          elowitz   \n",
       "271005          3      Kevin  Flaherty           1          unknown   \n",
       "271008          3      Kevin  Flaherty           1          unknown   \n",
       "271007          3      Kevin  Flaherty           1          unknown   \n",
       "271006          3      Kevin  Flaherty           1          unknown   \n",
       "301263          5        Ian     Wenig           3          unknown   \n",
       "301262          5        Ian     Wenig           3          unknown   \n",
       "\n",
       "        education_id                        instituition graduated_at  \\\n",
       "132801         699.0  University of California, Berkeley   1994-01-01   \n",
       "132802         699.0  University of California, Berkeley   1994-01-01   \n",
       "132803         700.0  University of California, Berkeley   1994-01-01   \n",
       "132804         700.0  University of California, Berkeley   1994-01-01   \n",
       "271005         706.0   Washington University in St Louis          NaT   \n",
       "271008         707.0                  Indiana University          NaT   \n",
       "271007         707.0                  Indiana University          NaT   \n",
       "271006         706.0   Washington University in St Louis          NaT   \n",
       "301263       47871.0                   McGill University   1986-01-01   \n",
       "301262       47871.0                   McGill University   1986-01-01   \n",
       "\n",
       "       degree_type                                  subject  \n",
       "132801          BS  Electrical Engineering/Computer Science  \n",
       "132802          BS                      Applied Mathematics  \n",
       "132803          BS  Electrical Engineering/Computer Science  \n",
       "132804          BS                      Applied Mathematics  \n",
       "271005         BBA                                  unknown  \n",
       "271008         MBA                                  unknown  \n",
       "271007         BBA                                  unknown  \n",
       "271006         MBA                                  unknown  \n",
       "301263          BS                      Biology, Psychology  \n",
       "301262      Degree    Advanced Business Professional Course  "
      ]
     },
     "execution_count": 70,
     "metadata": {},
     "output_type": "execute_result"
    }
   ],
   "source": [
    "# Создадим логическую маску, в которой найдем все дубликаты\n",
    "mask = df_people_education['person_id'].duplicated(keep=False)\n",
    "\n",
    "# Выведем отсортированный датасет, который будет включать только дубликаты\n",
    "df_people_education[mask].sort_values(by='person_id').head(10)"
   ]
  },
  {
   "cell_type": "markdown",
   "metadata": {},
   "source": [
    "Можно заметить, что в таблице имеются как полные дубликаты строк, так и строки с людьми, имеющими несколько образований, получивших их в различные годы. \n",
    "\n",
    "\n",
    "Чтобы нам корректно посчитать количество человек в компаниях, нам необходимо удалить дубликаты. Дубликатами будем считать записи, которые имеют одинаковый `person_id`."
   ]
  },
  {
   "cell_type": "code",
   "execution_count": 71,
   "metadata": {},
   "outputs": [
    {
     "data": {
      "text/plain": [
       "(226708, 10)"
      ]
     },
     "execution_count": 71,
     "metadata": {},
     "output_type": "execute_result"
    }
   ],
   "source": [
    "# Удалим дубликаты строк\n",
    "df_people_education = df_people_education.drop_duplicates(subset=['person_id'])\n",
    "\n",
    "# Проверим корректность удаления\n",
    "df_people_education.shape"
   ]
  },
  {
   "cell_type": "markdown",
   "metadata": {},
   "source": [
    "Дубликаты удалили корректно. Теперь посчитаем, какое количество людей работает в каждой компании и как компании распределяются в разрезе количества людей."
   ]
  },
  {
   "cell_type": "code",
   "execution_count": 72,
   "metadata": {
    "scrolled": true
   },
   "outputs": [
    {
     "data": {
      "text/html": [
       "<div>\n",
       "<style scoped>\n",
       "    .dataframe tbody tr th:only-of-type {\n",
       "        vertical-align: middle;\n",
       "    }\n",
       "\n",
       "    .dataframe tbody tr th {\n",
       "        vertical-align: top;\n",
       "    }\n",
       "\n",
       "    .dataframe thead th {\n",
       "        text-align: right;\n",
       "    }\n",
       "</style>\n",
       "<table border=\"1\" class=\"dataframe\">\n",
       "  <thead>\n",
       "    <tr style=\"text-align: right;\">\n",
       "      <th></th>\n",
       "      <th>company_id</th>\n",
       "      <th>num_person</th>\n",
       "    </tr>\n",
       "  </thead>\n",
       "  <tbody>\n",
       "    <tr>\n",
       "      <th>0</th>\n",
       "      <td>-1</td>\n",
       "      <td>192094</td>\n",
       "    </tr>\n",
       "    <tr>\n",
       "      <th>1</th>\n",
       "      <td>1</td>\n",
       "      <td>2</td>\n",
       "    </tr>\n",
       "    <tr>\n",
       "      <th>2</th>\n",
       "      <td>2</td>\n",
       "      <td>1</td>\n",
       "    </tr>\n",
       "    <tr>\n",
       "      <th>3</th>\n",
       "      <td>3</td>\n",
       "      <td>3</td>\n",
       "    </tr>\n",
       "    <tr>\n",
       "      <th>4</th>\n",
       "      <td>4</td>\n",
       "      <td>13</td>\n",
       "    </tr>\n",
       "  </tbody>\n",
       "</table>\n",
       "</div>"
      ],
      "text/plain": [
       "   company_id  num_person\n",
       "0          -1      192094\n",
       "1           1           2\n",
       "2           2           1\n",
       "3           3           3\n",
       "4           4          13"
      ]
     },
     "execution_count": 72,
     "metadata": {},
     "output_type": "execute_result"
    }
   ],
   "source": [
    "# Сгруппируем данные по 'company_id' и высчитаем количество людей,\n",
    "# работающих в компаниях\n",
    "grouped = (\n",
    "    df_people_education.groupby('company_id', as_index=False)['person_id']\n",
    "    .count()\n",
    "    .rename(columns={'person_id': 'num_person'})\n",
    ")\n",
    "\n",
    "grouped.head()"
   ]
  },
  {
   "cell_type": "markdown",
   "metadata": {},
   "source": [
    "Перед проведением подсчетов, нам необходимо отфильтровать датасет от индикаторов пропуска в `company_id` - `-1`."
   ]
  },
  {
   "cell_type": "code",
   "execution_count": 73,
   "metadata": {
    "scrolled": true
   },
   "outputs": [
    {
     "data": {
      "text/html": [
       "<div>\n",
       "<style scoped>\n",
       "    .dataframe tbody tr th:only-of-type {\n",
       "        vertical-align: middle;\n",
       "    }\n",
       "\n",
       "    .dataframe tbody tr th {\n",
       "        vertical-align: top;\n",
       "    }\n",
       "\n",
       "    .dataframe thead th {\n",
       "        text-align: right;\n",
       "    }\n",
       "</style>\n",
       "<table border=\"1\" class=\"dataframe\">\n",
       "  <thead>\n",
       "    <tr style=\"text-align: right;\">\n",
       "      <th></th>\n",
       "      <th>num_person</th>\n",
       "      <th>count</th>\n",
       "      <th>percentage</th>\n",
       "    </tr>\n",
       "  </thead>\n",
       "  <tbody>\n",
       "    <tr>\n",
       "      <th>0</th>\n",
       "      <td>1</td>\n",
       "      <td>18116</td>\n",
       "      <td>79.0</td>\n",
       "    </tr>\n",
       "    <tr>\n",
       "      <th>1</th>\n",
       "      <td>2</td>\n",
       "      <td>2709</td>\n",
       "      <td>11.8</td>\n",
       "    </tr>\n",
       "    <tr>\n",
       "      <th>2</th>\n",
       "      <td>3</td>\n",
       "      <td>921</td>\n",
       "      <td>4.0</td>\n",
       "    </tr>\n",
       "    <tr>\n",
       "      <th>3</th>\n",
       "      <td>4</td>\n",
       "      <td>450</td>\n",
       "      <td>2.0</td>\n",
       "    </tr>\n",
       "    <tr>\n",
       "      <th>4</th>\n",
       "      <td>5</td>\n",
       "      <td>237</td>\n",
       "      <td>1.0</td>\n",
       "    </tr>\n",
       "    <tr>\n",
       "      <th>5</th>\n",
       "      <td>6</td>\n",
       "      <td>138</td>\n",
       "      <td>0.6</td>\n",
       "    </tr>\n",
       "    <tr>\n",
       "      <th>6</th>\n",
       "      <td>7</td>\n",
       "      <td>100</td>\n",
       "      <td>0.4</td>\n",
       "    </tr>\n",
       "    <tr>\n",
       "      <th>7</th>\n",
       "      <td>8</td>\n",
       "      <td>59</td>\n",
       "      <td>0.3</td>\n",
       "    </tr>\n",
       "    <tr>\n",
       "      <th>8</th>\n",
       "      <td>9</td>\n",
       "      <td>46</td>\n",
       "      <td>0.2</td>\n",
       "    </tr>\n",
       "    <tr>\n",
       "      <th>9</th>\n",
       "      <td>11</td>\n",
       "      <td>30</td>\n",
       "      <td>0.1</td>\n",
       "    </tr>\n",
       "  </tbody>\n",
       "</table>\n",
       "</div>"
      ],
      "text/plain": [
       "   num_person  count  percentage\n",
       "0           1  18116        79.0\n",
       "1           2   2709        11.8\n",
       "2           3    921         4.0\n",
       "3           4    450         2.0\n",
       "4           5    237         1.0\n",
       "5           6    138         0.6\n",
       "6           7    100         0.4\n",
       "7           8     59         0.3\n",
       "8           9     46         0.2\n",
       "9          11     30         0.1"
      ]
     },
     "execution_count": 73,
     "metadata": {},
     "output_type": "execute_result"
    }
   ],
   "source": [
    "# Фильтруем датасет от индикаторов пропуска\n",
    "grouped = grouped.query('company_id > -1')\n",
    "\n",
    "# Выведем суммарное количество компаний\n",
    "# в разрезе количества сотрудников\n",
    "grouped_person_proc = grouped['num_person'].value_counts(normalize=True).mul(100).rename('percentage')\n",
    "grouped_person_abs = grouped['num_person'].value_counts().rename('count')\n",
    "\n",
    "# Объединим в одной таблице с явным указанием имен столбцов\n",
    "grouped_concat = (pd.concat([grouped_person_abs, grouped_person_proc], axis=1)\n",
    "                  .reset_index()\n",
    "                  .rename(columns={'index': 'num_person'})\n",
    "                  .sort_values(by=['count', 'num_person'], ascending=[False, True])\n",
    "                  .round(1)\n",
    "                 )\n",
    "grouped_concat.head(10)"
   ]
  },
  {
   "cell_type": "markdown",
   "metadata": {},
   "source": [
    "Большинство компаний представляют собой компании из одного  (79.0%, 18116 шт.) или двух 11.8% (2709 шт.) человек.\n",
    "\n",
    "Чтобы определить, зависит ли полнота сведений о сотрудниках от размера компании, разобьем компании по количеству работающих в них людей следующим образом:\n",
    "- Компании с 1 человеком.\n",
    "- Компании численностью от 2 до 10 человек.\n",
    "- Компании численностью от 11 до 50.\n",
    "- Компании численностью свыше 50 человек.\n",
    "\n",
    "Компании разбили по таким категориям, потому что стоит рассмотреть компании с одним человеком отдельной категорий, так как это самая многочисленная группа компаний. Так же следует рассмотреть компании с низкой численностью сотрудников (мы возьмем от 2 до 10), со средней численностью (от 10 до 50) и с высокой численностью (мы ограничились минимальным значением в 50 сотрудников, выше границу поднимать не стоит, потому что количество таких компаний чрезвычайно мало).\n",
    "\n",
    "Произведем категоризацию компаний."
   ]
  },
  {
   "cell_type": "code",
   "execution_count": 74,
   "metadata": {},
   "outputs": [
    {
     "data": {
      "text/html": [
       "<div>\n",
       "<style scoped>\n",
       "    .dataframe tbody tr th:only-of-type {\n",
       "        vertical-align: middle;\n",
       "    }\n",
       "\n",
       "    .dataframe tbody tr th {\n",
       "        vertical-align: top;\n",
       "    }\n",
       "\n",
       "    .dataframe thead th {\n",
       "        text-align: right;\n",
       "    }\n",
       "</style>\n",
       "<table border=\"1\" class=\"dataframe\">\n",
       "  <thead>\n",
       "    <tr style=\"text-align: right;\">\n",
       "      <th></th>\n",
       "      <th>company_id</th>\n",
       "      <th>num_person</th>\n",
       "      <th>category_num_person</th>\n",
       "    </tr>\n",
       "  </thead>\n",
       "  <tbody>\n",
       "    <tr>\n",
       "      <th>1</th>\n",
       "      <td>1</td>\n",
       "      <td>2</td>\n",
       "      <td>от 2 до 10</td>\n",
       "    </tr>\n",
       "    <tr>\n",
       "      <th>2</th>\n",
       "      <td>2</td>\n",
       "      <td>1</td>\n",
       "      <td>1 человек</td>\n",
       "    </tr>\n",
       "    <tr>\n",
       "      <th>3</th>\n",
       "      <td>3</td>\n",
       "      <td>3</td>\n",
       "      <td>от 2 до 10</td>\n",
       "    </tr>\n",
       "    <tr>\n",
       "      <th>4</th>\n",
       "      <td>4</td>\n",
       "      <td>13</td>\n",
       "      <td>от 11 до 50</td>\n",
       "    </tr>\n",
       "    <tr>\n",
       "      <th>5</th>\n",
       "      <td>5</td>\n",
       "      <td>61</td>\n",
       "      <td>больше 50</td>\n",
       "    </tr>\n",
       "  </tbody>\n",
       "</table>\n",
       "</div>"
      ],
      "text/plain": [
       "   company_id  num_person category_num_person\n",
       "1           1           2          от 2 до 10\n",
       "2           2           1           1 человек\n",
       "3           3           3          от 2 до 10\n",
       "4           4          13         от 11 до 50\n",
       "5           5          61           больше 50"
      ]
     },
     "execution_count": 74,
     "metadata": {},
     "output_type": "execute_result"
    }
   ],
   "source": [
    "# Категоризируем компании по численности сотрудников\n",
    "grouped['category_num_person'] = pd.cut(\n",
    "    grouped['num_person'],\n",
    "    bins=[0, 1, 10, 50, 999], \n",
    "    labels=['1 человек', 'от 2 до 10', 'от 11 до 50', 'больше 50']\n",
    ")\n",
    "grouped.head()"
   ]
  },
  {
   "cell_type": "markdown",
   "metadata": {},
   "source": [
    "Теперь добавим колонку с категоризацией компаний к датасету `df_people_education`. Воспользуемся типом соединения `inner join`, чтобы убрать строки, в которых нет данных о принадлежности сотрудника к какой-либо компании."
   ]
  },
  {
   "cell_type": "code",
   "execution_count": 75,
   "metadata": {},
   "outputs": [],
   "source": [
    "df_people_education_filtered = df_people_education.merge(grouped.drop(columns='num_person'), on='company_id', how='inner')"
   ]
  },
  {
   "cell_type": "markdown",
   "metadata": {},
   "source": [
    "Подсчитаем для каждой категории компаний, какой процент пропусков наблюдается в различных данных сотрудников."
   ]
  },
  {
   "cell_type": "code",
   "execution_count": 76,
   "metadata": {},
   "outputs": [
    {
     "data": {
      "text/html": [
       "<div>\n",
       "<style scoped>\n",
       "    .dataframe tbody tr th:only-of-type {\n",
       "        vertical-align: middle;\n",
       "    }\n",
       "\n",
       "    .dataframe tbody tr th {\n",
       "        vertical-align: top;\n",
       "    }\n",
       "\n",
       "    .dataframe thead th {\n",
       "        text-align: right;\n",
       "    }\n",
       "</style>\n",
       "<table border=\"1\" class=\"dataframe\">\n",
       "  <thead>\n",
       "    <tr style=\"text-align: right;\">\n",
       "      <th></th>\n",
       "      <th>first_name</th>\n",
       "      <th>last_name</th>\n",
       "      <th>network_username</th>\n",
       "      <th>instituition</th>\n",
       "      <th>graduated_at</th>\n",
       "      <th>degree_type</th>\n",
       "      <th>subject</th>\n",
       "    </tr>\n",
       "    <tr>\n",
       "      <th>category_num_person</th>\n",
       "      <th></th>\n",
       "      <th></th>\n",
       "      <th></th>\n",
       "      <th></th>\n",
       "      <th></th>\n",
       "      <th></th>\n",
       "      <th></th>\n",
       "    </tr>\n",
       "  </thead>\n",
       "  <tbody>\n",
       "    <tr>\n",
       "      <th>1 человек</th>\n",
       "      <td>0.0</td>\n",
       "      <td>0.0</td>\n",
       "      <td>0.0</td>\n",
       "      <td>46.3</td>\n",
       "      <td>57.2</td>\n",
       "      <td>46.3</td>\n",
       "      <td>46.3</td>\n",
       "    </tr>\n",
       "    <tr>\n",
       "      <th>от 2 до 10</th>\n",
       "      <td>0.0</td>\n",
       "      <td>0.0</td>\n",
       "      <td>0.0</td>\n",
       "      <td>49.0</td>\n",
       "      <td>63.9</td>\n",
       "      <td>49.0</td>\n",
       "      <td>49.0</td>\n",
       "    </tr>\n",
       "    <tr>\n",
       "      <th>от 11 до 50</th>\n",
       "      <td>0.0</td>\n",
       "      <td>0.0</td>\n",
       "      <td>0.0</td>\n",
       "      <td>41.2</td>\n",
       "      <td>65.6</td>\n",
       "      <td>41.2</td>\n",
       "      <td>41.2</td>\n",
       "    </tr>\n",
       "    <tr>\n",
       "      <th>больше 50</th>\n",
       "      <td>0.0</td>\n",
       "      <td>0.0</td>\n",
       "      <td>0.0</td>\n",
       "      <td>28.6</td>\n",
       "      <td>59.6</td>\n",
       "      <td>28.6</td>\n",
       "      <td>28.6</td>\n",
       "    </tr>\n",
       "  </tbody>\n",
       "</table>\n",
       "</div>"
      ],
      "text/plain": [
       "                     first_name  last_name  network_username  instituition  \\\n",
       "category_num_person                                                          \n",
       "1 человек                   0.0        0.0               0.0          46.3   \n",
       "от 2 до 10                  0.0        0.0               0.0          49.0   \n",
       "от 11 до 50                 0.0        0.0               0.0          41.2   \n",
       "больше 50                   0.0        0.0               0.0          28.6   \n",
       "\n",
       "                     graduated_at  degree_type  subject  \n",
       "category_num_person                                      \n",
       "1 человек                    57.2         46.3     46.3  \n",
       "от 2 до 10                   63.9         49.0     49.0  \n",
       "от 11 до 50                  65.6         41.2     41.2  \n",
       "больше 50                    59.6         28.6     28.6  "
      ]
     },
     "execution_count": 76,
     "metadata": {},
     "output_type": "execute_result"
    }
   ],
   "source": [
    "category_company = (\n",
    "    df_people_education_filtered[['first_name', 'last_name', 'network_username', 'instituition', 'graduated_at', 'degree_type', 'subject']]\n",
    "    .isna()\n",
    "    .groupby(df_people_education_filtered['category_num_person'], observed=False)\n",
    "    .mean() * 100\n",
    ")\n",
    "category_company.round(1)"
   ]
  },
  {
   "cell_type": "markdown",
   "metadata": {},
   "source": [
    "- Наблюдается следующая тенденция: чем крупнее компания, тем больше сведений о сотрудниках присутствует в датасете. Особенно это прослеживается на полях: `instituition` (46.3% -> 49.0% -> 41.2% -> 28.6% пропусков), `degreee_type` (46.3% -> 49.0% -> 41.2% -> 28.6% пропусков) и `subject` (46.3% -> 49.0 -> 41.2% -> 28.6% пропусков).\n",
    "- Для компаний состоящих из 1-2 человек, зачастую отсутствует около 50% информации об образовании сотрудников."
   ]
  },
  {
   "cell_type": "markdown",
   "metadata": {
    "id": "Lz7qjM32xglW"
   },
   "source": [
    "### Объединять или не объединять — вот в чём вопрос"
   ]
  },
  {
   "cell_type": "markdown",
   "metadata": {
    "id": "zyI3rt0rxg1O"
   },
   "source": [
    "Проверим, подходит ли столбец `network_username` для объединения датафреймов `df_company` и `df_people`. Для этого соединим два датасета по `network_username`, удалим из объединенного датасета все столбцы, кроме `company_id` от двух присоединяемых датасетов. По значениям в них будем судить, можно ли объединять датасеты по рассматриваемому столбцу."
   ]
  },
  {
   "cell_type": "code",
   "execution_count": 77,
   "metadata": {},
   "outputs": [
    {
     "name": "stdout",
     "output_type": "stream",
     "text": [
      "Количество дубликатов в df_company: 1217\n",
      "Количество дубликатов в df_people: 446\n"
     ]
    }
   ],
   "source": [
    "# Отфильтруем датасеты от индикаторов пропуска в столбце `network_username`\n",
    "# и посчитаем количество дубликатов них.\n",
    "df_company_filt = df_company.query('network_username != \"unknown\"')\n",
    "df_people_filt = df_people.query('network_username != \"unknown\"')\n",
    "\n",
    "# Выведем количество дубликатов\n",
    "dupl_company = df_company_filt['network_username'].duplicated().sum()\n",
    "dupl_people = df_people_filt['network_username'].duplicated().sum()\n",
    "print(f'Количество дубликатов в df_company: {dupl_company}')\n",
    "print(f'Количество дубликатов в df_people: {dupl_people}')"
   ]
  },
  {
   "cell_type": "markdown",
   "metadata": {},
   "source": [
    "Дублирующиеся записи присутствуют в данных. \n",
    "\n",
    "Объединим два датасета по `network_username` и рассмотрим получившийся датасет."
   ]
  },
  {
   "cell_type": "code",
   "execution_count": 78,
   "metadata": {},
   "outputs": [
    {
     "data": {
      "text/html": [
       "<div>\n",
       "<style scoped>\n",
       "    .dataframe tbody tr th:only-of-type {\n",
       "        vertical-align: middle;\n",
       "    }\n",
       "\n",
       "    .dataframe tbody tr th {\n",
       "        vertical-align: top;\n",
       "    }\n",
       "\n",
       "    .dataframe thead th {\n",
       "        text-align: right;\n",
       "    }\n",
       "</style>\n",
       "<table border=\"1\" class=\"dataframe\">\n",
       "  <thead>\n",
       "    <tr style=\"text-align: right;\">\n",
       "      <th></th>\n",
       "      <th>company_id_company</th>\n",
       "      <th>name</th>\n",
       "      <th>network_username</th>\n",
       "      <th>person_id</th>\n",
       "      <th>first_name</th>\n",
       "      <th>last_name</th>\n",
       "      <th>company_id_people</th>\n",
       "      <th>is_same_company_id</th>\n",
       "    </tr>\n",
       "  </thead>\n",
       "  <tbody>\n",
       "    <tr>\n",
       "      <th>1</th>\n",
       "      <td>10243</td>\n",
       "      <td>future delivery</td>\n",
       "      <td>yukaichou</td>\n",
       "      <td>17229</td>\n",
       "      <td>Yu-kai</td>\n",
       "      <td>Chou</td>\n",
       "      <td>10243</td>\n",
       "      <td>True</td>\n",
       "    </tr>\n",
       "    <tr>\n",
       "      <th>4</th>\n",
       "      <td>103681</td>\n",
       "      <td>boulibrand marketing</td>\n",
       "      <td>stroumboulis</td>\n",
       "      <td>109189</td>\n",
       "      <td>Georgios</td>\n",
       "      <td>Stroumboulis</td>\n",
       "      <td>103677</td>\n",
       "      <td>False</td>\n",
       "    </tr>\n",
       "    <tr>\n",
       "      <th>5</th>\n",
       "      <td>10388</td>\n",
       "      <td>townconnect</td>\n",
       "      <td>mikeford</td>\n",
       "      <td>17425</td>\n",
       "      <td>Mike</td>\n",
       "      <td>Ford</td>\n",
       "      <td>10388</td>\n",
       "      <td>True</td>\n",
       "    </tr>\n",
       "    <tr>\n",
       "      <th>6</th>\n",
       "      <td>104638</td>\n",
       "      <td>36 kr</td>\n",
       "      <td>36kr</td>\n",
       "      <td>109580</td>\n",
       "      <td>Ellen</td>\n",
       "      <td>Cheng</td>\n",
       "      <td>104631</td>\n",
       "      <td>False</td>\n",
       "    </tr>\n",
       "    <tr>\n",
       "      <th>9</th>\n",
       "      <td>105775</td>\n",
       "      <td>wnm live</td>\n",
       "      <td>wnmlive</td>\n",
       "      <td>98389</td>\n",
       "      <td>Brian</td>\n",
       "      <td>P. Hamachek</td>\n",
       "      <td>105775</td>\n",
       "      <td>True</td>\n",
       "    </tr>\n",
       "    <tr>\n",
       "      <th>10</th>\n",
       "      <td>106058</td>\n",
       "      <td>kopcha business solutions</td>\n",
       "      <td>andacergun</td>\n",
       "      <td>110231</td>\n",
       "      <td>andac</td>\n",
       "      <td>ergun</td>\n",
       "      <td>106058</td>\n",
       "      <td>True</td>\n",
       "    </tr>\n",
       "    <tr>\n",
       "      <th>11</th>\n",
       "      <td>106396</td>\n",
       "      <td>top10.com</td>\n",
       "      <td>top10</td>\n",
       "      <td>55789</td>\n",
       "      <td>Tom</td>\n",
       "      <td>Leathes</td>\n",
       "      <td>44881</td>\n",
       "      <td>False</td>\n",
       "    </tr>\n",
       "    <tr>\n",
       "      <th>12</th>\n",
       "      <td>107521</td>\n",
       "      <td>whatfolio</td>\n",
       "      <td>whatfolio</td>\n",
       "      <td>110365</td>\n",
       "      <td>Elemi</td>\n",
       "      <td>Atigolo</td>\n",
       "      <td>107521</td>\n",
       "      <td>True</td>\n",
       "    </tr>\n",
       "    <tr>\n",
       "      <th>13</th>\n",
       "      <td>10820</td>\n",
       "      <td>fastmetrics</td>\n",
       "      <td>100mbpsfiber</td>\n",
       "      <td>28142</td>\n",
       "      <td>Cody James</td>\n",
       "      <td>Miller</td>\n",
       "      <td>10820</td>\n",
       "      <td>True</td>\n",
       "    </tr>\n",
       "    <tr>\n",
       "      <th>14</th>\n",
       "      <td>10821</td>\n",
       "      <td>youcalc</td>\n",
       "      <td>youcalc</td>\n",
       "      <td>17845</td>\n",
       "      <td>Rasmus</td>\n",
       "      <td>Aaen Madsen</td>\n",
       "      <td>10821</td>\n",
       "      <td>True</td>\n",
       "    </tr>\n",
       "  </tbody>\n",
       "</table>\n",
       "</div>"
      ],
      "text/plain": [
       "    company_id_company                       name network_username  person_id  \\\n",
       "1                10243            future delivery        yukaichou      17229   \n",
       "4               103681       boulibrand marketing     stroumboulis     109189   \n",
       "5                10388                townconnect         mikeford      17425   \n",
       "6               104638                      36 kr             36kr     109580   \n",
       "9               105775                   wnm live          wnmlive      98389   \n",
       "10              106058  kopcha business solutions       andacergun     110231   \n",
       "11              106396                  top10.com            top10      55789   \n",
       "12              107521                  whatfolio        whatfolio     110365   \n",
       "13               10820                fastmetrics     100mbpsfiber      28142   \n",
       "14               10821                    youcalc          youcalc      17845   \n",
       "\n",
       "    first_name     last_name  company_id_people  is_same_company_id  \n",
       "1       Yu-kai          Chou              10243                True  \n",
       "4     Georgios  Stroumboulis             103677               False  \n",
       "5         Mike          Ford              10388                True  \n",
       "6        Ellen         Cheng             104631               False  \n",
       "9        Brian   P. Hamachek             105775                True  \n",
       "10       andac         ergun             106058                True  \n",
       "11         Tom       Leathes              44881               False  \n",
       "12       Elemi       Atigolo             107521                True  \n",
       "13  Cody James        Miller              10820                True  \n",
       "14      Rasmus   Aaen Madsen              10821                True  "
      ]
     },
     "execution_count": 78,
     "metadata": {},
     "output_type": "execute_result"
    }
   ],
   "source": [
    "# Объединим два датасета по полю 'network_username'\n",
    "# Оставим только интересующие нас столбцы\n",
    "df_company_people_merge = (\n",
    "    df_company_filt[['company_id', 'name', 'network_username']]\n",
    "    .merge(df_people_filt, on='network_username', how='inner', suffixes=('_company', '_people'))\n",
    ")\n",
    "\n",
    "# Очистим датасет от пропусков в 'company_id_people'\n",
    "df_company_people_merge = df_company_people_merge.query('company_id_people > -1')\n",
    "\n",
    "# Создадим вспомогательный столбец, который будет показывать,\n",
    "# Совпадают ли значения в столбцах 'company_id_company' и 'company_id_people' \n",
    "df_company_people_merge['is_same_company_id'] = (\n",
    "    df_company_people_merge\n",
    "    .apply(lambda row: True if row['company_id_company'] == row['company_id_people'] else False, axis=1)\n",
    ")\n",
    "\n",
    "df_company_people_merge.head(10)"
   ]
  },
  {
   "cell_type": "markdown",
   "metadata": {},
   "source": [
    "При присоединении датафреймов `df_company_and_rounds` и `df_people` по полю `network_username` id компаний, которые были в двух датасетах, совпадают лишь частично. Возьмем строку, в которой id не совпадают и проверим не являются ли дубликатами две компании с разными id."
   ]
  },
  {
   "cell_type": "code",
   "execution_count": 79,
   "metadata": {},
   "outputs": [
    {
     "data": {
      "text/html": [
       "<div>\n",
       "<style scoped>\n",
       "    .dataframe tbody tr th:only-of-type {\n",
       "        vertical-align: middle;\n",
       "    }\n",
       "\n",
       "    .dataframe tbody tr th {\n",
       "        vertical-align: top;\n",
       "    }\n",
       "\n",
       "    .dataframe thead th {\n",
       "        text-align: right;\n",
       "    }\n",
       "</style>\n",
       "<table border=\"1\" class=\"dataframe\">\n",
       "  <thead>\n",
       "    <tr style=\"text-align: right;\">\n",
       "      <th></th>\n",
       "      <th>company_id_first</th>\n",
       "      <th>name</th>\n",
       "      <th>category_code</th>\n",
       "      <th>status</th>\n",
       "      <th>founded_at</th>\n",
       "      <th>closed_at</th>\n",
       "      <th>domain</th>\n",
       "      <th>network_username</th>\n",
       "      <th>country_code</th>\n",
       "      <th>investment_rounds</th>\n",
       "      <th>funding_rounds</th>\n",
       "      <th>funding_total</th>\n",
       "      <th>milestones</th>\n",
       "      <th>funding_round_id</th>\n",
       "      <th>company_id_second</th>\n",
       "      <th>funded_at</th>\n",
       "      <th>funding_round_type</th>\n",
       "      <th>raised_amount</th>\n",
       "      <th>pre_money_valuation</th>\n",
       "      <th>participants</th>\n",
       "      <th>is_first_round</th>\n",
       "      <th>is_last_round</th>\n",
       "    </tr>\n",
       "  </thead>\n",
       "  <tbody>\n",
       "    <tr>\n",
       "      <th>716</th>\n",
       "      <td>103677.0</td>\n",
       "      <td>Greek Property Exchange (GPE)</td>\n",
       "      <td>web</td>\n",
       "      <td>operating</td>\n",
       "      <td>2010-01-05</td>\n",
       "      <td>NaN</td>\n",
       "      <td>greekpropertyexchange.com</td>\n",
       "      <td>gpe360</td>\n",
       "      <td>NaN</td>\n",
       "      <td>0.0</td>\n",
       "      <td>0.0</td>\n",
       "      <td>0.0</td>\n",
       "      <td>0.0</td>\n",
       "      <td>NaN</td>\n",
       "      <td>NaN</td>\n",
       "      <td>NaN</td>\n",
       "      <td>NaN</td>\n",
       "      <td>NaN</td>\n",
       "      <td>NaN</td>\n",
       "      <td>NaN</td>\n",
       "      <td>NaN</td>\n",
       "      <td>NaN</td>\n",
       "    </tr>\n",
       "    <tr>\n",
       "      <th>717</th>\n",
       "      <td>103681.0</td>\n",
       "      <td>BouliBrand Marketing</td>\n",
       "      <td>consulting</td>\n",
       "      <td>operating</td>\n",
       "      <td>2005-03-01</td>\n",
       "      <td>NaN</td>\n",
       "      <td>boulibrand.com</td>\n",
       "      <td>stroumboulis</td>\n",
       "      <td>NaN</td>\n",
       "      <td>0.0</td>\n",
       "      <td>0.0</td>\n",
       "      <td>0.0</td>\n",
       "      <td>0.0</td>\n",
       "      <td>NaN</td>\n",
       "      <td>NaN</td>\n",
       "      <td>NaN</td>\n",
       "      <td>NaN</td>\n",
       "      <td>NaN</td>\n",
       "      <td>NaN</td>\n",
       "      <td>NaN</td>\n",
       "      <td>NaN</td>\n",
       "      <td>NaN</td>\n",
       "    </tr>\n",
       "  </tbody>\n",
       "</table>\n",
       "</div>"
      ],
      "text/plain": [
       "     company_id_first                           name category_code     status  \\\n",
       "716          103677.0  Greek Property Exchange (GPE)           web  operating   \n",
       "717          103681.0           BouliBrand Marketing    consulting  operating   \n",
       "\n",
       "     founded_at closed_at                     domain network_username  \\\n",
       "716  2010-01-05       NaN  greekpropertyexchange.com           gpe360   \n",
       "717  2005-03-01       NaN             boulibrand.com     stroumboulis   \n",
       "\n",
       "    country_code  investment_rounds  funding_rounds  funding_total  \\\n",
       "716          NaN                0.0             0.0            0.0   \n",
       "717          NaN                0.0             0.0            0.0   \n",
       "\n",
       "     milestones  funding_round_id  company_id_second funded_at  \\\n",
       "716         0.0               NaN                NaN       NaN   \n",
       "717         0.0               NaN                NaN       NaN   \n",
       "\n",
       "    funding_round_type  raised_amount  pre_money_valuation  participants  \\\n",
       "716                NaN            NaN                  NaN           NaN   \n",
       "717                NaN            NaN                  NaN           NaN   \n",
       "\n",
       "     is_first_round  is_last_round  \n",
       "716             NaN            NaN  \n",
       "717             NaN            NaN  "
      ]
     },
     "execution_count": 79,
     "metadata": {},
     "output_type": "execute_result"
    }
   ],
   "source": [
    "df_company_and_rounds.query('company_id_first in (103681, 103677)')"
   ]
  },
  {
   "cell_type": "markdown",
   "metadata": {},
   "source": [
    "Компании не являются дубликатами.\n",
    "\n",
    "Рассмотрим визуально, насколько сильно значения двух датафреймов по столбцу `network_username` пересекаются между собой. Построим диаграмму Венна."
   ]
  },
  {
   "cell_type": "code",
   "execution_count": 98,
   "metadata": {},
   "outputs": [
    {
     "data": {
      "image/png": "[encoded data removed]",
      "text/plain": [
       "<Figure size 640x480 with 1 Axes>"
      ]
     },
     "metadata": {},
     "output_type": "display_data"
    }
   ],
   "source": [
    "# Создадим множества уникальных значений для двух датасетов\n",
    "network_username_car = set(df_company_filt['network_username'].unique())\n",
    "network_username_people = set(df_people_filt['network_username'].unique())\n",
    "\n",
    "# Построим диаграмму Венна\n",
    "venn2([network_username_car, network_username_people], set_labels=('df_company_and_rounds', 'df_people'))\n",
    "\n",
    "plt.title(\"Пересечение множеств значений датасетов \\n 'df_company_and_rounds' и 'df_people' \\n по столбцу 'network_username'\")\n",
    "plt.show()"
   ]
  },
  {
   "cell_type": "markdown",
   "metadata": {},
   "source": [
    "По диаграмме видно, что два датасета `df_company_and_rounds` и `df_people` почти не пересекаются по столбцу `network_username`.\n",
    "\n",
    "Из всего вышесказанного следует, что использовать поле `network_username` для объединения датасетов `df_company_and_rounds` и `df_people` нельзя."
   ]
  },
  {
   "cell_type": "markdown",
   "metadata": {
    "id": "EHcODomVrJg1"
   },
   "source": [
    "\n",
    "### Проблемный датасет и причина возникновения пропусков"
   ]
  },
  {
   "cell_type": "markdown",
   "metadata": {},
   "source": [
    "На этапе предобработки данных было выяснено, что датасет `df_company_and_rounds` состоит из двух датасетов. Мы его разбили на `df_company` и `df_rounds`. В `df_company` было удалено 302 полностью пустых строк (0.1% данных), а в `df_rounds` - `164846` (75.7% данных). Все типы данных в столбцах были приведены к требуемым."
   ]
  },
  {
   "cell_type": "markdown",
   "metadata": {
    "id": "bmVYhphNrJg2"
   },
   "source": [
    "\n",
    "## Исследовательский анализ объединённых таблиц"
   ]
  },
  {
   "cell_type": "markdown",
   "metadata": {
    "id": "3Di6tCT3rJg2"
   },
   "source": [
    "\n",
    "### Объединение данных"
   ]
  },
  {
   "cell_type": "markdown",
   "metadata": {},
   "source": [
    "Заказчика интересуют компании, которые меняли или готовы менять владельцев, так же получение инвестиций или финансирования, по мнению заказчика, означает интерес к покупке или продаже компании. Исходя из этого создадим датафрейм на основе `df_company` и `df_rounds`. Отфильтруем его, оставив строки, значения которых в столбцах `funding_rounds` (число раундов финансирования) или `investment_rounds` (число инвестиционных раундов) будут больше 0, и строки, содержащие в колонце `status` значение `acquired`."
   ]
  },
  {
   "cell_type": "code",
   "execution_count": 81,
   "metadata": {},
   "outputs": [
    {
     "data": {
      "text/html": [
       "<div>\n",
       "<style scoped>\n",
       "    .dataframe tbody tr th:only-of-type {\n",
       "        vertical-align: middle;\n",
       "    }\n",
       "\n",
       "    .dataframe tbody tr th {\n",
       "        vertical-align: top;\n",
       "    }\n",
       "\n",
       "    .dataframe thead th {\n",
       "        text-align: right;\n",
       "    }\n",
       "</style>\n",
       "<table border=\"1\" class=\"dataframe\">\n",
       "  <thead>\n",
       "    <tr style=\"text-align: right;\">\n",
       "      <th></th>\n",
       "      <th>company_id</th>\n",
       "      <th>name</th>\n",
       "      <th>category_code</th>\n",
       "      <th>status</th>\n",
       "      <th>founded_at</th>\n",
       "      <th>closed_at</th>\n",
       "      <th>domain</th>\n",
       "      <th>network_username</th>\n",
       "      <th>country_code</th>\n",
       "      <th>investment_rounds</th>\n",
       "      <th>funding_rounds</th>\n",
       "      <th>funding_total</th>\n",
       "      <th>milestones</th>\n",
       "      <th>funding_round_id</th>\n",
       "      <th>funded_at</th>\n",
       "      <th>funding_round_type</th>\n",
       "      <th>raised_amount</th>\n",
       "      <th>pre_money_valuation</th>\n",
       "      <th>participants</th>\n",
       "      <th>is_first_round</th>\n",
       "      <th>is_last_round</th>\n",
       "    </tr>\n",
       "  </thead>\n",
       "  <tbody>\n",
       "    <tr>\n",
       "      <th>0</th>\n",
       "      <td>1</td>\n",
       "      <td>wetpaint</td>\n",
       "      <td>web</td>\n",
       "      <td>operating</td>\n",
       "      <td>2005-10-17</td>\n",
       "      <td>NaT</td>\n",
       "      <td>wetpaint-inc.com</td>\n",
       "      <td>bachelrwetpaint</td>\n",
       "      <td>usa</td>\n",
       "      <td>0.0</td>\n",
       "      <td>3.0</td>\n",
       "      <td>39750000.0</td>\n",
       "      <td>5.0</td>\n",
       "      <td>888.0</td>\n",
       "      <td>2005-10-01</td>\n",
       "      <td>series-a</td>\n",
       "      <td>5250000.0</td>\n",
       "      <td>0.0</td>\n",
       "      <td>2.0</td>\n",
       "      <td>False</td>\n",
       "      <td>True</td>\n",
       "    </tr>\n",
       "    <tr>\n",
       "      <th>1</th>\n",
       "      <td>1</td>\n",
       "      <td>wetpaint</td>\n",
       "      <td>web</td>\n",
       "      <td>operating</td>\n",
       "      <td>2005-10-17</td>\n",
       "      <td>NaT</td>\n",
       "      <td>wetpaint-inc.com</td>\n",
       "      <td>bachelrwetpaint</td>\n",
       "      <td>usa</td>\n",
       "      <td>0.0</td>\n",
       "      <td>3.0</td>\n",
       "      <td>39750000.0</td>\n",
       "      <td>5.0</td>\n",
       "      <td>889.0</td>\n",
       "      <td>2007-01-01</td>\n",
       "      <td>series-b</td>\n",
       "      <td>9500000.0</td>\n",
       "      <td>0.0</td>\n",
       "      <td>3.0</td>\n",
       "      <td>False</td>\n",
       "      <td>False</td>\n",
       "    </tr>\n",
       "    <tr>\n",
       "      <th>2</th>\n",
       "      <td>1</td>\n",
       "      <td>wetpaint</td>\n",
       "      <td>web</td>\n",
       "      <td>operating</td>\n",
       "      <td>2005-10-17</td>\n",
       "      <td>NaT</td>\n",
       "      <td>wetpaint-inc.com</td>\n",
       "      <td>bachelrwetpaint</td>\n",
       "      <td>usa</td>\n",
       "      <td>0.0</td>\n",
       "      <td>3.0</td>\n",
       "      <td>39750000.0</td>\n",
       "      <td>5.0</td>\n",
       "      <td>2312.0</td>\n",
       "      <td>2008-05-19</td>\n",
       "      <td>series-c+</td>\n",
       "      <td>25000000.0</td>\n",
       "      <td>0.0</td>\n",
       "      <td>4.0</td>\n",
       "      <td>True</td>\n",
       "      <td>False</td>\n",
       "    </tr>\n",
       "    <tr>\n",
       "      <th>5</th>\n",
       "      <td>4</td>\n",
       "      <td>digg</td>\n",
       "      <td>news</td>\n",
       "      <td>acquired</td>\n",
       "      <td>2004-10-11</td>\n",
       "      <td>NaT</td>\n",
       "      <td>digg.com</td>\n",
       "      <td>digg</td>\n",
       "      <td>usa</td>\n",
       "      <td>0.0</td>\n",
       "      <td>4.0</td>\n",
       "      <td>45000000.0</td>\n",
       "      <td>8.0</td>\n",
       "      <td>1.0</td>\n",
       "      <td>2006-12-01</td>\n",
       "      <td>series-b</td>\n",
       "      <td>8500000.0</td>\n",
       "      <td>0.0</td>\n",
       "      <td>2.0</td>\n",
       "      <td>False</td>\n",
       "      <td>False</td>\n",
       "    </tr>\n",
       "    <tr>\n",
       "      <th>6</th>\n",
       "      <td>4</td>\n",
       "      <td>digg</td>\n",
       "      <td>news</td>\n",
       "      <td>acquired</td>\n",
       "      <td>2004-10-11</td>\n",
       "      <td>NaT</td>\n",
       "      <td>digg.com</td>\n",
       "      <td>digg</td>\n",
       "      <td>usa</td>\n",
       "      <td>0.0</td>\n",
       "      <td>4.0</td>\n",
       "      <td>45000000.0</td>\n",
       "      <td>8.0</td>\n",
       "      <td>85.0</td>\n",
       "      <td>2005-10-01</td>\n",
       "      <td>series-a</td>\n",
       "      <td>2800000.0</td>\n",
       "      <td>0.0</td>\n",
       "      <td>8.0</td>\n",
       "      <td>False</td>\n",
       "      <td>True</td>\n",
       "    </tr>\n",
       "  </tbody>\n",
       "</table>\n",
       "</div>"
      ],
      "text/plain": [
       "   company_id      name category_code     status founded_at closed_at  \\\n",
       "0           1  wetpaint           web  operating 2005-10-17       NaT   \n",
       "1           1  wetpaint           web  operating 2005-10-17       NaT   \n",
       "2           1  wetpaint           web  operating 2005-10-17       NaT   \n",
       "5           4      digg          news   acquired 2004-10-11       NaT   \n",
       "6           4      digg          news   acquired 2004-10-11       NaT   \n",
       "\n",
       "             domain network_username country_code  investment_rounds  \\\n",
       "0  wetpaint-inc.com  bachelrwetpaint          usa                0.0   \n",
       "1  wetpaint-inc.com  bachelrwetpaint          usa                0.0   \n",
       "2  wetpaint-inc.com  bachelrwetpaint          usa                0.0   \n",
       "5          digg.com             digg          usa                0.0   \n",
       "6          digg.com             digg          usa                0.0   \n",
       "\n",
       "   funding_rounds  funding_total  milestones  funding_round_id  funded_at  \\\n",
       "0             3.0     39750000.0         5.0             888.0 2005-10-01   \n",
       "1             3.0     39750000.0         5.0             889.0 2007-01-01   \n",
       "2             3.0     39750000.0         5.0            2312.0 2008-05-19   \n",
       "5             4.0     45000000.0         8.0               1.0 2006-12-01   \n",
       "6             4.0     45000000.0         8.0              85.0 2005-10-01   \n",
       "\n",
       "  funding_round_type  raised_amount  pre_money_valuation  participants  \\\n",
       "0           series-a      5250000.0                  0.0           2.0   \n",
       "1           series-b      9500000.0                  0.0           3.0   \n",
       "2          series-c+     25000000.0                  0.0           4.0   \n",
       "5           series-b      8500000.0                  0.0           2.0   \n",
       "6           series-a      2800000.0                  0.0           8.0   \n",
       "\n",
       "  is_first_round is_last_round  \n",
       "0          False          True  \n",
       "1          False         False  \n",
       "2           True         False  \n",
       "5          False         False  \n",
       "6          False          True  "
      ]
     },
     "execution_count": 81,
     "metadata": {},
     "output_type": "execute_result"
    }
   ],
   "source": [
    "# Объединяем датасеты в один\n",
    "df_company_and_rounds = df_company.merge(df_rounds, on='company_id', how='outer')\n",
    "\n",
    "# Оставляем строки, которые имеют одно из следующих условий:\n",
    "# `funding_rounds` > 0 или `investment_rounds` > 0\n",
    "# или `status` == `acquired`\n",
    "df_car = df_company_and_rounds.query(\n",
    "    'funding_rounds > 0 or investment_rounds > 0 \\\n",
    "    or status == \"acquired\"').copy()\n",
    "\n",
    "# Предварительно посмотрим на датасет\n",
    "df_car.head()"
   ]
  },
  {
   "cell_type": "markdown",
   "metadata": {},
   "source": [
    "Датасет создан. Дальнейший анализ будем проводить по нему."
   ]
  },
  {
   "cell_type": "markdown",
   "metadata": {
    "id": "DFHINkV3rJg2"
   },
   "source": [
    "\n",
    "### Анализ выбросов"
   ]
  },
  {
   "cell_type": "markdown",
   "metadata": {
    "id": "8jm75fKXrJg2",
    "vscode": {
     "languageId": "plaintext"
    }
   },
   "source": [
    "Заказчика интересует типичный размер средств финансирования, который предоставлялся компаниям. \n",
    "\n",
    "Для начала изучим распределение средств финансирования по процентилям, зачем построим гистограмму распределения средств и диаграмму размаха для поиска выбросов."
   ]
  },
  {
   "cell_type": "code",
   "execution_count": 82,
   "metadata": {},
   "outputs": [
    {
     "data": {
      "text/plain": [
       "count    6.166600e+04\n",
       "mean     2.114623e+07\n",
       "std      9.013045e+07\n",
       "min      0.000000e+00\n",
       "1%       0.000000e+00\n",
       "25%      6.000000e+04\n",
       "50%      2.490000e+06\n",
       "75%      1.594880e+07\n",
       "99%      2.550000e+08\n",
       "max      5.700000e+09\n",
       "Name: funding_total, dtype: float64"
      ]
     },
     "execution_count": 82,
     "metadata": {},
     "output_type": "execute_result"
    }
   ],
   "source": [
    "# Найдем основные статистики по `funding_total` \n",
    "df_car['funding_total'].describe(percentiles=[0.01, 0.25, 0.50, 0.75, 0.99])"
   ]
  },
  {
   "cell_type": "markdown",
   "metadata": {},
   "source": [
    "По полученным данным можно сказать следующее:\n",
    "- Данные имеют правостороннюю скошенность, это подтверждается смещением среднего значения (2.1 * 10^7) вправо относительно медианного (2.5 * 10^6).\n",
    "- Наблюдаются аномальные значения сумм финансирования, которые равняются 0. Причем не менее 1% среди всех компаний было профинансировано на 0 сумму.\n",
    "- Размах между различными значениями финансирования огромен. Стандартное отклонение составляет 90 млн, что говорит о высокой вариативности данных.\n",
    "- 50% средств составляло сумму финансирования менее 2.5 млн."
   ]
  },
  {
   "cell_type": "markdown",
   "metadata": {},
   "source": [
    "По столбцу `funding_total` построим гистограмму распределения и диаграмму размаха. Для всех осей установим логарифмическую шкалу."
   ]
  },
  {
   "cell_type": "code",
   "execution_count": 83,
   "metadata": {},
   "outputs": [
    {
     "data": {
      "image/png": "[encoded data removed]",
      "text/plain": [
       "<Figure size 1000x600 with 1 Axes>"
      ]
     },
     "metadata": {},
     "output_type": "display_data"
    }
   ],
   "source": [
    "# Построим гистограмму распределения средств финансирования\n",
    "plt.figure(figsize=(10,6))\n",
    "\n",
    "df_car['funding_total'].plot(\n",
    "    kind='hist',\n",
    "    bins=100,\n",
    "    edgecolor='black',\n",
    "    color='lightgreen',\n",
    "    alpha=0.5\n",
    ")\n",
    "\n",
    "plt.xticks([1e3, 1e4, 1e5, 1e6, 1e7], \n",
    "           ['1 млн', '10 млн', '100 млн', '1 млрд', '10 млрд'])\n",
    "\n",
    "plt.xscale('log')\n",
    "plt.yscale('log')\n",
    "plt.title('Распределение размера средств финансирования по компаниям')\n",
    "plt.xlabel('Размер средств финансирования, $')\n",
    "plt.ylabel('Количество компаний, шт.')\n",
    "\n",
    "plt.show()"
   ]
  },
  {
   "cell_type": "code",
   "execution_count": 84,
   "metadata": {},
   "outputs": [
    {
     "data": {
      "image/png": "[encoded data removed]",
      "text/plain": [
       "<Figure size 700x400 with 1 Axes>"
      ]
     },
     "metadata": {},
     "output_type": "display_data"
    }
   ],
   "source": [
    "# Создадим диаграмму размаха\n",
    "plt.figure(figsize=(7,4))\n",
    "\n",
    "df_car.boxplot(column='funding_total', vert=False)\n",
    "\n",
    "plt.xscale('log')  # Логарифмическая шкала\n",
    "plt.title('Диаграмма размаха по средствам финансирования компаний')\n",
    "plt.xlabel('Размер средств финансирования, $')\n",
    "plt.show()"
   ]
  },
  {
   "cell_type": "markdown",
   "metadata": {},
   "source": [
    "Согласно проведенному анализу можно сделать следующие выводы:\n",
    "- В данных присутствуют аномальные значения финансирования, которые равны 0.\n",
    "- Присутствуют нетипичные значения финансирования, которые начинаются от ~ 30 млн.\n",
    "- Межквартильный размах для данных составляет 60 тыс - 15.9 млн.\n",
    "\n",
    "Чтобы правильно оценить типичный размер средств финансирования компаний необходимо убрать из выборки нулевые значения и аномально высокие - значения выше 200 млн (по 99 процентилю). "
   ]
  },
  {
   "cell_type": "markdown",
   "metadata": {},
   "source": [
    "Проведем фильтрацию датафрейма от аномальных значений, чтобы узнать типичный размер средств финансирования для компаний."
   ]
  },
  {
   "cell_type": "code",
   "execution_count": 85,
   "metadata": {},
   "outputs": [],
   "source": [
    "# Отфильтруем датасет от аномальных значений\n",
    "percentile_99 = df_car['funding_total'].quantile(0.99)\n",
    "\n",
    "df_car_without_outliers = df_car.loc[\n",
    "    (df_car['funding_total'] > 0) &\n",
    "    (df_car['funding_total'] < percentile_99)\n",
    "]"
   ]
  },
  {
   "cell_type": "markdown",
   "metadata": {},
   "source": [
    "Теперь на отфильтрованном датасете от выбросов, найдем основные статистики, так же построим гистограмму распределения и график разброса по столбцу `funding_total`"
   ]
  },
  {
   "cell_type": "code",
   "execution_count": 86,
   "metadata": {},
   "outputs": [
    {
     "data": {
      "text/plain": [
       "count    4.779300e+04\n",
       "mean     1.946990e+07\n",
       "std      3.394249e+07\n",
       "min      2.910000e+02\n",
       "1%       1.621380e+04\n",
       "25%      1.025000e+06\n",
       "50%      5.600000e+06\n",
       "75%      2.216510e+07\n",
       "99%      1.755085e+08\n",
       "max      2.530000e+08\n",
       "Name: funding_total, dtype: float64"
      ]
     },
     "execution_count": 86,
     "metadata": {},
     "output_type": "execute_result"
    }
   ],
   "source": [
    "df_car_without_outliers['funding_total'].describe(percentiles=[0.01, 0.25, 0.50, 0.75, 0.99])"
   ]
  },
  {
   "cell_type": "code",
   "execution_count": 87,
   "metadata": {},
   "outputs": [
    {
     "data": {
      "image/png": "[encoded data removed]",
      "text/plain": [
       "<Figure size 1000x600 with 1 Axes>"
      ]
     },
     "metadata": {},
     "output_type": "display_data"
    }
   ],
   "source": [
    "# Построим гистограмму распределения средств финансирования\n",
    "plt.figure(figsize=(10,6))\n",
    "\n",
    "df_car_without_outliers['funding_total'].plot(\n",
    "    kind='hist',\n",
    "    bins=100,\n",
    "    edgecolor='black',\n",
    "    color='lightgreen',\n",
    "    alpha=0.5\n",
    ")\n",
    "\n",
    "plt.xticks([1e3, 1e4, 1e5, 1e6, 1e7], \n",
    "           ['1 млн', '10 млн', '100 млн', '1 млрд', '10 млрд'])\n",
    "\n",
    "plt.xscale('log')\n",
    "plt.yscale('log')\n",
    "plt.title('Распределение размера средств финансирования по компаниям')\n",
    "plt.xlabel('Размер средств финансирования, $')\n",
    "plt.ylabel('Количество компаний, шт.')\n",
    "\n",
    "plt.show()"
   ]
  },
  {
   "cell_type": "code",
   "execution_count": 88,
   "metadata": {},
   "outputs": [
    {
     "data": {
      "image/png": "[encoded data removed]",
      "text/plain": [
       "<Figure size 700x400 with 1 Axes>"
      ]
     },
     "metadata": {},
     "output_type": "display_data"
    }
   ],
   "source": [
    "# Создадим диаграмму размаха\n",
    "plt.figure(figsize=(7,4))\n",
    "\n",
    "df_car_without_outliers.boxplot(column='funding_total', vert=False)\n",
    "\n",
    "plt.xscale('log')  # Логарифмическая шкала\n",
    "plt.title('Диаграмма размаха по средствам финансирования компаний')\n",
    "plt.xlabel('Размер средств финансирования, $')\n",
    "plt.show()"
   ]
  },
  {
   "cell_type": "markdown",
   "metadata": {},
   "source": [
    "Теперь информация стала точнее и можно сделать следующие выводы:\n",
    "- Половина средств инвестирования не превосходила 5.6 млн.\n",
    "- 25% процентиль составляет 1.0 млн, 75% - 22.2 млн\n",
    "\n",
    "Из этого следует, что типичный размер финансирования находится в интервале от 1.0 млн до 22.2 млн."
   ]
  },
  {
   "cell_type": "markdown",
   "metadata": {
    "id": "JqkRAQrIrJg2"
   },
   "source": [
    "\n",
    "### Куплены забесплатно?"
   ]
  },
  {
   "cell_type": "markdown",
   "metadata": {
    "id": "wJHXCBwwrJg2",
    "vscode": {
     "languageId": "plaintext"
    }
   },
   "source": [
    "Заказчика интересует, какие компании были проданы за 0 или за 1 доллар, но при этом имеющие не нулевой размер финансирования. Чтобы ответить на данный вопрос нам необходимо отфильтровать датасет `df_acquisition`, оставив в нем только компании, которые были проданы за 0 или 1 доллар. Затем по id этих компаний нужно будет присоединить `df_car_without_outliers`, который был отфильтрован по столбцу `funding_total` (сумме финансирования) от 0 значений и выбросов по 99 процентилю. Будем считать, что компания является проданной, когда будет стоять метка об последнем раунде финансирования по столбцу `is_last_round`."
   ]
  },
  {
   "cell_type": "code",
   "execution_count": 89,
   "metadata": {
    "id": "9IDTHfYQFhuX"
   },
   "outputs": [
    {
     "name": "stdout",
     "output_type": "stream",
     "text": [
      "Распределение компаний по способу покупки\n"
     ]
    },
    {
     "data": {
      "text/plain": [
       "term_code\n",
       "unknown           92.5\n",
       "cash               4.2\n",
       "cash_and_stock     2.2\n",
       "stock              1.1\n",
       "Name: proportion, dtype: float64"
      ]
     },
     "metadata": {},
     "output_type": "display_data"
    },
    {
     "name": "stdout",
     "output_type": "stream",
     "text": [
      "\n",
      "Распределение компаний по коду страны компании (топ 10)\n"
     ]
    },
    {
     "data": {
      "text/plain": [
       "country_code\n",
       "usa        76.3\n",
       "unknown     5.1\n",
       "gbr         4.0\n",
       "can         2.8\n",
       "deu         1.9\n",
       "isr         1.7\n",
       "fra         1.5\n",
       "irl         0.7\n",
       "dnk         0.6\n",
       "swe         0.5\n",
       "Name: proportion, dtype: float64"
      ]
     },
     "metadata": {},
     "output_type": "display_data"
    },
    {
     "name": "stdout",
     "output_type": "stream",
     "text": [
      "\n",
      "Распределение компаний по числу инвестиционных раундов (топ 10)\n"
     ]
    },
    {
     "data": {
      "text/plain": [
       "investment_rounds\n",
       "0.0    99.4\n",
       "1.0     0.4\n",
       "2.0     0.1\n",
       "3.0     0.1\n",
       "Name: proportion, dtype: float64"
      ]
     },
     "metadata": {},
     "output_type": "display_data"
    },
    {
     "name": "stdout",
     "output_type": "stream",
     "text": [
      "\n",
      "Распределение компаний по числу раундов финансирования (топ 10)\n"
     ]
    },
    {
     "data": {
      "text/plain": [
       "funding_rounds\n",
       "1.0     51.0\n",
       "2.0     25.5\n",
       "3.0     13.9\n",
       "4.0      5.9\n",
       "5.0      2.0\n",
       "6.0      0.6\n",
       "7.0      0.6\n",
       "8.0      0.2\n",
       "9.0      0.1\n",
       "12.0     0.1\n",
       "Name: proportion, dtype: float64"
      ]
     },
     "metadata": {},
     "output_type": "display_data"
    },
    {
     "name": "stdout",
     "output_type": "stream",
     "text": [
      "\n",
      "Распределение компаний по области деятельности (топ 20)\n"
     ]
    },
    {
     "data": {
      "text/plain": [
       "category_code\n",
       "software            22.6\n",
       "web                 13.4\n",
       "enterprise           8.2\n",
       "mobile               7.2\n",
       "advertising          4.8\n",
       "games_video          4.6\n",
       "biotech              4.2\n",
       "unknown              4.0\n",
       "ecommerce            3.7\n",
       "network_hosting      3.5\n",
       "semiconductor        2.7\n",
       "cleantech            2.4\n",
       "hardware             2.2\n",
       "analytics            2.0\n",
       "security             1.9\n",
       "public_relations     1.6\n",
       "other                1.2\n",
       "search               1.1\n",
       "social               1.1\n",
       "travel               1.0\n",
       "Name: proportion, dtype: float64"
      ]
     },
     "metadata": {},
     "output_type": "display_data"
    },
    {
     "name": "stdout",
     "output_type": "stream",
     "text": [
      "\n"
     ]
    }
   ],
   "source": [
    "# Фильтруем ddf_acquisition, оставив только проданные компании\n",
    "# за 0 или 1$\n",
    "df_acq_zero_purchase = df_acquisition[['id', 'acquired_company_id', 'term_code', 'price_amount', 'acquired_at']].query('price_amount <= 1')\n",
    "\n",
    "# Объединим датасеты\n",
    "df_car_zero_purchase = df_car_without_outliers.merge(df_acq_zero_purchase, left_on='company_id', right_on='acquired_company_id', how='inner')\n",
    "\n",
    "# Отфильтруем, оставив компании с ненулевым объемом финансирования\n",
    "# и с последним раундом финансирования\n",
    "df_car_zero_purchase_filt = df_car_zero_purchase.query('is_last_round == True')\n",
    "\n",
    "# Выведем информацию о распределении компаний по следующим параметрам:\n",
    "    # По способку покупки\n",
    "print('Распределение компаний по способу покупки')\n",
    "display(df_car_zero_purchase_filt['term_code'].value_counts(normalize=True).mul(100).round(1))\n",
    "print(end='\\n')\n",
    "\n",
    "    # По коду страны компании\n",
    "print('Распределение компаний по коду страны компании (топ 10)')\n",
    "display(df_car_zero_purchase_filt['country_code'].value_counts(normalize=True).mul(100).round(1).head(10))\n",
    "print(end='\\n')\n",
    "\n",
    "    # По числу инвестиционных раундов\n",
    "print('Распределение компаний по числу инвестиционных раундов (топ 10)')\n",
    "display(df_car_zero_purchase_filt['investment_rounds'].value_counts(normalize=True).mul(100).round(1).head(10))\n",
    "print(end='\\n')\n",
    "\n",
    "    # По числу раундов финансирования \n",
    "print('Распределение компаний по числу раундов финансирования (топ 10)')\n",
    "display(df_car_zero_purchase_filt['funding_rounds'].value_counts(normalize=True).mul(100).round(1).head(10))\n",
    "print(end='\\n')\n",
    "\n",
    "    # По области деятельности\n",
    "print('Распределение компаний по области деятельности (топ 20)')\n",
    "display(df_car_zero_purchase_filt['category_code'].value_counts(normalize=True).mul(100).round(1).head(20))\n",
    "print(end='\\n')"
   ]
  },
  {
   "cell_type": "markdown",
   "metadata": {},
   "source": [
    "По полученным данным можно сделать следующие выводы:\n",
    "- Большинство компаний, которые были проданы за 0 или 1 доллар относятся к категориям: `software` (22.6%), `web` (13.4%), `enterprise` (8.2%), `mobile` (7.2%).\n",
    "- Почти все компании не получали инвестирование (99.4%).\n",
    "- Большинство компаний получали лишь 1-2 раунда финансирования (51.0% и 25.5% соответственно).\n",
    "- Почти для всех компаний, проданных за 0 или 1$, не указан способ покупки.\n",
    "- Большая часть компаний была основана в США (76.3%)."
   ]
  },
  {
   "cell_type": "markdown",
   "metadata": {},
   "source": [
    "Из этого можно предположить, что основной причиной продажи компаний за символическую сумму ($0-1) стало избежание банкротства - убыточные стартапы искали возможность сохранить остатки бизнеса. Ключевым фактором провала выступила высокая конкуренция (особенно в IT-секторе), которая не позволила компаниям выйти на прибыльность, несмотря на привлеченное финансирование. Характер сделок чаще всего представлял собой приобретение активов (инженерных команд, клиентских баз, технологий) конкурентами, а не полноценную покупку бизнеса."
   ]
  },
  {
   "cell_type": "markdown",
   "metadata": {},
   "source": [
    "Произведем расчет верхней и нижней границы выбросов по столбцу `funding_total`."
   ]
  },
  {
   "cell_type": "code",
   "execution_count": 90,
   "metadata": {},
   "outputs": [
    {
     "name": "stdout",
     "output_type": "stream",
     "text": [
      "Нижняя граница выброса 0\n",
      "Верхняя граница выброса 53,875,250.0\n"
     ]
    }
   ],
   "source": [
    "# Находим квартили 25 и 75\n",
    "q_25 = df_car_without_outliers['funding_total'].quantile(0.25)\n",
    "q_75 = df_car_without_outliers['funding_total'].quantile(0.75)\n",
    "\n",
    "# Рассчитаем межквартильный размах\n",
    "IQR = q_75 - q_25\n",
    "\n",
    "# Определяем нижнюю границу выброса\n",
    "outlier_min = max(0, q_25 - 1.5 * IQR)\n",
    "\n",
    "# Определяем верхнюю границу выброса\n",
    "outlier_max = q_75 + 1.5 * IQR\n",
    "\n",
    "# Выводим результат\n",
    "print(f'Нижняя граница выброса {outlier_min}')\n",
    "print(f'Верхняя граница выброса {outlier_max:,}')"
   ]
  },
  {
   "cell_type": "code",
   "execution_count": 91,
   "metadata": {},
   "outputs": [
    {
     "name": "stdout",
     "output_type": "stream",
     "text": [
      "89 процентиль\n"
     ]
    },
    {
     "data": {
      "text/plain": [
       "np.float64(51500000.0)"
      ]
     },
     "metadata": {},
     "output_type": "display_data"
    },
    {
     "name": "stdout",
     "output_type": "stream",
     "text": [
      "\n",
      "90 процентиль\n"
     ]
    },
    {
     "data": {
      "text/plain": [
       "np.float64(56000000.0)"
      ]
     },
     "metadata": {},
     "output_type": "display_data"
    }
   ],
   "source": [
    "# Найдем какому процентилю соответствует верхняя граница\n",
    "print('89 процентиль')\n",
    "display(df_car_without_outliers['funding_total'].quantile(0.89))\n",
    "print()\n",
    "\n",
    "print('90 процентиль')\n",
    "display(df_car_without_outliers['funding_total'].quantile(0.90))"
   ]
  },
  {
   "cell_type": "markdown",
   "metadata": {},
   "source": [
    "Нижняя граница соответствует 0 процентилю, а верхняя - 90."
   ]
  },
  {
   "cell_type": "markdown",
   "metadata": {
    "id": "mEiWpROjrJg2"
   },
   "source": [
    "\n",
    "### Цены стартапов по категориям"
   ]
  },
  {
   "cell_type": "markdown",
   "metadata": {},
   "source": [
    "Заказчик просит провести анализ компаний и определить, какие категории стартапов были проданы по наиболее высокой типичной стоимости и имеющие высокий разброс цен. Такие компании могут быть привлекательными для крупных инвесторов, которые готовы к высоким рискам ради потенциально больших доходов.\n",
    "\n",
    "Найдем такие компании."
   ]
  },
  {
   "cell_type": "code",
   "execution_count": 92,
   "metadata": {},
   "outputs": [
    {
     "data": {
      "text/html": [
       "<div>\n",
       "<style scoped>\n",
       "    .dataframe tbody tr th:only-of-type {\n",
       "        vertical-align: middle;\n",
       "    }\n",
       "\n",
       "    .dataframe tbody tr th {\n",
       "        vertical-align: top;\n",
       "    }\n",
       "\n",
       "    .dataframe thead th {\n",
       "        text-align: right;\n",
       "    }\n",
       "</style>\n",
       "<table border=\"1\" class=\"dataframe\">\n",
       "  <thead>\n",
       "    <tr style=\"text-align: right;\">\n",
       "      <th></th>\n",
       "      <th>Количество сделок</th>\n",
       "      <th>Медианная сумма покупки, млн</th>\n",
       "      <th>Стандартное отклонение, млн</th>\n",
       "    </tr>\n",
       "    <tr>\n",
       "      <th>category_code</th>\n",
       "      <th></th>\n",
       "      <th></th>\n",
       "      <th></th>\n",
       "    </tr>\n",
       "  </thead>\n",
       "  <tbody>\n",
       "    <tr>\n",
       "      <th>semiconductor</th>\n",
       "      <td>43</td>\n",
       "      <td>17.0</td>\n",
       "      <td>20.3</td>\n",
       "    </tr>\n",
       "    <tr>\n",
       "      <th>biotech</th>\n",
       "      <td>68</td>\n",
       "      <td>16.0</td>\n",
       "      <td>28.1</td>\n",
       "    </tr>\n",
       "    <tr>\n",
       "      <th>hardware</th>\n",
       "      <td>36</td>\n",
       "      <td>12.0</td>\n",
       "      <td>13.4</td>\n",
       "    </tr>\n",
       "    <tr>\n",
       "      <th>cleantech</th>\n",
       "      <td>38</td>\n",
       "      <td>12.0</td>\n",
       "      <td>55.4</td>\n",
       "    </tr>\n",
       "    <tr>\n",
       "      <th>network_hosting</th>\n",
       "      <td>57</td>\n",
       "      <td>8.8</td>\n",
       "      <td>36.5</td>\n",
       "    </tr>\n",
       "    <tr>\n",
       "      <th>games_video</th>\n",
       "      <td>74</td>\n",
       "      <td>7.5</td>\n",
       "      <td>18.1</td>\n",
       "    </tr>\n",
       "    <tr>\n",
       "      <th>software</th>\n",
       "      <td>365</td>\n",
       "      <td>7.3</td>\n",
       "      <td>13.9</td>\n",
       "    </tr>\n",
       "    <tr>\n",
       "      <th>enterprise</th>\n",
       "      <td>132</td>\n",
       "      <td>6.5</td>\n",
       "      <td>12.0</td>\n",
       "    </tr>\n",
       "    <tr>\n",
       "      <th>advertising</th>\n",
       "      <td>77</td>\n",
       "      <td>6.5</td>\n",
       "      <td>16.7</td>\n",
       "    </tr>\n",
       "    <tr>\n",
       "      <th>mobile</th>\n",
       "      <td>117</td>\n",
       "      <td>5.8</td>\n",
       "      <td>26.0</td>\n",
       "    </tr>\n",
       "  </tbody>\n",
       "</table>\n",
       "</div>"
      ],
      "text/plain": [
       "                 Количество сделок  Медианная сумма покупки, млн  \\\n",
       "category_code                                                      \n",
       "semiconductor                   43                          17.0   \n",
       "biotech                         68                          16.0   \n",
       "hardware                        36                          12.0   \n",
       "cleantech                       38                          12.0   \n",
       "network_hosting                 57                           8.8   \n",
       "games_video                     74                           7.5   \n",
       "software                       365                           7.3   \n",
       "enterprise                     132                           6.5   \n",
       "advertising                     77                           6.5   \n",
       "mobile                         117                           5.8   \n",
       "\n",
       "                 Стандартное отклонение, млн  \n",
       "category_code                                 \n",
       "semiconductor                           20.3  \n",
       "biotech                                 28.1  \n",
       "hardware                                13.4  \n",
       "cleantech                               55.4  \n",
       "network_hosting                         36.5  \n",
       "games_video                             18.1  \n",
       "software                                13.9  \n",
       "enterprise                              12.0  \n",
       "advertising                             16.7  \n",
       "mobile                                  26.0  "
      ]
     },
     "execution_count": 92,
     "metadata": {},
     "output_type": "execute_result"
    }
   ],
   "source": [
    "# Найдем для стартапов медианное значение покупки \n",
    "# и стандартное отклонение по каждой группе стартапа\n",
    "df_car_zero_purchase_filt_group = (\n",
    "    df_car_zero_purchase_filt\n",
    "    .groupby('category_code')['funding_total']\n",
    "    .agg(['count','median', 'std'])\n",
    ").sort_values(by=['median'], ascending=False)\n",
    "\n",
    "# Оставим стартапы с количеством сделок > 30\n",
    "# для обеспечения статистической значимости\n",
    "df_car_zero_purchase_filt_group = df_car_zero_purchase_filt_group.query('count > 30')\n",
    "\n",
    "# Переведем единицы измерения в млн\n",
    "for column in ['median', 'std']:\n",
    "    df_car_zero_purchase_filt_group[column] = round(df_car_zero_purchase_filt_group[column] / 10**6, 1)\n",
    "\n",
    "# Переименуем столбцы\n",
    "df_car_zero_purchase_filt_group.columns = ['Количество сделок', 'Медианная сумма покупки, млн', 'Стандартное отклонение, млн']\n",
    "\n",
    "# Отберем ТОП-10 по медианной сумме покупки\n",
    "df_car_zero_purchase_filt_group.head(10)"
   ]
  },
  {
   "cell_type": "code",
   "execution_count": 93,
   "metadata": {},
   "outputs": [
    {
     "data": {
      "text/html": [
       "<div>\n",
       "<style scoped>\n",
       "    .dataframe tbody tr th:only-of-type {\n",
       "        vertical-align: middle;\n",
       "    }\n",
       "\n",
       "    .dataframe tbody tr th {\n",
       "        vertical-align: top;\n",
       "    }\n",
       "\n",
       "    .dataframe thead th {\n",
       "        text-align: right;\n",
       "    }\n",
       "</style>\n",
       "<table border=\"1\" class=\"dataframe\">\n",
       "  <thead>\n",
       "    <tr style=\"text-align: right;\">\n",
       "      <th></th>\n",
       "      <th>Количество сделок</th>\n",
       "      <th>Медианная сумма покупки, млн</th>\n",
       "      <th>Стандартное отклонение, млн</th>\n",
       "    </tr>\n",
       "    <tr>\n",
       "      <th>category_code</th>\n",
       "      <th></th>\n",
       "      <th></th>\n",
       "      <th></th>\n",
       "    </tr>\n",
       "  </thead>\n",
       "  <tbody>\n",
       "    <tr>\n",
       "      <th>cleantech</th>\n",
       "      <td>38</td>\n",
       "      <td>12.0</td>\n",
       "      <td>55.4</td>\n",
       "    </tr>\n",
       "    <tr>\n",
       "      <th>network_hosting</th>\n",
       "      <td>57</td>\n",
       "      <td>8.8</td>\n",
       "      <td>36.5</td>\n",
       "    </tr>\n",
       "    <tr>\n",
       "      <th>biotech</th>\n",
       "      <td>68</td>\n",
       "      <td>16.0</td>\n",
       "      <td>28.1</td>\n",
       "    </tr>\n",
       "    <tr>\n",
       "      <th>mobile</th>\n",
       "      <td>117</td>\n",
       "      <td>5.8</td>\n",
       "      <td>26.0</td>\n",
       "    </tr>\n",
       "    <tr>\n",
       "      <th>semiconductor</th>\n",
       "      <td>43</td>\n",
       "      <td>17.0</td>\n",
       "      <td>20.3</td>\n",
       "    </tr>\n",
       "    <tr>\n",
       "      <th>games_video</th>\n",
       "      <td>74</td>\n",
       "      <td>7.5</td>\n",
       "      <td>18.1</td>\n",
       "    </tr>\n",
       "    <tr>\n",
       "      <th>advertising</th>\n",
       "      <td>77</td>\n",
       "      <td>6.5</td>\n",
       "      <td>16.7</td>\n",
       "    </tr>\n",
       "    <tr>\n",
       "      <th>analytics</th>\n",
       "      <td>32</td>\n",
       "      <td>2.9</td>\n",
       "      <td>15.6</td>\n",
       "    </tr>\n",
       "    <tr>\n",
       "      <th>ecommerce</th>\n",
       "      <td>60</td>\n",
       "      <td>2.9</td>\n",
       "      <td>15.0</td>\n",
       "    </tr>\n",
       "    <tr>\n",
       "      <th>software</th>\n",
       "      <td>365</td>\n",
       "      <td>7.3</td>\n",
       "      <td>13.9</td>\n",
       "    </tr>\n",
       "    <tr>\n",
       "      <th>web</th>\n",
       "      <td>217</td>\n",
       "      <td>3.0</td>\n",
       "      <td>13.5</td>\n",
       "    </tr>\n",
       "    <tr>\n",
       "      <th>hardware</th>\n",
       "      <td>36</td>\n",
       "      <td>12.0</td>\n",
       "      <td>13.4</td>\n",
       "    </tr>\n",
       "    <tr>\n",
       "      <th>enterprise</th>\n",
       "      <td>132</td>\n",
       "      <td>6.5</td>\n",
       "      <td>12.0</td>\n",
       "    </tr>\n",
       "    <tr>\n",
       "      <th>unknown</th>\n",
       "      <td>64</td>\n",
       "      <td>5.0</td>\n",
       "      <td>9.0</td>\n",
       "    </tr>\n",
       "  </tbody>\n",
       "</table>\n",
       "</div>"
      ],
      "text/plain": [
       "                 Количество сделок  Медианная сумма покупки, млн  \\\n",
       "category_code                                                      \n",
       "cleantech                       38                          12.0   \n",
       "network_hosting                 57                           8.8   \n",
       "biotech                         68                          16.0   \n",
       "mobile                         117                           5.8   \n",
       "semiconductor                   43                          17.0   \n",
       "games_video                     74                           7.5   \n",
       "advertising                     77                           6.5   \n",
       "analytics                       32                           2.9   \n",
       "ecommerce                       60                           2.9   \n",
       "software                       365                           7.3   \n",
       "web                            217                           3.0   \n",
       "hardware                        36                          12.0   \n",
       "enterprise                     132                           6.5   \n",
       "unknown                         64                           5.0   \n",
       "\n",
       "                 Стандартное отклонение, млн  \n",
       "category_code                                 \n",
       "cleantech                               55.4  \n",
       "network_hosting                         36.5  \n",
       "biotech                                 28.1  \n",
       "mobile                                  26.0  \n",
       "semiconductor                           20.3  \n",
       "games_video                             18.1  \n",
       "advertising                             16.7  \n",
       "analytics                               15.6  \n",
       "ecommerce                               15.0  \n",
       "software                                13.9  \n",
       "web                                     13.5  \n",
       "hardware                                13.4  \n",
       "enterprise                              12.0  \n",
       "unknown                                  9.0  "
      ]
     },
     "execution_count": 93,
     "metadata": {},
     "output_type": "execute_result"
    }
   ],
   "source": [
    "# Отсортируем по вариативности цен\n",
    "df_car_zero_purchase_filt_group.sort_values(by='Стандартное отклонение, млн', ascending=False)"
   ]
  },
  {
   "cell_type": "markdown",
   "metadata": {
    "id": "eF1aULm5FjfY"
   },
   "source": [
    "Чтобы определиться, на каких категориях стартапах можно заработать, мы отобрали стартапы с самой высокой медианной суммой покупки и наибольшим разбросом значений среди покупок. Для обеспечения статистической значимости (избежания случайности результатов) в выборке были отобраны те категории стартапов, для которых количество проданных стартапов составило минимум 30 единиц.\n",
    "\n",
    "По таблице видно, что среди ТОП-10 категорий стартапов, имеющих наиболее высокую медианную сумму покупки, к наиболее высокорискованным категориям относятся: `cleantech`, `network_hosting`, `biotech`, `mobile`, `semiconductor`."
   ]
  },
  {
   "cell_type": "markdown",
   "metadata": {
    "id": "ADOfyVY_rJg3"
   },
   "source": [
    "\n",
    "### Сколько раундов продержится стартап перед покупкой"
   ]
  },
  {
   "cell_type": "markdown",
   "metadata": {
    "id": "hgXMPC4WrJg3",
    "vscode": {
     "languageId": "plaintext"
    }
   },
   "source": [
    "Заказчика интересует, какое количество раундов финансирования типично для каждого возможного статуса стартапа. Так же его интересует, какое количество раундов типично для каждой категории стартапа, работающих в различных областях.\n",
    "\n",
    "Перед тем, как найти,как распределяются раунды финансирования по статусам стартапов, убрём дублирующиеся записи из датафрейма `df_car`. Затем произведем расчет."
   ]
  },
  {
   "cell_type": "code",
   "execution_count": 94,
   "metadata": {
    "scrolled": true
   },
   "outputs": [
    {
     "name": "stdout",
     "output_type": "stream",
     "text": [
      "Количество удаленных дубликатов: 20919 строк\n",
      "\n"
     ]
    },
    {
     "data": {
      "text/html": [
       "<div>\n",
       "<style scoped>\n",
       "    .dataframe tbody tr th:only-of-type {\n",
       "        vertical-align: middle;\n",
       "    }\n",
       "\n",
       "    .dataframe tbody tr th {\n",
       "        vertical-align: top;\n",
       "    }\n",
       "\n",
       "    .dataframe thead th {\n",
       "        text-align: right;\n",
       "    }\n",
       "</style>\n",
       "<table border=\"1\" class=\"dataframe\">\n",
       "  <thead>\n",
       "    <tr style=\"text-align: right;\">\n",
       "      <th></th>\n",
       "      <th>Суммарное количество раундов</th>\n",
       "      <th>Среднее количество раундов</th>\n",
       "      <th>Медианное количество раундов</th>\n",
       "    </tr>\n",
       "    <tr>\n",
       "      <th>status</th>\n",
       "      <th></th>\n",
       "      <th></th>\n",
       "      <th></th>\n",
       "    </tr>\n",
       "  </thead>\n",
       "  <tbody>\n",
       "    <tr>\n",
       "      <th>ipo</th>\n",
       "      <td>640</td>\n",
       "      <td>1.9</td>\n",
       "      <td>1.0</td>\n",
       "    </tr>\n",
       "    <tr>\n",
       "      <th>operating</th>\n",
       "      <td>28621</td>\n",
       "      <td>1.5</td>\n",
       "      <td>1.0</td>\n",
       "    </tr>\n",
       "    <tr>\n",
       "      <th>closed</th>\n",
       "      <td>2092</td>\n",
       "      <td>1.4</td>\n",
       "      <td>1.0</td>\n",
       "    </tr>\n",
       "    <tr>\n",
       "      <th>acquired</th>\n",
       "      <td>9394</td>\n",
       "      <td>0.5</td>\n",
       "      <td>0.0</td>\n",
       "    </tr>\n",
       "  </tbody>\n",
       "</table>\n",
       "</div>"
      ],
      "text/plain": [
       "           Суммарное количество раундов  Среднее количество раундов  \\\n",
       "status                                                                \n",
       "ipo                                 640                         1.9   \n",
       "operating                         28621                         1.5   \n",
       "closed                             2092                         1.4   \n",
       "acquired                           9394                         0.5   \n",
       "\n",
       "           Медианное количество раундов  \n",
       "status                                   \n",
       "ipo                                 1.0  \n",
       "operating                           1.0  \n",
       "closed                              1.0  \n",
       "acquired                            0.0  "
      ]
     },
     "metadata": {},
     "output_type": "display_data"
    }
   ],
   "source": [
    "# Удаляем дубликаты строк\n",
    "num_rows = df_car.shape[0]\n",
    "df_car_without_dupl = df_car.drop_duplicates(subset=['company_id', 'status'])\n",
    "print(f'Количество удаленных дубликатов: {num_rows - df_car_without_dupl.shape[0]} строк', end='\\n\\n')\n",
    "\n",
    "# Для каждого статуса стартапа найдем суммарное количество раундов\n",
    "# на статус стартапа, так же среднее и медианное значение\n",
    "df_status_group = (\n",
    "    df_car_without_dupl\n",
    "    .groupby('status')['funding_rounds']\n",
    "    .agg(['count', 'mean', 'median'])\n",
    "    .sort_values(by='mean', ascending=False)\n",
    ")\n",
    "\n",
    "# Округлим значение\n",
    "df_status_group['mean'] = df_status_group['mean'].round(1)\n",
    "\n",
    "# Поменяем наименование колонок\n",
    "df_status_group.columns = ['Суммарное количество раундов', 'Среднее количество раундов', 'Медианное количество раундов']\n",
    "\n",
    "display(df_status_group)"
   ]
  },
  {
   "cell_type": "markdown",
   "metadata": {},
   "source": [
    "Большинство раундов финансирования наблюдается для стартапов, имеющих статус `ipo` - 1.9 раундов на 1 стартап, наименьшее - для статуса `acquired` (0.5 раундов на 1 стартап). Это логично: чтобы выйти на биржу, компании нужно пройти долгий путь — масштабироваться, выйти на международные рынки и привлечь крупных инвесторов, а значит, пройти несколько этапов финансирования. Стартапы со статусом acquired, наоборот, часто продаются на ранних этапах — их ценят за технологию, команду или доступ к аудитории, поэтому им не нужно столько раундов. \n",
    "\n",
    "\n",
    "Теперь найдем, сколько раундов финансирования типично для каждой области стартапа. Выведем топ-15 категорий компаний по количеству раундов."
   ]
  },
  {
   "cell_type": "code",
   "execution_count": 100,
   "metadata": {},
   "outputs": [
    {
     "data": {
      "text/html": [
       "<div>\n",
       "<style scoped>\n",
       "    .dataframe tbody tr th:only-of-type {\n",
       "        vertical-align: middle;\n",
       "    }\n",
       "\n",
       "    .dataframe tbody tr th {\n",
       "        vertical-align: top;\n",
       "    }\n",
       "\n",
       "    .dataframe thead th {\n",
       "        text-align: right;\n",
       "    }\n",
       "</style>\n",
       "<table border=\"1\" class=\"dataframe\">\n",
       "  <thead>\n",
       "    <tr style=\"text-align: right;\">\n",
       "      <th></th>\n",
       "      <th>company_id</th>\n",
       "      <th>name</th>\n",
       "      <th>category_code</th>\n",
       "      <th>status</th>\n",
       "      <th>founded_at</th>\n",
       "      <th>closed_at</th>\n",
       "      <th>domain</th>\n",
       "      <th>network_username</th>\n",
       "      <th>country_code</th>\n",
       "      <th>investment_rounds</th>\n",
       "      <th>funding_rounds</th>\n",
       "      <th>funding_total</th>\n",
       "      <th>milestones</th>\n",
       "      <th>funding_round_id</th>\n",
       "      <th>funded_at</th>\n",
       "      <th>funding_round_type</th>\n",
       "      <th>raised_amount</th>\n",
       "      <th>pre_money_valuation</th>\n",
       "      <th>participants</th>\n",
       "      <th>is_first_round</th>\n",
       "      <th>is_last_round</th>\n",
       "    </tr>\n",
       "  </thead>\n",
       "  <tbody>\n",
       "    <tr>\n",
       "      <th>0</th>\n",
       "      <td>1</td>\n",
       "      <td>wetpaint</td>\n",
       "      <td>web</td>\n",
       "      <td>operating</td>\n",
       "      <td>2005-10-17</td>\n",
       "      <td>NaT</td>\n",
       "      <td>wetpaint-inc.com</td>\n",
       "      <td>bachelrwetpaint</td>\n",
       "      <td>usa</td>\n",
       "      <td>0.0</td>\n",
       "      <td>3.0</td>\n",
       "      <td>3.975000e+07</td>\n",
       "      <td>5.0</td>\n",
       "      <td>888.0</td>\n",
       "      <td>2005-10-01</td>\n",
       "      <td>series-a</td>\n",
       "      <td>5250000.0</td>\n",
       "      <td>0.0</td>\n",
       "      <td>2.0</td>\n",
       "      <td>False</td>\n",
       "      <td>True</td>\n",
       "    </tr>\n",
       "    <tr>\n",
       "      <th>5</th>\n",
       "      <td>4</td>\n",
       "      <td>digg</td>\n",
       "      <td>news</td>\n",
       "      <td>acquired</td>\n",
       "      <td>2004-10-11</td>\n",
       "      <td>NaT</td>\n",
       "      <td>digg.com</td>\n",
       "      <td>digg</td>\n",
       "      <td>usa</td>\n",
       "      <td>0.0</td>\n",
       "      <td>4.0</td>\n",
       "      <td>4.500000e+07</td>\n",
       "      <td>8.0</td>\n",
       "      <td>1.0</td>\n",
       "      <td>2006-12-01</td>\n",
       "      <td>series-b</td>\n",
       "      <td>8500000.0</td>\n",
       "      <td>0.0</td>\n",
       "      <td>2.0</td>\n",
       "      <td>False</td>\n",
       "      <td>False</td>\n",
       "    </tr>\n",
       "    <tr>\n",
       "      <th>9</th>\n",
       "      <td>5</td>\n",
       "      <td>socialnet</td>\n",
       "      <td>social</td>\n",
       "      <td>ipo</td>\n",
       "      <td>2004-02-01</td>\n",
       "      <td>NaT</td>\n",
       "      <td>socialnet.com</td>\n",
       "      <td>socialnet</td>\n",
       "      <td>usa</td>\n",
       "      <td>3.0</td>\n",
       "      <td>11.0</td>\n",
       "      <td>2.425700e+09</td>\n",
       "      <td>5.0</td>\n",
       "      <td>2.0</td>\n",
       "      <td>2004-09-01</td>\n",
       "      <td>angel</td>\n",
       "      <td>500000.0</td>\n",
       "      <td>0.0</td>\n",
       "      <td>2.0</td>\n",
       "      <td>False</td>\n",
       "      <td>True</td>\n",
       "    </tr>\n",
       "    <tr>\n",
       "      <th>20</th>\n",
       "      <td>7</td>\n",
       "      <td>omnidrive</td>\n",
       "      <td>network_hosting</td>\n",
       "      <td>closed</td>\n",
       "      <td>2005-11-01</td>\n",
       "      <td>2008-09-15</td>\n",
       "      <td>omnidrive.com</td>\n",
       "      <td>nomadesk</td>\n",
       "      <td>isr</td>\n",
       "      <td>0.0</td>\n",
       "      <td>1.0</td>\n",
       "      <td>8.000000e+05</td>\n",
       "      <td>4.0</td>\n",
       "      <td>225.0</td>\n",
       "      <td>2006-12-01</td>\n",
       "      <td>angel</td>\n",
       "      <td>800000.0</td>\n",
       "      <td>0.0</td>\n",
       "      <td>4.0</td>\n",
       "      <td>True</td>\n",
       "      <td>True</td>\n",
       "    </tr>\n",
       "    <tr>\n",
       "      <th>21</th>\n",
       "      <td>8</td>\n",
       "      <td>postini</td>\n",
       "      <td>web</td>\n",
       "      <td>acquired</td>\n",
       "      <td>1999-06-02</td>\n",
       "      <td>NaT</td>\n",
       "      <td>postini.com</td>\n",
       "      <td>unknown</td>\n",
       "      <td>usa</td>\n",
       "      <td>0.0</td>\n",
       "      <td>0.0</td>\n",
       "      <td>0.000000e+00</td>\n",
       "      <td>0.0</td>\n",
       "      <td>NaN</td>\n",
       "      <td>NaT</td>\n",
       "      <td>NaN</td>\n",
       "      <td>NaN</td>\n",
       "      <td>NaN</td>\n",
       "      <td>NaN</td>\n",
       "      <td>NaN</td>\n",
       "      <td>NaN</td>\n",
       "    </tr>\n",
       "    <tr>\n",
       "      <th>...</th>\n",
       "      <td>...</td>\n",
       "      <td>...</td>\n",
       "      <td>...</td>\n",
       "      <td>...</td>\n",
       "      <td>...</td>\n",
       "      <td>...</td>\n",
       "      <td>...</td>\n",
       "      <td>...</td>\n",
       "      <td>...</td>\n",
       "      <td>...</td>\n",
       "      <td>...</td>\n",
       "      <td>...</td>\n",
       "      <td>...</td>\n",
       "      <td>...</td>\n",
       "      <td>...</td>\n",
       "      <td>...</td>\n",
       "      <td>...</td>\n",
       "      <td>...</td>\n",
       "      <td>...</td>\n",
       "      <td>...</td>\n",
       "      <td>...</td>\n",
       "    </tr>\n",
       "    <tr>\n",
       "      <th>217747</th>\n",
       "      <td>286183</td>\n",
       "      <td>wedding spot</td>\n",
       "      <td>web</td>\n",
       "      <td>operating</td>\n",
       "      <td>2013-05-01</td>\n",
       "      <td>NaT</td>\n",
       "      <td>wedding-spot.com</td>\n",
       "      <td>weddingspot</td>\n",
       "      <td>usa</td>\n",
       "      <td>0.0</td>\n",
       "      <td>1.0</td>\n",
       "      <td>2.250000e+05</td>\n",
       "      <td>0.0</td>\n",
       "      <td>57929.0</td>\n",
       "      <td>2013-12-12</td>\n",
       "      <td>angel</td>\n",
       "      <td>225000.0</td>\n",
       "      <td>0.0</td>\n",
       "      <td>3.0</td>\n",
       "      <td>True</td>\n",
       "      <td>True</td>\n",
       "    </tr>\n",
       "    <tr>\n",
       "      <th>217748</th>\n",
       "      <td>286184</td>\n",
       "      <td>seldar pharma</td>\n",
       "      <td>biotech</td>\n",
       "      <td>operating</td>\n",
       "      <td>NaT</td>\n",
       "      <td>NaT</td>\n",
       "      <td>unknown</td>\n",
       "      <td>unknown</td>\n",
       "      <td>usa</td>\n",
       "      <td>0.0</td>\n",
       "      <td>1.0</td>\n",
       "      <td>1.299900e+07</td>\n",
       "      <td>0.0</td>\n",
       "      <td>57934.0</td>\n",
       "      <td>2013-12-11</td>\n",
       "      <td>venture</td>\n",
       "      <td>12999000.0</td>\n",
       "      <td>0.0</td>\n",
       "      <td>0.0</td>\n",
       "      <td>True</td>\n",
       "      <td>True</td>\n",
       "    </tr>\n",
       "    <tr>\n",
       "      <th>217749</th>\n",
       "      <td>286186</td>\n",
       "      <td>micromidas</td>\n",
       "      <td>cleantech</td>\n",
       "      <td>operating</td>\n",
       "      <td>NaT</td>\n",
       "      <td>NaT</td>\n",
       "      <td>micromidas.com</td>\n",
       "      <td>unknown</td>\n",
       "      <td>usa</td>\n",
       "      <td>0.0</td>\n",
       "      <td>1.0</td>\n",
       "      <td>2.156060e+06</td>\n",
       "      <td>0.0</td>\n",
       "      <td>57936.0</td>\n",
       "      <td>2010-04-07</td>\n",
       "      <td>venture</td>\n",
       "      <td>2156060.0</td>\n",
       "      <td>0.0</td>\n",
       "      <td>0.0</td>\n",
       "      <td>True</td>\n",
       "      <td>True</td>\n",
       "    </tr>\n",
       "    <tr>\n",
       "      <th>217758</th>\n",
       "      <td>286200</td>\n",
       "      <td>stwa</td>\n",
       "      <td>other</td>\n",
       "      <td>operating</td>\n",
       "      <td>1998-01-01</td>\n",
       "      <td>NaT</td>\n",
       "      <td>stwa.com</td>\n",
       "      <td>unknown</td>\n",
       "      <td>usa</td>\n",
       "      <td>0.0</td>\n",
       "      <td>1.0</td>\n",
       "      <td>1.588120e+06</td>\n",
       "      <td>0.0</td>\n",
       "      <td>57943.0</td>\n",
       "      <td>2010-02-05</td>\n",
       "      <td>other</td>\n",
       "      <td>1588120.0</td>\n",
       "      <td>0.0</td>\n",
       "      <td>0.0</td>\n",
       "      <td>True</td>\n",
       "      <td>True</td>\n",
       "    </tr>\n",
       "    <tr>\n",
       "      <th>217772</th>\n",
       "      <td>286215</td>\n",
       "      <td>the betty mills company</td>\n",
       "      <td>ecommerce</td>\n",
       "      <td>operating</td>\n",
       "      <td>NaT</td>\n",
       "      <td>NaT</td>\n",
       "      <td>bettymills.com</td>\n",
       "      <td>unknown</td>\n",
       "      <td>usa</td>\n",
       "      <td>0.0</td>\n",
       "      <td>1.0</td>\n",
       "      <td>2.712500e+05</td>\n",
       "      <td>0.0</td>\n",
       "      <td>57952.0</td>\n",
       "      <td>2010-04-07</td>\n",
       "      <td>venture</td>\n",
       "      <td>271250.0</td>\n",
       "      <td>0.0</td>\n",
       "      <td>0.0</td>\n",
       "      <td>True</td>\n",
       "      <td>True</td>\n",
       "    </tr>\n",
       "  </tbody>\n",
       "</table>\n",
       "<p>40747 rows × 21 columns</p>\n",
       "</div>"
      ],
      "text/plain": [
       "        company_id                     name    category_code     status  \\\n",
       "0                1                 wetpaint              web  operating   \n",
       "5                4                     digg             news   acquired   \n",
       "9                5                socialnet           social        ipo   \n",
       "20               7                omnidrive  network_hosting     closed   \n",
       "21               8                  postini              web   acquired   \n",
       "...            ...                      ...              ...        ...   \n",
       "217747      286183             wedding spot              web  operating   \n",
       "217748      286184            seldar pharma          biotech  operating   \n",
       "217749      286186               micromidas        cleantech  operating   \n",
       "217758      286200                     stwa            other  operating   \n",
       "217772      286215  the betty mills company        ecommerce  operating   \n",
       "\n",
       "       founded_at  closed_at            domain network_username country_code  \\\n",
       "0      2005-10-17        NaT  wetpaint-inc.com  bachelrwetpaint          usa   \n",
       "5      2004-10-11        NaT          digg.com             digg          usa   \n",
       "9      2004-02-01        NaT     socialnet.com        socialnet          usa   \n",
       "20     2005-11-01 2008-09-15     omnidrive.com         nomadesk          isr   \n",
       "21     1999-06-02        NaT       postini.com          unknown          usa   \n",
       "...           ...        ...               ...              ...          ...   \n",
       "217747 2013-05-01        NaT  wedding-spot.com      weddingspot          usa   \n",
       "217748        NaT        NaT           unknown          unknown          usa   \n",
       "217749        NaT        NaT    micromidas.com          unknown          usa   \n",
       "217758 1998-01-01        NaT          stwa.com          unknown          usa   \n",
       "217772        NaT        NaT    bettymills.com          unknown          usa   \n",
       "\n",
       "        investment_rounds  funding_rounds  funding_total  milestones  \\\n",
       "0                     0.0             3.0   3.975000e+07         5.0   \n",
       "5                     0.0             4.0   4.500000e+07         8.0   \n",
       "9                     3.0            11.0   2.425700e+09         5.0   \n",
       "20                    0.0             1.0   8.000000e+05         4.0   \n",
       "21                    0.0             0.0   0.000000e+00         0.0   \n",
       "...                   ...             ...            ...         ...   \n",
       "217747                0.0             1.0   2.250000e+05         0.0   \n",
       "217748                0.0             1.0   1.299900e+07         0.0   \n",
       "217749                0.0             1.0   2.156060e+06         0.0   \n",
       "217758                0.0             1.0   1.588120e+06         0.0   \n",
       "217772                0.0             1.0   2.712500e+05         0.0   \n",
       "\n",
       "        funding_round_id  funded_at funding_round_type  raised_amount  \\\n",
       "0                  888.0 2005-10-01           series-a      5250000.0   \n",
       "5                    1.0 2006-12-01           series-b      8500000.0   \n",
       "9                    2.0 2004-09-01              angel       500000.0   \n",
       "20                 225.0 2006-12-01              angel       800000.0   \n",
       "21                   NaN        NaT                NaN            NaN   \n",
       "...                  ...        ...                ...            ...   \n",
       "217747           57929.0 2013-12-12              angel       225000.0   \n",
       "217748           57934.0 2013-12-11            venture     12999000.0   \n",
       "217749           57936.0 2010-04-07            venture      2156060.0   \n",
       "217758           57943.0 2010-02-05              other      1588120.0   \n",
       "217772           57952.0 2010-04-07            venture       271250.0   \n",
       "\n",
       "        pre_money_valuation  participants is_first_round is_last_round  \n",
       "0                       0.0           2.0          False          True  \n",
       "5                       0.0           2.0          False         False  \n",
       "9                       0.0           2.0          False          True  \n",
       "20                      0.0           4.0           True          True  \n",
       "21                      NaN           NaN            NaN           NaN  \n",
       "...                     ...           ...            ...           ...  \n",
       "217747                  0.0           3.0           True          True  \n",
       "217748                  0.0           0.0           True          True  \n",
       "217749                  0.0           0.0           True          True  \n",
       "217758                  0.0           0.0           True          True  \n",
       "217772                  0.0           0.0           True          True  \n",
       "\n",
       "[40747 rows x 21 columns]"
      ]
     },
     "execution_count": 100,
     "metadata": {},
     "output_type": "execute_result"
    }
   ],
   "source": [
    "df_car_without_dupl"
   ]
  },
  {
   "cell_type": "code",
   "execution_count": 104,
   "metadata": {},
   "outputs": [],
   "source": [
    "# Группируем по области деятельности компании\n",
    "# и высчитываем медианное количество раундов\n",
    "# Предварительно отфильтровав от 0 строк с 0 количеством раундов\n",
    "df_category_group = (\n",
    "    df_car_without_dupl.query('funding_rounds > 0')\n",
    "    .groupby('category_code')['funding_rounds']\n",
    "    .mean()\n",
    ")\n",
    "\n",
    "# Оставляем топ-10 компаний\n",
    "df_category_group_top10 = (\n",
    "    df_category_group\n",
    "    .sort_values(ascending=False)\n",
    "    .head(10)\n",
    "    .reset_index()\n",
    ")\n",
    "\n",
    "# Оставляем анти топ-10 компаний\n",
    "df_category_group_anti_top10 = (\n",
    "    df_category_group\n",
    "    .sort_values(ascending=True)\n",
    "    .head(10)\n",
    "    .reset_index()\n",
    ")"
   ]
  },
  {
   "cell_type": "code",
   "execution_count": 106,
   "metadata": {},
   "outputs": [
    {
     "data": {
      "image/png": "[encoded data removed]",
      "text/plain": [
       "<Figure size 1000x600 with 1 Axes>"
      ]
     },
     "metadata": {},
     "output_type": "display_data"
    }
   ],
   "source": [
    "# Построим график с топ-10 компаниями\n",
    "plt.figure(figsize=(10,6))\n",
    "\n",
    "ax = sns.barplot(\n",
    "    data=df_category_group_top10,\n",
    "    x='funding_rounds',\n",
    "    y='category_code',\n",
    "    palette='flare_r',\n",
    "    hue='category_code'\n",
    ")\n",
    "\n",
    "# Добавляем подписи около столбцов\n",
    "for container in ax.containers:\n",
    "    ax.bar_label(container, fmt='%.2f', fontsize=10, padding=3)\n",
    "\n",
    "# Меняем начало отсчета\n",
    "plt.xlim(1.0)\n",
    "\n",
    "# Работаем с оформлением\n",
    "plt.title('Топ-10 областей деятельности компаний по количеству раундов')\n",
    "plt.xlabel('Среднее количество раундов финансирования')\n",
    "plt.ylabel('Область деятельности компании')\n",
    "\n",
    "plt.show()"
   ]
  },
  {
   "cell_type": "code",
   "execution_count": 107,
   "metadata": {},
   "outputs": [
    {
     "data": {
      "image/png": "[encoded data removed]",
      "text/plain": [
       "<Figure size 1000x600 with 1 Axes>"
      ]
     },
     "metadata": {},
     "output_type": "display_data"
    }
   ],
   "source": [
    "# Построим график с анти топ-10 компаниями\n",
    "plt.figure(figsize=(10,6))\n",
    "\n",
    "ax = sns.barplot(\n",
    "    data=df_category_group_anti_top10,\n",
    "    x='funding_rounds',\n",
    "    y='category_code',\n",
    "    palette='flare',\n",
    "    hue='category_code'\n",
    ")\n",
    "\n",
    "# Добавляем подписи около столбцов\n",
    "for container in ax.containers:\n",
    "    ax.bar_label(container, fmt='%.2f', fontsize=10, padding=3)\n",
    "\n",
    "# Работаем с оформлением\n",
    "plt.title('Анти Топ-10 областей деятельности компаний по количеству раундов')\n",
    "plt.xlabel('Среднее количество раундов финансирования')\n",
    "plt.ylabel('Область деятельности компании')\n",
    "\n",
    "plt.show()"
   ]
  },
  {
   "cell_type": "markdown",
   "metadata": {},
   "source": [
    "На основании полученных данных можно сделать следующие выводы:\n",
    "- Наибольшее количество раундов финансирования наблюдается в областях: `nanotech` (2.49 раундов на стартап), `semiconductor` (2.10), `medical` (2.03), `enterprise` (2.00), `analytics` (1.98) - это высокотехнологичные отрасли, которые требуют больше инвестиционных раундов, вероятно, из-за долгого цикла разработки, дорогих исследований и сложного выхода на рынок.\n",
    "- Наименьшее количество раундов наблюдаются в областях: `government` (1.09), `consulting` (1.29), `public_relations` (1.30), `local` (1.31), `other` (1.35). Возможно, это связана с тем, что они работают с госструктурами, где финансирование часто идет из бюджетных источников, а не от венчурных инвесторов или относятся к сфере услуг, где не нужны огромные капиталовложения."
   ]
  },
  {
   "cell_type": "markdown",
   "metadata": {
    "id": "VAFEZ2HBrJg3"
   },
   "source": [
    "\n",
    "## Итоговый вывод и рекомендации"
   ]
  },
  {
   "cell_type": "markdown",
   "metadata": {},
   "source": [
    "Было проведено исследование стартапов на исторических данных, которые содержали в себе информацию о покупке и продаже компаний, финансировании их и информацию о работающих в них сотрудниках. На этапе предобработки данных было выяснено, что один из датасетов, содержащий большое количество пропусков, был создан из двух. Для корректного проведения анализа, данный датасет был разбит на два. Для всех датасетов была проведена оптимизация формата данных и удалены дубликаты.\n",
    "\n",
    "**В рамках проекта были получены ответы на ключевые вопросы заказчика:**\n",
    "\n",
    "- **Зависимость полноты сведений о сотрудников от размера компаний:** с увеличением размера компании количество пропусков в информации о сотрудниках уменьшается.\n",
    "- **Типичный размер средств финансирования, предоставляемый компаниям:** по 25 и 75 процентилям он составляет - 1.0 млн и 22.2 млн долларов соответственно, а медианное значение - 5.6 млн долларов.\n",
    "- **Проданные компании за 1 или 0$ и имеющие не нулевой размер финансирования:** большинство проданных компаний за такую цену - это компании категории software, web, enterprise, mobile, имеющие лишь 1-2 раунда финансирования. Предположительно, такие компании не смогли справиться с конкуренцией на рынке и были проданы за символическую стоимость, чтобы избежать банкротства.\n",
    "- **Категории компаний, которые были проданы по наиболее высокой типичной стоимости и имеющие высокий разброс цен:** к таким категориям относятся - cleantech, network_hosting, biotech, mobile, semiconductor.\n",
    "- **Сколько раундов финансирования типично для каждого статуса стартапа:** ipo - 1.9 р./комп., operating - 1.5 р./комп., closed - 1.4 р./комп., acquired - 0.5 р./комп.\n",
    "- **Какое количество раундов финансирования типично для каждой категории стартапа:** высокотехнологические отрасли обычно имеют наибольшее количество раундов финансирования, например, такие как: nanotech (2.49 р./комп.), semiconductor (2.10 р./комп.), medical (2.03 р./комп.), наименьшее количество имеют отрасли связанные с госструктурами или сферой услуг - digital-агентства, бизнес консалтинг, например, government (1.09 р./комп.), consulting (1.29 р./комп.), public relations (1.30 р./комп.).\n",
    "\n",
    "**Рекомендации для заказчика:**\n",
    "\n",
    "Наиболее перспективными компаниями по стоимости продаж являются:\n",
    "- Компании с низким уровнем риска:\n",
    "    - hardware\n",
    "        - Медианная сумма продажи: 12.0 млн \\$.\n",
    "        - Размах стоимости продаж: 13.4 млн \\$.\n",
    "    - software\n",
    "        - Медианная сумма продажи: 7.3 млн \\$.\n",
    "        - Размах стоимости продаж: 13.9 млн \\$.\n",
    "    - enterprise\n",
    "        - Медианная сумма продажи: 6.5 млн \\$.\n",
    "        - Размах стоимости продаж: 12.0 млн \\$.\n",
    "    - advertising\n",
    "        - Медианная сумма продажи: 6.5 млн \\$.\n",
    "        - Размах стоимости продаж: 16.7 млн \\$. <br><br>\n",
    "- Компании с высоким уровнем риска:\n",
    "    - cleantech\n",
    "        - Медианная сумма продажи: 12.0 млн \\$.\n",
    "        - Размах стоимости продаж: 55.4 млн \\$.\n",
    "    - network_hosting\n",
    "        - Медианная сумма продажи: 8.8 млн \\$.\n",
    "        - Размах стоимости продаж: 36.5 млн \\$.\n",
    "    - biotech\n",
    "        - Медианная сумма продажи: 16.0 млн \\$.\n",
    "        - Размах стоимости продаж: 28.1 млн \\$.\n",
    "    - mobile\n",
    "        - Медианная сумма продажи: 5.8 млн \\$.\n",
    "        - Размах стоимости продаж: 26.0 млн \\$.\n",
    "    - semiconductor\n",
    "        - Медианная сумма продажи: 17.0 млн \\$.\n",
    "        - Размах стоимости продаж: 20.3 млн \\$.\n"
   ]
  }
 ],
 "metadata": {
  "ExecuteTimeLog": [
   {
    "duration": 5266,
    "start_time": "2025-08-14T08:26:00.667Z"
   },
   {
    "duration": 3,
    "start_time": "2025-08-14T08:26:05.935Z"
   },
   {
    "duration": 1262,
    "start_time": "2025-08-14T08:26:05.940Z"
   },
   {
    "duration": 14,
    "start_time": "2025-08-14T08:26:07.203Z"
   },
   {
    "duration": 35,
    "start_time": "2025-08-14T08:26:07.219Z"
   },
   {
    "duration": 31,
    "start_time": "2025-08-14T08:26:07.256Z"
   },
   {
    "duration": 23,
    "start_time": "2025-08-14T08:26:07.289Z"
   },
   {
    "duration": 20,
    "start_time": "2025-08-14T08:26:07.314Z"
   },
   {
    "duration": 112,
    "start_time": "2025-08-14T08:26:07.336Z"
   },
   {
    "duration": 8,
    "start_time": "2025-08-14T08:26:07.450Z"
   },
   {
    "duration": 116,
    "start_time": "2025-08-14T08:26:07.460Z"
   },
   {
    "duration": 9,
    "start_time": "2025-08-14T08:26:07.578Z"
   },
   {
    "duration": 58,
    "start_time": "2025-08-14T08:26:07.589Z"
   },
   {
    "duration": 8,
    "start_time": "2025-08-14T08:26:07.651Z"
   },
   {
    "duration": 31,
    "start_time": "2025-08-14T08:26:07.661Z"
   },
   {
    "duration": 8,
    "start_time": "2025-08-14T08:26:07.694Z"
   },
   {
    "duration": 31,
    "start_time": "2025-08-14T08:26:07.703Z"
   },
   {
    "duration": 74,
    "start_time": "2025-08-14T08:26:07.735Z"
   },
   {
    "duration": 5,
    "start_time": "2025-08-14T08:26:07.810Z"
   },
   {
    "duration": 17,
    "start_time": "2025-08-14T08:26:07.816Z"
   },
   {
    "duration": 29,
    "start_time": "2025-08-14T08:26:07.834Z"
   },
   {
    "duration": 36,
    "start_time": "2025-08-14T08:26:07.864Z"
   },
   {
    "duration": 6,
    "start_time": "2025-08-14T08:26:07.902Z"
   },
   {
    "duration": 166,
    "start_time": "2025-08-14T08:26:07.910Z"
   },
   {
    "duration": 13,
    "start_time": "2025-08-14T08:26:08.078Z"
   },
   {
    "duration": 170,
    "start_time": "2025-08-14T08:26:08.093Z"
   },
   {
    "duration": 22,
    "start_time": "2025-08-14T08:26:08.277Z"
   },
   {
    "duration": 205,
    "start_time": "2025-08-14T08:26:08.301Z"
   },
   {
    "duration": 42,
    "start_time": "2025-08-14T08:26:08.508Z"
   },
   {
    "duration": 52,
    "start_time": "2025-08-14T08:26:08.551Z"
   },
   {
    "duration": 375,
    "start_time": "2025-08-14T08:26:08.605Z"
   },
   {
    "duration": 132,
    "start_time": "2025-08-14T08:26:08.982Z"
   },
   {
    "duration": 367,
    "start_time": "2025-08-14T08:26:09.116Z"
   },
   {
    "duration": 9,
    "start_time": "2025-08-14T08:26:09.484Z"
   },
   {
    "duration": 109,
    "start_time": "2025-08-14T08:26:09.494Z"
   },
   {
    "duration": 52,
    "start_time": "2025-08-14T08:26:09.605Z"
   },
   {
    "duration": 28,
    "start_time": "2025-08-14T08:26:09.658Z"
   },
   {
    "duration": 128,
    "start_time": "2025-08-14T08:26:09.688Z"
   },
   {
    "duration": 1,
    "start_time": "2025-08-14T08:26:09.817Z"
   },
   {
    "duration": 0,
    "start_time": "2025-08-14T08:26:09.818Z"
   },
   {
    "duration": 0,
    "start_time": "2025-08-14T08:26:09.820Z"
   },
   {
    "duration": 0,
    "start_time": "2025-08-14T08:26:09.821Z"
   },
   {
    "duration": 0,
    "start_time": "2025-08-14T08:26:09.822Z"
   },
   {
    "duration": 0,
    "start_time": "2025-08-14T08:26:09.824Z"
   },
   {
    "duration": 0,
    "start_time": "2025-08-14T08:26:09.825Z"
   },
   {
    "duration": 0,
    "start_time": "2025-08-14T08:26:09.826Z"
   },
   {
    "duration": 0,
    "start_time": "2025-08-14T08:26:09.827Z"
   },
   {
    "duration": 12,
    "start_time": "2025-08-14T08:33:00.635Z"
   },
   {
    "duration": 23,
    "start_time": "2025-08-14T08:35:50.459Z"
   },
   {
    "duration": 12,
    "start_time": "2025-08-14T08:38:05.791Z"
   },
   {
    "duration": 9,
    "start_time": "2025-08-14T08:38:19.525Z"
   },
   {
    "duration": 16,
    "start_time": "2025-08-14T08:38:39.021Z"
   },
   {
    "duration": 7,
    "start_time": "2025-08-14T08:38:42.007Z"
   },
   {
    "duration": 18,
    "start_time": "2025-08-14T08:38:51.509Z"
   },
   {
    "duration": 5,
    "start_time": "2025-08-14T08:38:53.836Z"
   },
   {
    "duration": 4,
    "start_time": "2025-08-14T08:39:08.444Z"
   },
   {
    "duration": 1429,
    "start_time": "2025-08-14T08:39:20.406Z"
   },
   {
    "duration": 2,
    "start_time": "2025-08-14T08:39:21.837Z"
   },
   {
    "duration": 1280,
    "start_time": "2025-08-14T08:39:21.841Z"
   },
   {
    "duration": 20,
    "start_time": "2025-08-14T08:39:23.124Z"
   },
   {
    "duration": 64,
    "start_time": "2025-08-14T08:39:23.146Z"
   },
   {
    "duration": 20,
    "start_time": "2025-08-14T08:39:23.211Z"
   },
   {
    "duration": 42,
    "start_time": "2025-08-14T08:39:23.232Z"
   },
   {
    "duration": 26,
    "start_time": "2025-08-14T08:39:23.279Z"
   },
   {
    "duration": 120,
    "start_time": "2025-08-14T08:39:23.307Z"
   },
   {
    "duration": 8,
    "start_time": "2025-08-14T08:39:23.429Z"
   },
   {
    "duration": 22,
    "start_time": "2025-08-14T08:39:23.438Z"
   },
   {
    "duration": 40,
    "start_time": "2025-08-14T08:39:23.461Z"
   },
   {
    "duration": 135,
    "start_time": "2025-08-14T08:39:23.508Z"
   },
   {
    "duration": 7,
    "start_time": "2025-08-14T08:39:23.645Z"
   },
   {
    "duration": 33,
    "start_time": "2025-08-14T08:39:23.654Z"
   },
   {
    "duration": 18,
    "start_time": "2025-08-14T08:39:23.692Z"
   },
   {
    "duration": 42,
    "start_time": "2025-08-14T08:39:23.712Z"
   },
   {
    "duration": 57,
    "start_time": "2025-08-14T08:39:23.755Z"
   },
   {
    "duration": 5,
    "start_time": "2025-08-14T08:39:23.814Z"
   },
   {
    "duration": 12,
    "start_time": "2025-08-14T08:39:23.821Z"
   },
   {
    "duration": 12,
    "start_time": "2025-08-14T08:39:23.835Z"
   },
   {
    "duration": 49,
    "start_time": "2025-08-14T08:39:23.848Z"
   },
   {
    "duration": 7,
    "start_time": "2025-08-14T08:39:23.899Z"
   },
   {
    "duration": 164,
    "start_time": "2025-08-14T08:39:23.908Z"
   },
   {
    "duration": 33,
    "start_time": "2025-08-14T08:39:24.073Z"
   },
   {
    "duration": 220,
    "start_time": "2025-08-14T08:39:24.109Z"
   },
   {
    "duration": 23,
    "start_time": "2025-08-14T08:39:24.330Z"
   },
   {
    "duration": 104,
    "start_time": "2025-08-14T08:39:24.356Z"
   },
   {
    "duration": 73,
    "start_time": "2025-08-14T08:39:24.462Z"
   },
   {
    "duration": 49,
    "start_time": "2025-08-14T08:39:24.538Z"
   },
   {
    "duration": 445,
    "start_time": "2025-08-14T08:39:24.589Z"
   },
   {
    "duration": 179,
    "start_time": "2025-08-14T08:39:25.036Z"
   },
   {
    "duration": 381,
    "start_time": "2025-08-14T08:39:25.217Z"
   },
   {
    "duration": 11,
    "start_time": "2025-08-14T08:39:25.607Z"
   },
   {
    "duration": 74,
    "start_time": "2025-08-14T08:39:25.620Z"
   },
   {
    "duration": 52,
    "start_time": "2025-08-14T08:39:25.695Z"
   },
   {
    "duration": 49,
    "start_time": "2025-08-14T08:39:25.748Z"
   },
   {
    "duration": 155,
    "start_time": "2025-08-14T08:39:25.804Z"
   },
   {
    "duration": 0,
    "start_time": "2025-08-14T08:39:25.961Z"
   },
   {
    "duration": 0,
    "start_time": "2025-08-14T08:39:25.963Z"
   },
   {
    "duration": 0,
    "start_time": "2025-08-14T08:39:25.964Z"
   },
   {
    "duration": 0,
    "start_time": "2025-08-14T08:39:25.966Z"
   },
   {
    "duration": 0,
    "start_time": "2025-08-14T08:39:25.967Z"
   },
   {
    "duration": 0,
    "start_time": "2025-08-14T08:39:25.984Z"
   },
   {
    "duration": 0,
    "start_time": "2025-08-14T08:39:25.985Z"
   },
   {
    "duration": 0,
    "start_time": "2025-08-14T08:39:25.985Z"
   },
   {
    "duration": 0,
    "start_time": "2025-08-14T08:39:25.986Z"
   },
   {
    "duration": 0,
    "start_time": "2025-08-14T08:39:25.986Z"
   },
   {
    "duration": 0,
    "start_time": "2025-08-14T08:39:25.987Z"
   },
   {
    "duration": 18,
    "start_time": "2025-08-14T08:39:31.599Z"
   },
   {
    "duration": 7,
    "start_time": "2025-08-14T08:39:31.909Z"
   },
   {
    "duration": 22,
    "start_time": "2025-08-14T08:40:02.705Z"
   },
   {
    "duration": 14,
    "start_time": "2025-08-14T08:40:09.454Z"
   },
   {
    "duration": 4,
    "start_time": "2025-08-14T08:41:20.255Z"
   },
   {
    "duration": 10,
    "start_time": "2025-08-14T08:41:24.696Z"
   },
   {
    "duration": 17,
    "start_time": "2025-08-14T08:42:28.014Z"
   },
   {
    "duration": 20,
    "start_time": "2025-08-14T08:43:35.695Z"
   },
   {
    "duration": 17,
    "start_time": "2025-08-14T08:43:43.152Z"
   },
   {
    "duration": 15,
    "start_time": "2025-08-14T08:43:50.009Z"
   },
   {
    "duration": 18,
    "start_time": "2025-08-14T08:44:06.521Z"
   },
   {
    "duration": 17,
    "start_time": "2025-08-14T08:45:09.849Z"
   },
   {
    "duration": 29,
    "start_time": "2025-08-14T08:45:18.983Z"
   },
   {
    "duration": 18,
    "start_time": "2025-08-14T08:45:31.056Z"
   },
   {
    "duration": 17,
    "start_time": "2025-08-14T08:47:01.177Z"
   },
   {
    "duration": 19,
    "start_time": "2025-08-14T08:49:14.100Z"
   },
   {
    "duration": 28,
    "start_time": "2025-08-14T08:49:35.234Z"
   },
   {
    "duration": 22,
    "start_time": "2025-08-14T08:50:23.504Z"
   },
   {
    "duration": 18,
    "start_time": "2025-08-14T08:51:36.603Z"
   },
   {
    "duration": 25,
    "start_time": "2025-08-14T08:52:00.972Z"
   },
   {
    "duration": 1284,
    "start_time": "2025-08-14T08:52:52.649Z"
   },
   {
    "duration": 3,
    "start_time": "2025-08-14T08:52:53.935Z"
   },
   {
    "duration": 1193,
    "start_time": "2025-08-14T08:52:53.940Z"
   },
   {
    "duration": 18,
    "start_time": "2025-08-14T08:52:55.135Z"
   },
   {
    "duration": 46,
    "start_time": "2025-08-14T08:52:55.156Z"
   },
   {
    "duration": 104,
    "start_time": "2025-08-14T08:52:55.208Z"
   },
   {
    "duration": 19,
    "start_time": "2025-08-14T08:52:55.313Z"
   },
   {
    "duration": 18,
    "start_time": "2025-08-14T08:52:55.333Z"
   },
   {
    "duration": 148,
    "start_time": "2025-08-14T08:52:55.353Z"
   },
   {
    "duration": 10,
    "start_time": "2025-08-14T08:52:55.503Z"
   },
   {
    "duration": 22,
    "start_time": "2025-08-14T08:52:55.514Z"
   },
   {
    "duration": 98,
    "start_time": "2025-08-14T08:52:55.538Z"
   },
   {
    "duration": 68,
    "start_time": "2025-08-14T08:52:55.638Z"
   },
   {
    "duration": 8,
    "start_time": "2025-08-14T08:52:55.709Z"
   },
   {
    "duration": 32,
    "start_time": "2025-08-14T08:52:55.718Z"
   },
   {
    "duration": 8,
    "start_time": "2025-08-14T08:52:55.751Z"
   },
   {
    "duration": 48,
    "start_time": "2025-08-14T08:52:55.761Z"
   },
   {
    "duration": 53,
    "start_time": "2025-08-14T08:52:55.811Z"
   },
   {
    "duration": 12,
    "start_time": "2025-08-14T08:52:55.879Z"
   },
   {
    "duration": 14,
    "start_time": "2025-08-14T08:52:55.893Z"
   },
   {
    "duration": 9,
    "start_time": "2025-08-14T08:52:55.910Z"
   },
   {
    "duration": 38,
    "start_time": "2025-08-14T08:52:55.921Z"
   },
   {
    "duration": 18,
    "start_time": "2025-08-14T08:52:55.977Z"
   },
   {
    "duration": 164,
    "start_time": "2025-08-14T08:52:56.001Z"
   },
   {
    "duration": 30,
    "start_time": "2025-08-14T08:52:56.167Z"
   },
   {
    "duration": 177,
    "start_time": "2025-08-14T08:52:56.201Z"
   },
   {
    "duration": 35,
    "start_time": "2025-08-14T08:52:56.387Z"
   },
   {
    "duration": 113,
    "start_time": "2025-08-14T08:52:56.423Z"
   },
   {
    "duration": 70,
    "start_time": "2025-08-14T08:52:56.539Z"
   },
   {
    "duration": 28,
    "start_time": "2025-08-14T08:52:56.611Z"
   },
   {
    "duration": 455,
    "start_time": "2025-08-14T08:52:56.641Z"
   },
   {
    "duration": 152,
    "start_time": "2025-08-14T08:52:57.098Z"
   },
   {
    "duration": 397,
    "start_time": "2025-08-14T08:52:57.252Z"
   },
   {
    "duration": 9,
    "start_time": "2025-08-14T08:52:57.651Z"
   },
   {
    "duration": 88,
    "start_time": "2025-08-14T08:52:57.661Z"
   },
   {
    "duration": 70,
    "start_time": "2025-08-14T08:52:57.751Z"
   },
   {
    "duration": 19,
    "start_time": "2025-08-14T08:52:57.822Z"
   },
   {
    "duration": 46,
    "start_time": "2025-08-14T08:52:57.843Z"
   },
   {
    "duration": 16,
    "start_time": "2025-08-14T08:52:57.891Z"
   },
   {
    "duration": 105,
    "start_time": "2025-08-14T08:52:57.909Z"
   },
   {
    "duration": 67,
    "start_time": "2025-08-14T08:52:58.019Z"
   },
   {
    "duration": 55,
    "start_time": "2025-08-14T08:52:58.087Z"
   },
   {
    "duration": 43,
    "start_time": "2025-08-14T08:52:58.144Z"
   },
   {
    "duration": 181,
    "start_time": "2025-08-14T08:52:58.189Z"
   },
   {
    "duration": 0,
    "start_time": "2025-08-14T08:52:58.372Z"
   },
   {
    "duration": 0,
    "start_time": "2025-08-14T08:52:58.372Z"
   },
   {
    "duration": 0,
    "start_time": "2025-08-14T08:52:58.373Z"
   },
   {
    "duration": 39,
    "start_time": "2025-08-14T08:54:15.120Z"
   },
   {
    "duration": 158,
    "start_time": "2025-08-14T08:54:46.242Z"
   },
   {
    "duration": 152,
    "start_time": "2025-08-14T08:55:04.306Z"
   },
   {
    "duration": 35,
    "start_time": "2025-08-14T08:55:08.786Z"
   },
   {
    "duration": 1430,
    "start_time": "2025-08-14T08:55:13.170Z"
   },
   {
    "duration": 3,
    "start_time": "2025-08-14T08:55:14.607Z"
   },
   {
    "duration": 1243,
    "start_time": "2025-08-14T08:55:14.612Z"
   },
   {
    "duration": 20,
    "start_time": "2025-08-14T08:55:15.858Z"
   },
   {
    "duration": 33,
    "start_time": "2025-08-14T08:55:15.881Z"
   },
   {
    "duration": 33,
    "start_time": "2025-08-14T08:55:15.920Z"
   },
   {
    "duration": 42,
    "start_time": "2025-08-14T08:55:15.956Z"
   },
   {
    "duration": 23,
    "start_time": "2025-08-14T08:55:16.000Z"
   },
   {
    "duration": 202,
    "start_time": "2025-08-14T08:55:16.024Z"
   },
   {
    "duration": 8,
    "start_time": "2025-08-14T08:55:16.229Z"
   },
   {
    "duration": 73,
    "start_time": "2025-08-14T08:55:16.239Z"
   },
   {
    "duration": 56,
    "start_time": "2025-08-14T08:55:16.314Z"
   },
   {
    "duration": 111,
    "start_time": "2025-08-14T08:55:16.372Z"
   },
   {
    "duration": 67,
    "start_time": "2025-08-14T08:55:16.503Z"
   },
   {
    "duration": 61,
    "start_time": "2025-08-14T08:55:16.571Z"
   },
   {
    "duration": 30,
    "start_time": "2025-08-14T08:55:16.634Z"
   },
   {
    "duration": 38,
    "start_time": "2025-08-14T08:55:16.666Z"
   },
   {
    "duration": 51,
    "start_time": "2025-08-14T08:55:16.706Z"
   },
   {
    "duration": 4,
    "start_time": "2025-08-14T08:55:16.759Z"
   },
   {
    "duration": 37,
    "start_time": "2025-08-14T08:55:16.765Z"
   },
   {
    "duration": 9,
    "start_time": "2025-08-14T08:55:16.806Z"
   },
   {
    "duration": 51,
    "start_time": "2025-08-14T08:55:16.817Z"
   },
   {
    "duration": 37,
    "start_time": "2025-08-14T08:55:16.870Z"
   },
   {
    "duration": 163,
    "start_time": "2025-08-14T08:55:16.909Z"
   },
   {
    "duration": 27,
    "start_time": "2025-08-14T08:55:17.074Z"
   },
   {
    "duration": 178,
    "start_time": "2025-08-14T08:55:17.103Z"
   },
   {
    "duration": 33,
    "start_time": "2025-08-14T08:55:17.288Z"
   },
   {
    "duration": 94,
    "start_time": "2025-08-14T08:55:17.325Z"
   },
   {
    "duration": 79,
    "start_time": "2025-08-14T08:55:17.421Z"
   },
   {
    "duration": 29,
    "start_time": "2025-08-14T08:55:17.502Z"
   },
   {
    "duration": 528,
    "start_time": "2025-08-14T08:55:17.533Z"
   },
   {
    "duration": 175,
    "start_time": "2025-08-14T08:55:18.063Z"
   },
   {
    "duration": 384,
    "start_time": "2025-08-14T08:55:18.240Z"
   },
   {
    "duration": 9,
    "start_time": "2025-08-14T08:55:18.626Z"
   },
   {
    "duration": 97,
    "start_time": "2025-08-14T08:55:18.637Z"
   },
   {
    "duration": 77,
    "start_time": "2025-08-14T08:55:18.735Z"
   },
   {
    "duration": 18,
    "start_time": "2025-08-14T08:55:18.813Z"
   },
   {
    "duration": 39,
    "start_time": "2025-08-14T08:55:18.833Z"
   },
   {
    "duration": 46,
    "start_time": "2025-08-14T08:55:18.874Z"
   },
   {
    "duration": 127,
    "start_time": "2025-08-14T08:55:18.921Z"
   },
   {
    "duration": 59,
    "start_time": "2025-08-14T08:55:19.050Z"
   },
   {
    "duration": 32,
    "start_time": "2025-08-14T08:55:19.112Z"
   },
   {
    "duration": 45,
    "start_time": "2025-08-14T08:55:19.146Z"
   },
   {
    "duration": 247,
    "start_time": "2025-08-14T08:55:19.193Z"
   },
   {
    "duration": 43,
    "start_time": "2025-08-14T08:55:19.441Z"
   },
   {
    "duration": 140,
    "start_time": "2025-08-14T08:55:19.486Z"
   },
   {
    "duration": 0,
    "start_time": "2025-08-14T08:55:19.628Z"
   },
   {
    "duration": 18,
    "start_time": "2025-08-14T08:55:36.836Z"
   },
   {
    "duration": 30,
    "start_time": "2025-08-14T08:55:41.419Z"
   },
   {
    "duration": 141,
    "start_time": "2025-08-14T08:59:51.704Z"
   },
   {
    "duration": 24,
    "start_time": "2025-08-14T09:00:17.119Z"
   },
   {
    "duration": 20,
    "start_time": "2025-08-14T10:03:44.844Z"
   },
   {
    "duration": 9646,
    "start_time": "2025-08-18T14:40:45.922Z"
   },
   {
    "duration": 2,
    "start_time": "2025-08-18T14:40:55.571Z"
   },
   {
    "duration": 2588,
    "start_time": "2025-08-18T14:40:55.575Z"
   },
   {
    "duration": 14,
    "start_time": "2025-08-18T14:40:58.166Z"
   },
   {
    "duration": 12,
    "start_time": "2025-08-18T14:40:58.182Z"
   },
   {
    "duration": 26,
    "start_time": "2025-08-18T14:40:58.195Z"
   },
   {
    "duration": 44,
    "start_time": "2025-08-18T14:40:58.223Z"
   },
   {
    "duration": 26,
    "start_time": "2025-08-18T14:40:58.269Z"
   },
   {
    "duration": 109,
    "start_time": "2025-08-18T14:40:58.297Z"
   },
   {
    "duration": 8,
    "start_time": "2025-08-18T14:40:58.409Z"
   },
   {
    "duration": 34,
    "start_time": "2025-08-18T14:40:58.418Z"
   },
   {
    "duration": 9,
    "start_time": "2025-08-18T14:40:58.454Z"
   },
   {
    "duration": 46,
    "start_time": "2025-08-18T14:40:58.464Z"
   },
   {
    "duration": 8,
    "start_time": "2025-08-18T14:40:58.512Z"
   },
   {
    "duration": 111,
    "start_time": "2025-08-18T14:40:58.522Z"
   },
   {
    "duration": 8,
    "start_time": "2025-08-18T14:40:58.635Z"
   },
   {
    "duration": 51,
    "start_time": "2025-08-18T14:40:58.644Z"
   },
   {
    "duration": 175,
    "start_time": "2025-08-18T14:40:58.696Z"
   },
   {
    "duration": 22,
    "start_time": "2025-08-18T14:40:58.873Z"
   },
   {
    "duration": 59,
    "start_time": "2025-08-18T14:40:58.897Z"
   },
   {
    "duration": 3,
    "start_time": "2025-08-18T14:40:58.958Z"
   },
   {
    "duration": 14,
    "start_time": "2025-08-18T14:40:58.963Z"
   },
   {
    "duration": 14,
    "start_time": "2025-08-18T14:40:58.979Z"
   },
   {
    "duration": 8,
    "start_time": "2025-08-18T14:40:58.995Z"
   },
   {
    "duration": 35,
    "start_time": "2025-08-18T14:40:59.005Z"
   },
   {
    "duration": 200,
    "start_time": "2025-08-18T14:40:59.050Z"
   },
   {
    "duration": 64,
    "start_time": "2025-08-18T14:40:59.252Z"
   },
   {
    "duration": 169,
    "start_time": "2025-08-18T14:40:59.321Z"
   },
   {
    "duration": 100,
    "start_time": "2025-08-18T14:40:59.492Z"
   },
   {
    "duration": 121,
    "start_time": "2025-08-18T14:40:59.594Z"
   },
   {
    "duration": 0,
    "start_time": "2025-08-18T14:40:59.718Z"
   },
   {
    "duration": 0,
    "start_time": "2025-08-18T14:40:59.718Z"
   },
   {
    "duration": 0,
    "start_time": "2025-08-18T14:40:59.720Z"
   },
   {
    "duration": 0,
    "start_time": "2025-08-18T14:40:59.721Z"
   },
   {
    "duration": 0,
    "start_time": "2025-08-18T14:40:59.722Z"
   },
   {
    "duration": 0,
    "start_time": "2025-08-18T14:40:59.723Z"
   },
   {
    "duration": 0,
    "start_time": "2025-08-18T14:40:59.724Z"
   },
   {
    "duration": 0,
    "start_time": "2025-08-18T14:40:59.725Z"
   },
   {
    "duration": 0,
    "start_time": "2025-08-18T14:40:59.726Z"
   },
   {
    "duration": 0,
    "start_time": "2025-08-18T14:40:59.728Z"
   },
   {
    "duration": 0,
    "start_time": "2025-08-18T14:40:59.729Z"
   },
   {
    "duration": 0,
    "start_time": "2025-08-18T14:40:59.729Z"
   },
   {
    "duration": 0,
    "start_time": "2025-08-18T14:40:59.750Z"
   },
   {
    "duration": 0,
    "start_time": "2025-08-18T14:40:59.751Z"
   },
   {
    "duration": 0,
    "start_time": "2025-08-18T14:40:59.752Z"
   },
   {
    "duration": 0,
    "start_time": "2025-08-18T14:40:59.753Z"
   },
   {
    "duration": 0,
    "start_time": "2025-08-18T14:40:59.754Z"
   },
   {
    "duration": 0,
    "start_time": "2025-08-18T14:40:59.755Z"
   },
   {
    "duration": 0,
    "start_time": "2025-08-18T14:40:59.756Z"
   },
   {
    "duration": 0,
    "start_time": "2025-08-18T14:40:59.757Z"
   },
   {
    "duration": 1,
    "start_time": "2025-08-18T14:40:59.758Z"
   },
   {
    "duration": 0,
    "start_time": "2025-08-18T14:40:59.760Z"
   },
   {
    "duration": 0,
    "start_time": "2025-08-18T14:40:59.761Z"
   },
   {
    "duration": 0,
    "start_time": "2025-08-18T14:40:59.762Z"
   },
   {
    "duration": 0,
    "start_time": "2025-08-18T14:40:59.763Z"
   },
   {
    "duration": 0,
    "start_time": "2025-08-18T14:40:59.764Z"
   },
   {
    "duration": 0,
    "start_time": "2025-08-18T14:40:59.765Z"
   },
   {
    "duration": 0,
    "start_time": "2025-08-18T14:40:59.766Z"
   },
   {
    "duration": 0,
    "start_time": "2025-08-18T14:40:59.767Z"
   },
   {
    "duration": 0,
    "start_time": "2025-08-18T14:40:59.768Z"
   },
   {
    "duration": 0,
    "start_time": "2025-08-18T14:40:59.769Z"
   },
   {
    "duration": 0,
    "start_time": "2025-08-18T14:40:59.770Z"
   },
   {
    "duration": 0,
    "start_time": "2025-08-18T14:40:59.772Z"
   },
   {
    "duration": 0,
    "start_time": "2025-08-18T14:40:59.773Z"
   },
   {
    "duration": 0,
    "start_time": "2025-08-18T14:40:59.774Z"
   },
   {
    "duration": 0,
    "start_time": "2025-08-18T14:40:59.775Z"
   },
   {
    "duration": 0,
    "start_time": "2025-08-18T14:40:59.776Z"
   },
   {
    "duration": 0,
    "start_time": "2025-08-18T14:40:59.777Z"
   },
   {
    "duration": 0,
    "start_time": "2025-08-18T14:40:59.778Z"
   },
   {
    "duration": 0,
    "start_time": "2025-08-18T14:40:59.779Z"
   },
   {
    "duration": 0,
    "start_time": "2025-08-18T14:40:59.780Z"
   },
   {
    "duration": 0,
    "start_time": "2025-08-18T14:40:59.781Z"
   },
   {
    "duration": 0,
    "start_time": "2025-08-18T14:40:59.782Z"
   },
   {
    "duration": 0,
    "start_time": "2025-08-18T14:40:59.783Z"
   },
   {
    "duration": 0,
    "start_time": "2025-08-18T14:40:59.784Z"
   },
   {
    "duration": 0,
    "start_time": "2025-08-18T14:40:59.850Z"
   },
   {
    "duration": 0,
    "start_time": "2025-08-18T14:40:59.851Z"
   },
   {
    "duration": 0,
    "start_time": "2025-08-18T14:40:59.852Z"
   },
   {
    "duration": 0,
    "start_time": "2025-08-18T14:40:59.853Z"
   },
   {
    "duration": 0,
    "start_time": "2025-08-18T14:40:59.854Z"
   },
   {
    "duration": 0,
    "start_time": "2025-08-18T14:40:59.855Z"
   },
   {
    "duration": 0,
    "start_time": "2025-08-18T14:40:59.856Z"
   },
   {
    "duration": 0,
    "start_time": "2025-08-18T14:40:59.857Z"
   },
   {
    "duration": 0,
    "start_time": "2025-08-18T14:40:59.859Z"
   },
   {
    "duration": 0,
    "start_time": "2025-08-18T14:40:59.860Z"
   },
   {
    "duration": 0,
    "start_time": "2025-08-18T14:40:59.861Z"
   },
   {
    "duration": 0,
    "start_time": "2025-08-18T14:40:59.862Z"
   },
   {
    "duration": 0,
    "start_time": "2025-08-18T14:40:59.863Z"
   },
   {
    "duration": 0,
    "start_time": "2025-08-18T14:40:59.864Z"
   },
   {
    "duration": 0,
    "start_time": "2025-08-18T14:40:59.865Z"
   },
   {
    "duration": 0,
    "start_time": "2025-08-18T14:40:59.866Z"
   },
   {
    "duration": 0,
    "start_time": "2025-08-18T14:40:59.867Z"
   },
   {
    "duration": 0,
    "start_time": "2025-08-18T14:40:59.868Z"
   },
   {
    "duration": 0,
    "start_time": "2025-08-18T14:40:59.869Z"
   },
   {
    "duration": 0,
    "start_time": "2025-08-18T14:40:59.870Z"
   },
   {
    "duration": 0,
    "start_time": "2025-08-18T14:40:59.871Z"
   },
   {
    "duration": 0,
    "start_time": "2025-08-18T14:40:59.873Z"
   },
   {
    "duration": 0,
    "start_time": "2025-08-18T14:40:59.874Z"
   },
   {
    "duration": 183,
    "start_time": "2025-08-18T14:41:50.179Z"
   },
   {
    "duration": 1326,
    "start_time": "2025-08-18T14:41:55.383Z"
   },
   {
    "duration": 3,
    "start_time": "2025-08-18T14:41:56.711Z"
   },
   {
    "duration": 2268,
    "start_time": "2025-08-18T14:41:56.715Z"
   },
   {
    "duration": 12,
    "start_time": "2025-08-18T14:41:58.985Z"
   },
   {
    "duration": 13,
    "start_time": "2025-08-18T14:41:58.998Z"
   },
   {
    "duration": 39,
    "start_time": "2025-08-18T14:41:59.013Z"
   },
   {
    "duration": 28,
    "start_time": "2025-08-18T14:41:59.054Z"
   },
   {
    "duration": 25,
    "start_time": "2025-08-18T14:41:59.086Z"
   },
   {
    "duration": 127,
    "start_time": "2025-08-18T14:41:59.113Z"
   },
   {
    "duration": 16,
    "start_time": "2025-08-18T14:41:59.243Z"
   },
   {
    "duration": 27,
    "start_time": "2025-08-18T14:41:59.263Z"
   },
   {
    "duration": 10,
    "start_time": "2025-08-18T14:41:59.292Z"
   },
   {
    "duration": 66,
    "start_time": "2025-08-18T14:41:59.303Z"
   },
   {
    "duration": 9,
    "start_time": "2025-08-18T14:41:59.370Z"
   },
   {
    "duration": 216,
    "start_time": "2025-08-18T14:41:59.381Z"
   },
   {
    "duration": 8,
    "start_time": "2025-08-18T14:41:59.599Z"
   },
   {
    "duration": 129,
    "start_time": "2025-08-18T14:41:59.608Z"
   },
   {
    "duration": 181,
    "start_time": "2025-08-18T14:41:59.739Z"
   },
   {
    "duration": 35,
    "start_time": "2025-08-18T14:41:59.922Z"
   },
   {
    "duration": 45,
    "start_time": "2025-08-18T14:41:59.960Z"
   },
   {
    "duration": 4,
    "start_time": "2025-08-18T14:42:00.007Z"
   },
   {
    "duration": 82,
    "start_time": "2025-08-18T14:42:00.013Z"
   },
   {
    "duration": 53,
    "start_time": "2025-08-18T14:42:00.099Z"
   },
   {
    "duration": 20,
    "start_time": "2025-08-18T14:42:00.154Z"
   },
   {
    "duration": 59,
    "start_time": "2025-08-18T14:42:00.177Z"
   },
   {
    "duration": 213,
    "start_time": "2025-08-18T14:42:00.238Z"
   },
   {
    "duration": 68,
    "start_time": "2025-08-18T14:42:00.453Z"
   },
   {
    "duration": 184,
    "start_time": "2025-08-18T14:42:00.523Z"
   },
   {
    "duration": 105,
    "start_time": "2025-08-18T14:42:00.709Z"
   },
   {
    "duration": 203,
    "start_time": "2025-08-18T14:42:00.816Z"
   },
   {
    "duration": 195,
    "start_time": "2025-08-18T14:42:01.021Z"
   },
   {
    "duration": 0,
    "start_time": "2025-08-18T14:42:01.219Z"
   },
   {
    "duration": 0,
    "start_time": "2025-08-18T14:42:01.221Z"
   },
   {
    "duration": 0,
    "start_time": "2025-08-18T14:42:01.223Z"
   },
   {
    "duration": 0,
    "start_time": "2025-08-18T14:42:01.224Z"
   },
   {
    "duration": 0,
    "start_time": "2025-08-18T14:42:01.225Z"
   },
   {
    "duration": 0,
    "start_time": "2025-08-18T14:42:01.226Z"
   },
   {
    "duration": 0,
    "start_time": "2025-08-18T14:42:01.227Z"
   },
   {
    "duration": 0,
    "start_time": "2025-08-18T14:42:01.228Z"
   },
   {
    "duration": 0,
    "start_time": "2025-08-18T14:42:01.250Z"
   },
   {
    "duration": 0,
    "start_time": "2025-08-18T14:42:01.251Z"
   },
   {
    "duration": 0,
    "start_time": "2025-08-18T14:42:01.253Z"
   },
   {
    "duration": 0,
    "start_time": "2025-08-18T14:42:01.254Z"
   },
   {
    "duration": 0,
    "start_time": "2025-08-18T14:42:01.256Z"
   },
   {
    "duration": 0,
    "start_time": "2025-08-18T14:42:01.257Z"
   },
   {
    "duration": 0,
    "start_time": "2025-08-18T14:42:01.258Z"
   },
   {
    "duration": 0,
    "start_time": "2025-08-18T14:42:01.259Z"
   },
   {
    "duration": 0,
    "start_time": "2025-08-18T14:42:01.260Z"
   },
   {
    "duration": 0,
    "start_time": "2025-08-18T14:42:01.261Z"
   },
   {
    "duration": 0,
    "start_time": "2025-08-18T14:42:01.263Z"
   },
   {
    "duration": 0,
    "start_time": "2025-08-18T14:42:01.265Z"
   },
   {
    "duration": 0,
    "start_time": "2025-08-18T14:42:01.266Z"
   },
   {
    "duration": 0,
    "start_time": "2025-08-18T14:42:01.267Z"
   },
   {
    "duration": 0,
    "start_time": "2025-08-18T14:42:01.268Z"
   },
   {
    "duration": 0,
    "start_time": "2025-08-18T14:42:01.270Z"
   },
   {
    "duration": 0,
    "start_time": "2025-08-18T14:42:01.271Z"
   },
   {
    "duration": 0,
    "start_time": "2025-08-18T14:42:01.273Z"
   },
   {
    "duration": 0,
    "start_time": "2025-08-18T14:42:01.274Z"
   },
   {
    "duration": 0,
    "start_time": "2025-08-18T14:42:01.275Z"
   },
   {
    "duration": 0,
    "start_time": "2025-08-18T14:42:01.277Z"
   },
   {
    "duration": 0,
    "start_time": "2025-08-18T14:42:01.278Z"
   },
   {
    "duration": 0,
    "start_time": "2025-08-18T14:42:01.279Z"
   },
   {
    "duration": 0,
    "start_time": "2025-08-18T14:42:01.280Z"
   },
   {
    "duration": 0,
    "start_time": "2025-08-18T14:42:01.282Z"
   },
   {
    "duration": 0,
    "start_time": "2025-08-18T14:42:01.283Z"
   },
   {
    "duration": 0,
    "start_time": "2025-08-18T14:42:01.285Z"
   },
   {
    "duration": 0,
    "start_time": "2025-08-18T14:42:01.286Z"
   },
   {
    "duration": 0,
    "start_time": "2025-08-18T14:42:01.350Z"
   },
   {
    "duration": 0,
    "start_time": "2025-08-18T14:42:01.351Z"
   },
   {
    "duration": 0,
    "start_time": "2025-08-18T14:42:01.352Z"
   },
   {
    "duration": 0,
    "start_time": "2025-08-18T14:42:01.353Z"
   },
   {
    "duration": 0,
    "start_time": "2025-08-18T14:42:01.354Z"
   },
   {
    "duration": 0,
    "start_time": "2025-08-18T14:42:01.355Z"
   },
   {
    "duration": 0,
    "start_time": "2025-08-18T14:42:01.356Z"
   },
   {
    "duration": 0,
    "start_time": "2025-08-18T14:42:01.358Z"
   },
   {
    "duration": 0,
    "start_time": "2025-08-18T14:42:01.359Z"
   },
   {
    "duration": 0,
    "start_time": "2025-08-18T14:42:01.360Z"
   },
   {
    "duration": 0,
    "start_time": "2025-08-18T14:42:01.361Z"
   },
   {
    "duration": 0,
    "start_time": "2025-08-18T14:42:01.362Z"
   },
   {
    "duration": 0,
    "start_time": "2025-08-18T14:42:01.363Z"
   },
   {
    "duration": 0,
    "start_time": "2025-08-18T14:42:01.364Z"
   },
   {
    "duration": 0,
    "start_time": "2025-08-18T14:42:01.365Z"
   },
   {
    "duration": 0,
    "start_time": "2025-08-18T14:42:01.366Z"
   },
   {
    "duration": 0,
    "start_time": "2025-08-18T14:42:01.367Z"
   },
   {
    "duration": 0,
    "start_time": "2025-08-18T14:42:01.369Z"
   },
   {
    "duration": 0,
    "start_time": "2025-08-18T14:42:01.370Z"
   },
   {
    "duration": 0,
    "start_time": "2025-08-18T14:42:01.371Z"
   },
   {
    "duration": 0,
    "start_time": "2025-08-18T14:42:01.372Z"
   },
   {
    "duration": 0,
    "start_time": "2025-08-18T14:42:01.373Z"
   },
   {
    "duration": 0,
    "start_time": "2025-08-18T14:42:01.374Z"
   },
   {
    "duration": 0,
    "start_time": "2025-08-18T14:42:01.375Z"
   },
   {
    "duration": 0,
    "start_time": "2025-08-18T14:42:01.376Z"
   },
   {
    "duration": 0,
    "start_time": "2025-08-18T14:42:01.377Z"
   },
   {
    "duration": 0,
    "start_time": "2025-08-18T14:42:01.378Z"
   },
   {
    "duration": 0,
    "start_time": "2025-08-18T14:42:01.380Z"
   },
   {
    "duration": 0,
    "start_time": "2025-08-18T14:42:01.381Z"
   },
   {
    "duration": 0,
    "start_time": "2025-08-18T14:42:01.382Z"
   },
   {
    "duration": 0,
    "start_time": "2025-08-18T14:42:01.383Z"
   },
   {
    "duration": 173,
    "start_time": "2025-08-18T14:42:16.043Z"
   },
   {
    "duration": 191,
    "start_time": "2025-08-18T14:42:19.073Z"
   },
   {
    "duration": 1429,
    "start_time": "2025-08-18T14:42:33.955Z"
   },
   {
    "duration": 2,
    "start_time": "2025-08-18T14:42:35.387Z"
   },
   {
    "duration": 2556,
    "start_time": "2025-08-18T14:42:35.391Z"
   },
   {
    "duration": 13,
    "start_time": "2025-08-18T14:42:37.949Z"
   },
   {
    "duration": 12,
    "start_time": "2025-08-18T14:42:37.964Z"
   },
   {
    "duration": 22,
    "start_time": "2025-08-18T14:42:37.978Z"
   },
   {
    "duration": 78,
    "start_time": "2025-08-18T14:42:38.002Z"
   },
   {
    "duration": 22,
    "start_time": "2025-08-18T14:42:38.082Z"
   },
   {
    "duration": 122,
    "start_time": "2025-08-18T14:42:38.106Z"
   },
   {
    "duration": 17,
    "start_time": "2025-08-18T14:42:38.231Z"
   },
   {
    "duration": 22,
    "start_time": "2025-08-18T14:42:38.251Z"
   },
   {
    "duration": 14,
    "start_time": "2025-08-18T14:42:38.275Z"
   },
   {
    "duration": 65,
    "start_time": "2025-08-18T14:42:38.291Z"
   },
   {
    "duration": 8,
    "start_time": "2025-08-18T14:42:38.358Z"
   },
   {
    "duration": 43,
    "start_time": "2025-08-18T14:42:38.367Z"
   },
   {
    "duration": 7,
    "start_time": "2025-08-18T14:42:38.412Z"
   },
   {
    "duration": 56,
    "start_time": "2025-08-18T14:42:38.421Z"
   },
   {
    "duration": 187,
    "start_time": "2025-08-18T14:42:38.479Z"
   },
   {
    "duration": 24,
    "start_time": "2025-08-18T14:42:38.667Z"
   },
   {
    "duration": 60,
    "start_time": "2025-08-18T14:42:38.692Z"
   },
   {
    "duration": 4,
    "start_time": "2025-08-18T14:42:38.753Z"
   },
   {
    "duration": 9,
    "start_time": "2025-08-18T14:42:38.759Z"
   },
   {
    "duration": 15,
    "start_time": "2025-08-18T14:42:38.770Z"
   },
   {
    "duration": 13,
    "start_time": "2025-08-18T14:42:38.787Z"
   },
   {
    "duration": 34,
    "start_time": "2025-08-18T14:42:38.801Z"
   },
   {
    "duration": 214,
    "start_time": "2025-08-18T14:42:38.836Z"
   },
   {
    "duration": 67,
    "start_time": "2025-08-18T14:42:39.052Z"
   },
   {
    "duration": 173,
    "start_time": "2025-08-18T14:42:39.124Z"
   },
   {
    "duration": 103,
    "start_time": "2025-08-18T14:42:39.299Z"
   },
   {
    "duration": 205,
    "start_time": "2025-08-18T14:42:39.404Z"
   },
   {
    "duration": 192,
    "start_time": "2025-08-18T14:42:39.611Z"
   },
   {
    "duration": 61,
    "start_time": "2025-08-18T14:42:39.805Z"
   },
   {
    "duration": 30,
    "start_time": "2025-08-18T14:42:39.868Z"
   },
   {
    "duration": 134,
    "start_time": "2025-08-18T14:42:39.900Z"
   },
   {
    "duration": 0,
    "start_time": "2025-08-18T14:42:40.036Z"
   },
   {
    "duration": 0,
    "start_time": "2025-08-18T14:42:40.038Z"
   },
   {
    "duration": 0,
    "start_time": "2025-08-18T14:42:40.039Z"
   },
   {
    "duration": 0,
    "start_time": "2025-08-18T14:42:40.040Z"
   },
   {
    "duration": 0,
    "start_time": "2025-08-18T14:42:40.049Z"
   },
   {
    "duration": 0,
    "start_time": "2025-08-18T14:42:40.050Z"
   },
   {
    "duration": 0,
    "start_time": "2025-08-18T14:42:40.051Z"
   },
   {
    "duration": 0,
    "start_time": "2025-08-18T14:42:40.052Z"
   },
   {
    "duration": 0,
    "start_time": "2025-08-18T14:42:40.054Z"
   },
   {
    "duration": 0,
    "start_time": "2025-08-18T14:42:40.055Z"
   },
   {
    "duration": 0,
    "start_time": "2025-08-18T14:42:40.056Z"
   },
   {
    "duration": 0,
    "start_time": "2025-08-18T14:42:40.057Z"
   },
   {
    "duration": 0,
    "start_time": "2025-08-18T14:42:40.058Z"
   },
   {
    "duration": 0,
    "start_time": "2025-08-18T14:42:40.059Z"
   },
   {
    "duration": 0,
    "start_time": "2025-08-18T14:42:40.060Z"
   },
   {
    "duration": 0,
    "start_time": "2025-08-18T14:42:40.061Z"
   },
   {
    "duration": 0,
    "start_time": "2025-08-18T14:42:40.062Z"
   },
   {
    "duration": 0,
    "start_time": "2025-08-18T14:42:40.064Z"
   },
   {
    "duration": 0,
    "start_time": "2025-08-18T14:42:40.065Z"
   },
   {
    "duration": 0,
    "start_time": "2025-08-18T14:42:40.066Z"
   },
   {
    "duration": 0,
    "start_time": "2025-08-18T14:42:40.067Z"
   },
   {
    "duration": 0,
    "start_time": "2025-08-18T14:42:40.069Z"
   },
   {
    "duration": 0,
    "start_time": "2025-08-18T14:42:40.070Z"
   },
   {
    "duration": 0,
    "start_time": "2025-08-18T14:42:40.071Z"
   },
   {
    "duration": 0,
    "start_time": "2025-08-18T14:42:40.073Z"
   },
   {
    "duration": 0,
    "start_time": "2025-08-18T14:42:40.073Z"
   },
   {
    "duration": 0,
    "start_time": "2025-08-18T14:42:40.074Z"
   },
   {
    "duration": 0,
    "start_time": "2025-08-18T14:42:40.075Z"
   },
   {
    "duration": 0,
    "start_time": "2025-08-18T14:42:40.077Z"
   },
   {
    "duration": 0,
    "start_time": "2025-08-18T14:42:40.078Z"
   },
   {
    "duration": 0,
    "start_time": "2025-08-18T14:42:40.079Z"
   },
   {
    "duration": 0,
    "start_time": "2025-08-18T14:42:40.080Z"
   },
   {
    "duration": 0,
    "start_time": "2025-08-18T14:42:40.081Z"
   },
   {
    "duration": 0,
    "start_time": "2025-08-18T14:42:40.082Z"
   },
   {
    "duration": 0,
    "start_time": "2025-08-18T14:42:40.084Z"
   },
   {
    "duration": 0,
    "start_time": "2025-08-18T14:42:40.149Z"
   },
   {
    "duration": 0,
    "start_time": "2025-08-18T14:42:40.151Z"
   },
   {
    "duration": 0,
    "start_time": "2025-08-18T14:42:40.152Z"
   },
   {
    "duration": 0,
    "start_time": "2025-08-18T14:42:40.153Z"
   },
   {
    "duration": 0,
    "start_time": "2025-08-18T14:42:40.154Z"
   },
   {
    "duration": 0,
    "start_time": "2025-08-18T14:42:40.155Z"
   },
   {
    "duration": 0,
    "start_time": "2025-08-18T14:42:40.157Z"
   },
   {
    "duration": 0,
    "start_time": "2025-08-18T14:42:40.157Z"
   },
   {
    "duration": 0,
    "start_time": "2025-08-18T14:42:40.159Z"
   },
   {
    "duration": 0,
    "start_time": "2025-08-18T14:42:40.160Z"
   },
   {
    "duration": 0,
    "start_time": "2025-08-18T14:42:40.161Z"
   },
   {
    "duration": 0,
    "start_time": "2025-08-18T14:42:40.162Z"
   },
   {
    "duration": 0,
    "start_time": "2025-08-18T14:42:40.163Z"
   },
   {
    "duration": 0,
    "start_time": "2025-08-18T14:42:40.164Z"
   },
   {
    "duration": 0,
    "start_time": "2025-08-18T14:42:40.166Z"
   },
   {
    "duration": 0,
    "start_time": "2025-08-18T14:42:40.167Z"
   },
   {
    "duration": 0,
    "start_time": "2025-08-18T14:42:40.168Z"
   },
   {
    "duration": 0,
    "start_time": "2025-08-18T14:42:40.169Z"
   },
   {
    "duration": 0,
    "start_time": "2025-08-18T14:42:40.170Z"
   },
   {
    "duration": 0,
    "start_time": "2025-08-18T14:42:40.171Z"
   },
   {
    "duration": 0,
    "start_time": "2025-08-18T14:42:40.172Z"
   },
   {
    "duration": 0,
    "start_time": "2025-08-18T14:42:40.173Z"
   },
   {
    "duration": 0,
    "start_time": "2025-08-18T14:42:40.174Z"
   },
   {
    "duration": 0,
    "start_time": "2025-08-18T14:42:40.175Z"
   },
   {
    "duration": 0,
    "start_time": "2025-08-18T14:42:40.176Z"
   },
   {
    "duration": 0,
    "start_time": "2025-08-18T14:42:40.177Z"
   },
   {
    "duration": 0,
    "start_time": "2025-08-18T14:42:40.178Z"
   },
   {
    "duration": 0,
    "start_time": "2025-08-18T14:42:40.179Z"
   },
   {
    "duration": 0,
    "start_time": "2025-08-18T14:42:40.180Z"
   },
   {
    "duration": 30,
    "start_time": "2025-08-18T14:42:54.674Z"
   },
   {
    "duration": 1302,
    "start_time": "2025-08-18T14:42:58.142Z"
   },
   {
    "duration": 3,
    "start_time": "2025-08-18T14:42:59.446Z"
   },
   {
    "duration": 2243,
    "start_time": "2025-08-18T14:42:59.451Z"
   },
   {
    "duration": 14,
    "start_time": "2025-08-18T14:43:01.696Z"
   },
   {
    "duration": 83,
    "start_time": "2025-08-18T14:43:01.712Z"
   },
   {
    "duration": 64,
    "start_time": "2025-08-18T14:43:01.797Z"
   },
   {
    "duration": 29,
    "start_time": "2025-08-18T14:43:01.863Z"
   },
   {
    "duration": 42,
    "start_time": "2025-08-18T14:43:01.894Z"
   },
   {
    "duration": 103,
    "start_time": "2025-08-18T14:43:01.939Z"
   },
   {
    "duration": 9,
    "start_time": "2025-08-18T14:43:02.048Z"
   },
   {
    "duration": 28,
    "start_time": "2025-08-18T14:43:02.059Z"
   },
   {
    "duration": 35,
    "start_time": "2025-08-18T14:43:02.089Z"
   },
   {
    "duration": 51,
    "start_time": "2025-08-18T14:43:02.126Z"
   },
   {
    "duration": 9,
    "start_time": "2025-08-18T14:43:02.179Z"
   },
   {
    "duration": 49,
    "start_time": "2025-08-18T14:43:02.190Z"
   },
   {
    "duration": 9,
    "start_time": "2025-08-18T14:43:02.241Z"
   },
   {
    "duration": 48,
    "start_time": "2025-08-18T14:43:02.252Z"
   },
   {
    "duration": 187,
    "start_time": "2025-08-18T14:43:02.301Z"
   },
   {
    "duration": 24,
    "start_time": "2025-08-18T14:43:02.490Z"
   },
   {
    "duration": 80,
    "start_time": "2025-08-18T14:43:02.515Z"
   },
   {
    "duration": 4,
    "start_time": "2025-08-18T14:43:02.597Z"
   },
   {
    "duration": 23,
    "start_time": "2025-08-18T14:43:02.602Z"
   },
   {
    "duration": 90,
    "start_time": "2025-08-18T14:43:02.628Z"
   },
   {
    "duration": 32,
    "start_time": "2025-08-18T14:43:02.720Z"
   },
   {
    "duration": 76,
    "start_time": "2025-08-18T14:43:02.755Z"
   },
   {
    "duration": 202,
    "start_time": "2025-08-18T14:43:02.833Z"
   },
   {
    "duration": 77,
    "start_time": "2025-08-18T14:43:03.037Z"
   },
   {
    "duration": 175,
    "start_time": "2025-08-18T14:43:03.121Z"
   },
   {
    "duration": 101,
    "start_time": "2025-08-18T14:43:03.298Z"
   },
   {
    "duration": 288,
    "start_time": "2025-08-18T14:43:03.401Z"
   },
   {
    "duration": 189,
    "start_time": "2025-08-18T14:43:03.691Z"
   },
   {
    "duration": 49,
    "start_time": "2025-08-18T14:43:03.881Z"
   },
   {
    "duration": 48,
    "start_time": "2025-08-18T14:43:03.932Z"
   },
   {
    "duration": 30,
    "start_time": "2025-08-18T14:43:03.982Z"
   },
   {
    "duration": 56,
    "start_time": "2025-08-18T14:43:04.014Z"
   },
   {
    "duration": 24,
    "start_time": "2025-08-18T14:43:04.072Z"
   },
   {
    "duration": 105,
    "start_time": "2025-08-18T14:43:04.098Z"
   },
   {
    "duration": 118,
    "start_time": "2025-08-18T14:43:04.205Z"
   },
   {
    "duration": 28,
    "start_time": "2025-08-18T14:43:04.325Z"
   },
   {
    "duration": 41,
    "start_time": "2025-08-18T14:43:04.355Z"
   },
   {
    "duration": 64,
    "start_time": "2025-08-18T14:43:04.397Z"
   },
   {
    "duration": 18,
    "start_time": "2025-08-18T14:43:04.462Z"
   },
   {
    "duration": 21,
    "start_time": "2025-08-18T14:43:04.481Z"
   },
   {
    "duration": 28,
    "start_time": "2025-08-18T14:43:04.504Z"
   },
   {
    "duration": 173,
    "start_time": "2025-08-18T14:43:04.534Z"
   },
   {
    "duration": 43,
    "start_time": "2025-08-18T14:43:04.709Z"
   },
   {
    "duration": 30,
    "start_time": "2025-08-18T14:43:04.754Z"
   },
   {
    "duration": 42,
    "start_time": "2025-08-18T14:43:04.786Z"
   },
   {
    "duration": 125,
    "start_time": "2025-08-18T14:43:04.830Z"
   },
   {
    "duration": 5,
    "start_time": "2025-08-18T14:43:04.957Z"
   },
   {
    "duration": 28,
    "start_time": "2025-08-18T14:43:04.963Z"
   },
   {
    "duration": 17,
    "start_time": "2025-08-18T14:43:04.992Z"
   },
   {
    "duration": 462,
    "start_time": "2025-08-18T14:43:05.011Z"
   },
   {
    "duration": 439,
    "start_time": "2025-08-18T14:43:05.475Z"
   },
   {
    "duration": 9,
    "start_time": "2025-08-18T14:43:05.916Z"
   },
   {
    "duration": 752,
    "start_time": "2025-08-18T14:43:05.927Z"
   },
   {
    "duration": 27,
    "start_time": "2025-08-18T14:43:06.680Z"
   },
   {
    "duration": 62,
    "start_time": "2025-08-18T14:43:06.709Z"
   },
   {
    "duration": 46,
    "start_time": "2025-08-18T14:43:06.773Z"
   },
   {
    "duration": 28,
    "start_time": "2025-08-18T14:43:06.821Z"
   },
   {
    "duration": 69,
    "start_time": "2025-08-18T14:43:06.851Z"
   },
   {
    "duration": 287,
    "start_time": "2025-08-18T14:43:06.922Z"
   },
   {
    "duration": 17,
    "start_time": "2025-08-18T14:43:07.211Z"
   },
   {
    "duration": 91,
    "start_time": "2025-08-18T14:43:07.230Z"
   },
   {
    "duration": 45,
    "start_time": "2025-08-18T14:43:07.322Z"
   },
   {
    "duration": 377,
    "start_time": "2025-08-18T14:43:07.369Z"
   },
   {
    "duration": 244,
    "start_time": "2025-08-18T14:43:07.748Z"
   },
   {
    "duration": 362,
    "start_time": "2025-08-18T14:43:07.994Z"
   },
   {
    "duration": 9,
    "start_time": "2025-08-18T14:43:08.358Z"
   },
   {
    "duration": 86,
    "start_time": "2025-08-18T14:43:08.369Z"
   },
   {
    "duration": 54,
    "start_time": "2025-08-18T14:43:08.456Z"
   },
   {
    "duration": 17,
    "start_time": "2025-08-18T14:43:08.512Z"
   },
   {
    "duration": 11,
    "start_time": "2025-08-18T14:43:08.549Z"
   },
   {
    "duration": 45,
    "start_time": "2025-08-18T14:43:08.561Z"
   },
   {
    "duration": 10,
    "start_time": "2025-08-18T14:43:08.608Z"
   },
   {
    "duration": 60,
    "start_time": "2025-08-18T14:43:08.620Z"
   },
   {
    "duration": 44,
    "start_time": "2025-08-18T14:43:08.682Z"
   },
   {
    "duration": 71,
    "start_time": "2025-08-18T14:43:08.727Z"
   },
   {
    "duration": 108,
    "start_time": "2025-08-18T14:43:08.800Z"
   },
   {
    "duration": 25,
    "start_time": "2025-08-18T14:43:08.910Z"
   },
   {
    "duration": 168,
    "start_time": "2025-08-18T14:43:08.936Z"
   },
   {
    "duration": 295,
    "start_time": "2025-08-18T14:43:09.110Z"
   },
   {
    "duration": 10,
    "start_time": "2025-08-18T14:43:09.407Z"
   },
   {
    "duration": 1008,
    "start_time": "2025-08-18T14:43:09.419Z"
   },
   {
    "duration": 463,
    "start_time": "2025-08-18T14:43:10.428Z"
   },
   {
    "duration": 16,
    "start_time": "2025-08-18T14:43:10.893Z"
   },
   {
    "duration": 12,
    "start_time": "2025-08-18T14:43:10.911Z"
   },
   {
    "duration": 960,
    "start_time": "2025-08-18T14:43:10.925Z"
   },
   {
    "duration": 452,
    "start_time": "2025-08-18T14:43:11.887Z"
   },
   {
    "duration": 56,
    "start_time": "2025-08-18T14:43:12.341Z"
   },
   {
    "duration": 7,
    "start_time": "2025-08-18T14:43:12.399Z"
   },
   {
    "duration": 43,
    "start_time": "2025-08-18T14:43:12.408Z"
   },
   {
    "duration": 19,
    "start_time": "2025-08-18T14:43:12.452Z"
   },
   {
    "duration": 17,
    "start_time": "2025-08-18T14:43:12.473Z"
   },
   {
    "duration": 62,
    "start_time": "2025-08-18T14:43:12.492Z"
   },
   {
    "duration": 14,
    "start_time": "2025-08-18T14:43:12.555Z"
   },
   {
    "duration": 991,
    "start_time": "2025-08-18T14:43:12.571Z"
   },
   {
    "duration": 0,
    "start_time": "2025-08-18T14:43:13.564Z"
   },
   {
    "duration": 177,
    "start_time": "2025-08-18T14:45:15.269Z"
   },
   {
    "duration": 9,
    "start_time": "2025-08-18T14:45:54.475Z"
   },
   {
    "duration": 4,
    "start_time": "2025-08-18T14:46:16.938Z"
   },
   {
    "duration": 15986,
    "start_time": "2025-08-18T14:47:07.987Z"
   },
   {
    "duration": 3,
    "start_time": "2025-08-18T14:47:42.020Z"
   },
   {
    "duration": 3,
    "start_time": "2025-08-18T14:47:44.749Z"
   },
   {
    "duration": 776,
    "start_time": "2025-08-18T14:48:29.196Z"
   },
   {
    "duration": 849,
    "start_time": "2025-08-18T14:49:02.677Z"
   },
   {
    "duration": 894,
    "start_time": "2025-08-18T14:49:06.718Z"
   },
   {
    "duration": 750,
    "start_time": "2025-08-18T14:49:36.454Z"
   },
   {
    "duration": 0,
    "start_time": "2025-08-18T14:49:37.211Z"
   },
   {
    "duration": 0,
    "start_time": "2025-08-18T14:49:37.212Z"
   },
   {
    "duration": 0,
    "start_time": "2025-08-18T14:49:37.214Z"
   },
   {
    "duration": 0,
    "start_time": "2025-08-18T14:49:37.215Z"
   },
   {
    "duration": 0,
    "start_time": "2025-08-18T14:49:37.217Z"
   },
   {
    "duration": 0,
    "start_time": "2025-08-18T14:49:37.218Z"
   },
   {
    "duration": 0,
    "start_time": "2025-08-18T14:49:37.220Z"
   },
   {
    "duration": 0,
    "start_time": "2025-08-18T14:49:37.221Z"
   },
   {
    "duration": 0,
    "start_time": "2025-08-18T14:49:37.222Z"
   },
   {
    "duration": 0,
    "start_time": "2025-08-18T14:49:37.224Z"
   },
   {
    "duration": 0,
    "start_time": "2025-08-18T14:49:37.225Z"
   },
   {
    "duration": 0,
    "start_time": "2025-08-18T14:49:37.226Z"
   },
   {
    "duration": 0,
    "start_time": "2025-08-18T14:49:37.228Z"
   },
   {
    "duration": 0,
    "start_time": "2025-08-18T14:49:37.229Z"
   },
   {
    "duration": 0,
    "start_time": "2025-08-18T14:49:37.231Z"
   },
   {
    "duration": 0,
    "start_time": "2025-08-18T14:49:37.232Z"
   },
   {
    "duration": 0,
    "start_time": "2025-08-18T14:49:37.233Z"
   },
   {
    "duration": 0,
    "start_time": "2025-08-18T14:49:37.234Z"
   },
   {
    "duration": 0,
    "start_time": "2025-08-18T14:49:37.235Z"
   },
   {
    "duration": 0,
    "start_time": "2025-08-18T14:49:37.236Z"
   },
   {
    "duration": 0,
    "start_time": "2025-08-18T14:49:37.237Z"
   },
   {
    "duration": 0,
    "start_time": "2025-08-18T14:49:37.238Z"
   },
   {
    "duration": 0,
    "start_time": "2025-08-18T14:49:37.239Z"
   },
   {
    "duration": 0,
    "start_time": "2025-08-18T14:49:37.240Z"
   },
   {
    "duration": 0,
    "start_time": "2025-08-18T14:49:37.241Z"
   },
   {
    "duration": 0,
    "start_time": "2025-08-18T14:49:37.242Z"
   },
   {
    "duration": 0,
    "start_time": "2025-08-18T14:49:37.243Z"
   },
   {
    "duration": 0,
    "start_time": "2025-08-18T14:49:37.244Z"
   },
   {
    "duration": 0,
    "start_time": "2025-08-18T14:49:37.245Z"
   },
   {
    "duration": 0,
    "start_time": "2025-08-18T14:49:37.249Z"
   },
   {
    "duration": 0,
    "start_time": "2025-08-18T14:49:37.250Z"
   },
   {
    "duration": 0,
    "start_time": "2025-08-18T14:49:37.251Z"
   },
   {
    "duration": 0,
    "start_time": "2025-08-18T14:49:37.252Z"
   },
   {
    "duration": 0,
    "start_time": "2025-08-18T14:49:37.253Z"
   },
   {
    "duration": 0,
    "start_time": "2025-08-18T14:49:37.254Z"
   },
   {
    "duration": 0,
    "start_time": "2025-08-18T14:49:37.254Z"
   },
   {
    "duration": 0,
    "start_time": "2025-08-18T14:49:37.255Z"
   },
   {
    "duration": 0,
    "start_time": "2025-08-18T14:49:37.256Z"
   },
   {
    "duration": 0,
    "start_time": "2025-08-18T14:49:37.258Z"
   },
   {
    "duration": 0,
    "start_time": "2025-08-18T14:49:37.259Z"
   },
   {
    "duration": 0,
    "start_time": "2025-08-18T14:49:37.260Z"
   },
   {
    "duration": 0,
    "start_time": "2025-08-18T14:49:37.261Z"
   },
   {
    "duration": 0,
    "start_time": "2025-08-18T14:49:37.262Z"
   },
   {
    "duration": 0,
    "start_time": "2025-08-18T14:49:37.263Z"
   },
   {
    "duration": 0,
    "start_time": "2025-08-18T14:49:37.263Z"
   },
   {
    "duration": 0,
    "start_time": "2025-08-18T14:49:37.264Z"
   },
   {
    "duration": 0,
    "start_time": "2025-08-18T14:49:37.265Z"
   },
   {
    "duration": 0,
    "start_time": "2025-08-18T14:49:37.266Z"
   },
   {
    "duration": 0,
    "start_time": "2025-08-18T14:49:37.267Z"
   },
   {
    "duration": 0,
    "start_time": "2025-08-18T14:49:37.268Z"
   },
   {
    "duration": 0,
    "start_time": "2025-08-18T14:49:37.269Z"
   },
   {
    "duration": 0,
    "start_time": "2025-08-18T14:49:37.270Z"
   },
   {
    "duration": 0,
    "start_time": "2025-08-18T14:49:37.271Z"
   },
   {
    "duration": 0,
    "start_time": "2025-08-18T14:49:37.272Z"
   },
   {
    "duration": 0,
    "start_time": "2025-08-18T14:49:37.273Z"
   },
   {
    "duration": 0,
    "start_time": "2025-08-18T14:49:37.274Z"
   },
   {
    "duration": 0,
    "start_time": "2025-08-18T14:49:37.275Z"
   },
   {
    "duration": 0,
    "start_time": "2025-08-18T14:49:37.276Z"
   },
   {
    "duration": 0,
    "start_time": "2025-08-18T14:49:37.278Z"
   },
   {
    "duration": 1,
    "start_time": "2025-08-18T14:49:37.278Z"
   },
   {
    "duration": 0,
    "start_time": "2025-08-18T14:49:37.279Z"
   },
   {
    "duration": 0,
    "start_time": "2025-08-18T14:49:37.280Z"
   },
   {
    "duration": 0,
    "start_time": "2025-08-18T14:49:37.282Z"
   },
   {
    "duration": 0,
    "start_time": "2025-08-18T14:49:37.282Z"
   },
   {
    "duration": 0,
    "start_time": "2025-08-18T14:49:37.283Z"
   },
   {
    "duration": 0,
    "start_time": "2025-08-18T14:49:37.284Z"
   },
   {
    "duration": 0,
    "start_time": "2025-08-18T14:49:37.285Z"
   },
   {
    "duration": 0,
    "start_time": "2025-08-18T14:49:37.286Z"
   },
   {
    "duration": 0,
    "start_time": "2025-08-18T14:49:37.287Z"
   },
   {
    "duration": 0,
    "start_time": "2025-08-18T14:49:37.349Z"
   },
   {
    "duration": 0,
    "start_time": "2025-08-18T14:49:37.351Z"
   },
   {
    "duration": 0,
    "start_time": "2025-08-18T14:49:37.352Z"
   },
   {
    "duration": 0,
    "start_time": "2025-08-18T14:49:37.353Z"
   },
   {
    "duration": 0,
    "start_time": "2025-08-18T14:49:37.354Z"
   },
   {
    "duration": 0,
    "start_time": "2025-08-18T14:49:37.355Z"
   },
   {
    "duration": 0,
    "start_time": "2025-08-18T14:49:37.357Z"
   },
   {
    "duration": 0,
    "start_time": "2025-08-18T14:49:37.357Z"
   },
   {
    "duration": 0,
    "start_time": "2025-08-18T14:49:37.358Z"
   },
   {
    "duration": 0,
    "start_time": "2025-08-18T14:49:37.359Z"
   },
   {
    "duration": 0,
    "start_time": "2025-08-18T14:49:37.360Z"
   },
   {
    "duration": 0,
    "start_time": "2025-08-18T14:49:37.361Z"
   },
   {
    "duration": 0,
    "start_time": "2025-08-18T14:49:37.362Z"
   },
   {
    "duration": 0,
    "start_time": "2025-08-18T14:49:37.363Z"
   },
   {
    "duration": 0,
    "start_time": "2025-08-18T14:49:37.364Z"
   },
   {
    "duration": 0,
    "start_time": "2025-08-18T14:49:37.365Z"
   },
   {
    "duration": 0,
    "start_time": "2025-08-18T14:49:37.366Z"
   },
   {
    "duration": 0,
    "start_time": "2025-08-18T14:49:37.367Z"
   },
   {
    "duration": 0,
    "start_time": "2025-08-18T14:49:37.368Z"
   },
   {
    "duration": 0,
    "start_time": "2025-08-18T14:49:37.369Z"
   },
   {
    "duration": 0,
    "start_time": "2025-08-18T14:49:37.370Z"
   },
   {
    "duration": 0,
    "start_time": "2025-08-18T14:49:37.371Z"
   },
   {
    "duration": 0,
    "start_time": "2025-08-18T14:49:37.371Z"
   },
   {
    "duration": 0,
    "start_time": "2025-08-18T14:49:37.373Z"
   },
   {
    "duration": 0,
    "start_time": "2025-08-18T14:49:37.374Z"
   },
   {
    "duration": 0,
    "start_time": "2025-08-18T14:49:37.375Z"
   },
   {
    "duration": 0,
    "start_time": "2025-08-18T14:49:37.376Z"
   },
   {
    "duration": 674,
    "start_time": "2025-08-18T14:50:48.682Z"
   },
   {
    "duration": 0,
    "start_time": "2025-08-18T14:50:49.361Z"
   },
   {
    "duration": 0,
    "start_time": "2025-08-18T14:50:49.362Z"
   },
   {
    "duration": 0,
    "start_time": "2025-08-18T14:50:49.363Z"
   },
   {
    "duration": 0,
    "start_time": "2025-08-18T14:50:49.364Z"
   },
   {
    "duration": 0,
    "start_time": "2025-08-18T14:50:49.365Z"
   },
   {
    "duration": 0,
    "start_time": "2025-08-18T14:50:49.366Z"
   },
   {
    "duration": 0,
    "start_time": "2025-08-18T14:50:49.367Z"
   },
   {
    "duration": 0,
    "start_time": "2025-08-18T14:50:49.368Z"
   },
   {
    "duration": 0,
    "start_time": "2025-08-18T14:50:49.369Z"
   },
   {
    "duration": 0,
    "start_time": "2025-08-18T14:50:49.370Z"
   },
   {
    "duration": 0,
    "start_time": "2025-08-18T14:50:49.371Z"
   },
   {
    "duration": 0,
    "start_time": "2025-08-18T14:50:49.373Z"
   },
   {
    "duration": 0,
    "start_time": "2025-08-18T14:50:49.374Z"
   },
   {
    "duration": 0,
    "start_time": "2025-08-18T14:50:49.375Z"
   },
   {
    "duration": 0,
    "start_time": "2025-08-18T14:50:49.376Z"
   },
   {
    "duration": 0,
    "start_time": "2025-08-18T14:50:49.377Z"
   },
   {
    "duration": 0,
    "start_time": "2025-08-18T14:50:49.378Z"
   },
   {
    "duration": 0,
    "start_time": "2025-08-18T14:50:49.379Z"
   },
   {
    "duration": 0,
    "start_time": "2025-08-18T14:50:49.380Z"
   },
   {
    "duration": 0,
    "start_time": "2025-08-18T14:50:49.381Z"
   },
   {
    "duration": 0,
    "start_time": "2025-08-18T14:50:49.382Z"
   },
   {
    "duration": 0,
    "start_time": "2025-08-18T14:50:49.384Z"
   },
   {
    "duration": 0,
    "start_time": "2025-08-18T14:50:49.385Z"
   },
   {
    "duration": 0,
    "start_time": "2025-08-18T14:50:49.386Z"
   },
   {
    "duration": 0,
    "start_time": "2025-08-18T14:50:49.387Z"
   },
   {
    "duration": 0,
    "start_time": "2025-08-18T14:50:49.388Z"
   },
   {
    "duration": 0,
    "start_time": "2025-08-18T14:50:49.389Z"
   },
   {
    "duration": 0,
    "start_time": "2025-08-18T14:50:49.390Z"
   },
   {
    "duration": 0,
    "start_time": "2025-08-18T14:50:49.391Z"
   },
   {
    "duration": 0,
    "start_time": "2025-08-18T14:50:49.392Z"
   },
   {
    "duration": 0,
    "start_time": "2025-08-18T14:50:49.393Z"
   },
   {
    "duration": 0,
    "start_time": "2025-08-18T14:50:49.394Z"
   },
   {
    "duration": 0,
    "start_time": "2025-08-18T14:50:49.395Z"
   },
   {
    "duration": 0,
    "start_time": "2025-08-18T14:50:49.396Z"
   },
   {
    "duration": 0,
    "start_time": "2025-08-18T14:50:49.450Z"
   },
   {
    "duration": 0,
    "start_time": "2025-08-18T14:50:49.451Z"
   },
   {
    "duration": 0,
    "start_time": "2025-08-18T14:50:49.452Z"
   },
   {
    "duration": 0,
    "start_time": "2025-08-18T14:50:49.453Z"
   },
   {
    "duration": 0,
    "start_time": "2025-08-18T14:50:49.454Z"
   },
   {
    "duration": 0,
    "start_time": "2025-08-18T14:50:49.455Z"
   },
   {
    "duration": 0,
    "start_time": "2025-08-18T14:50:49.456Z"
   },
   {
    "duration": 0,
    "start_time": "2025-08-18T14:50:49.457Z"
   },
   {
    "duration": 0,
    "start_time": "2025-08-18T14:50:49.458Z"
   },
   {
    "duration": 0,
    "start_time": "2025-08-18T14:50:49.459Z"
   },
   {
    "duration": 0,
    "start_time": "2025-08-18T14:50:49.460Z"
   },
   {
    "duration": 0,
    "start_time": "2025-08-18T14:50:49.461Z"
   },
   {
    "duration": 0,
    "start_time": "2025-08-18T14:50:49.462Z"
   },
   {
    "duration": 0,
    "start_time": "2025-08-18T14:50:49.463Z"
   },
   {
    "duration": 0,
    "start_time": "2025-08-18T14:50:49.465Z"
   },
   {
    "duration": 0,
    "start_time": "2025-08-18T14:50:49.465Z"
   },
   {
    "duration": 0,
    "start_time": "2025-08-18T14:50:49.466Z"
   },
   {
    "duration": 0,
    "start_time": "2025-08-18T14:50:49.467Z"
   },
   {
    "duration": 0,
    "start_time": "2025-08-18T14:50:49.468Z"
   },
   {
    "duration": 0,
    "start_time": "2025-08-18T14:50:49.469Z"
   },
   {
    "duration": 0,
    "start_time": "2025-08-18T14:50:49.471Z"
   },
   {
    "duration": 0,
    "start_time": "2025-08-18T14:50:49.472Z"
   },
   {
    "duration": 0,
    "start_time": "2025-08-18T14:50:49.473Z"
   },
   {
    "duration": 0,
    "start_time": "2025-08-18T14:50:49.474Z"
   },
   {
    "duration": 0,
    "start_time": "2025-08-18T14:50:49.475Z"
   },
   {
    "duration": 0,
    "start_time": "2025-08-18T14:50:49.476Z"
   },
   {
    "duration": 0,
    "start_time": "2025-08-18T14:50:49.477Z"
   },
   {
    "duration": 0,
    "start_time": "2025-08-18T14:50:49.478Z"
   },
   {
    "duration": 0,
    "start_time": "2025-08-18T14:50:49.479Z"
   },
   {
    "duration": 0,
    "start_time": "2025-08-18T14:50:49.480Z"
   },
   {
    "duration": 0,
    "start_time": "2025-08-18T14:50:49.481Z"
   },
   {
    "duration": 0,
    "start_time": "2025-08-18T14:50:49.483Z"
   },
   {
    "duration": 0,
    "start_time": "2025-08-18T14:50:49.484Z"
   },
   {
    "duration": 0,
    "start_time": "2025-08-18T14:50:49.485Z"
   },
   {
    "duration": 0,
    "start_time": "2025-08-18T14:50:49.486Z"
   },
   {
    "duration": 0,
    "start_time": "2025-08-18T14:50:49.550Z"
   },
   {
    "duration": 0,
    "start_time": "2025-08-18T14:50:49.551Z"
   },
   {
    "duration": 0,
    "start_time": "2025-08-18T14:50:49.552Z"
   },
   {
    "duration": 0,
    "start_time": "2025-08-18T14:50:49.553Z"
   },
   {
    "duration": 0,
    "start_time": "2025-08-18T14:50:49.554Z"
   },
   {
    "duration": 0,
    "start_time": "2025-08-18T14:50:49.555Z"
   },
   {
    "duration": 0,
    "start_time": "2025-08-18T14:50:49.557Z"
   },
   {
    "duration": 0,
    "start_time": "2025-08-18T14:50:49.558Z"
   },
   {
    "duration": 0,
    "start_time": "2025-08-18T14:50:49.559Z"
   },
   {
    "duration": 0,
    "start_time": "2025-08-18T14:50:49.560Z"
   },
   {
    "duration": 0,
    "start_time": "2025-08-18T14:50:49.561Z"
   },
   {
    "duration": 0,
    "start_time": "2025-08-18T14:50:49.562Z"
   },
   {
    "duration": 0,
    "start_time": "2025-08-18T14:50:49.563Z"
   },
   {
    "duration": 0,
    "start_time": "2025-08-18T14:50:49.564Z"
   },
   {
    "duration": 0,
    "start_time": "2025-08-18T14:50:49.565Z"
   },
   {
    "duration": 0,
    "start_time": "2025-08-18T14:50:49.566Z"
   },
   {
    "duration": 0,
    "start_time": "2025-08-18T14:50:49.567Z"
   },
   {
    "duration": 0,
    "start_time": "2025-08-18T14:50:49.568Z"
   },
   {
    "duration": 0,
    "start_time": "2025-08-18T14:50:49.570Z"
   },
   {
    "duration": 0,
    "start_time": "2025-08-18T14:50:49.570Z"
   },
   {
    "duration": 0,
    "start_time": "2025-08-18T14:50:49.571Z"
   },
   {
    "duration": 0,
    "start_time": "2025-08-18T14:50:49.572Z"
   },
   {
    "duration": 0,
    "start_time": "2025-08-18T14:50:49.573Z"
   },
   {
    "duration": 0,
    "start_time": "2025-08-18T14:50:49.574Z"
   },
   {
    "duration": 0,
    "start_time": "2025-08-18T14:50:49.575Z"
   },
   {
    "duration": 0,
    "start_time": "2025-08-18T14:50:49.576Z"
   },
   {
    "duration": 0,
    "start_time": "2025-08-18T14:50:49.577Z"
   },
   {
    "duration": 16861,
    "start_time": "2025-08-18T14:51:51.971Z"
   },
   {
    "duration": 22,
    "start_time": "2025-08-18T14:53:48.717Z"
   },
   {
    "duration": 7,
    "start_time": "2025-08-18T14:53:49.699Z"
   },
   {
    "duration": 8,
    "start_time": "2025-08-18T14:53:51.795Z"
   },
   {
    "duration": 2596,
    "start_time": "2025-08-18T14:54:28.725Z"
   },
   {
    "duration": 10219,
    "start_time": "2025-08-18T14:54:43.511Z"
   },
   {
    "duration": 0,
    "start_time": "2025-08-18T14:54:53.735Z"
   },
   {
    "duration": 0,
    "start_time": "2025-08-18T14:54:53.736Z"
   },
   {
    "duration": 0,
    "start_time": "2025-08-18T14:54:53.737Z"
   },
   {
    "duration": 0,
    "start_time": "2025-08-18T14:54:53.738Z"
   },
   {
    "duration": 0,
    "start_time": "2025-08-18T14:54:53.739Z"
   },
   {
    "duration": 0,
    "start_time": "2025-08-18T14:54:53.749Z"
   },
   {
    "duration": 0,
    "start_time": "2025-08-18T14:54:53.750Z"
   },
   {
    "duration": 0,
    "start_time": "2025-08-18T14:54:53.752Z"
   },
   {
    "duration": 0,
    "start_time": "2025-08-18T14:54:53.754Z"
   },
   {
    "duration": 0,
    "start_time": "2025-08-18T14:54:53.755Z"
   },
   {
    "duration": 0,
    "start_time": "2025-08-18T14:54:53.757Z"
   },
   {
    "duration": 0,
    "start_time": "2025-08-18T14:54:53.758Z"
   },
   {
    "duration": 0,
    "start_time": "2025-08-18T14:54:53.760Z"
   },
   {
    "duration": 0,
    "start_time": "2025-08-18T14:54:53.761Z"
   },
   {
    "duration": 0,
    "start_time": "2025-08-18T14:54:53.763Z"
   },
   {
    "duration": 0,
    "start_time": "2025-08-18T14:54:53.764Z"
   },
   {
    "duration": 0,
    "start_time": "2025-08-18T14:54:53.766Z"
   },
   {
    "duration": 0,
    "start_time": "2025-08-18T14:54:53.767Z"
   },
   {
    "duration": 0,
    "start_time": "2025-08-18T14:54:53.769Z"
   },
   {
    "duration": 0,
    "start_time": "2025-08-18T14:54:53.770Z"
   },
   {
    "duration": 0,
    "start_time": "2025-08-18T14:54:53.772Z"
   },
   {
    "duration": 0,
    "start_time": "2025-08-18T14:54:53.773Z"
   },
   {
    "duration": 0,
    "start_time": "2025-08-18T14:54:53.775Z"
   },
   {
    "duration": 0,
    "start_time": "2025-08-18T14:54:53.776Z"
   },
   {
    "duration": 0,
    "start_time": "2025-08-18T14:54:53.778Z"
   },
   {
    "duration": 0,
    "start_time": "2025-08-18T14:54:53.779Z"
   },
   {
    "duration": 0,
    "start_time": "2025-08-18T14:54:53.781Z"
   },
   {
    "duration": 0,
    "start_time": "2025-08-18T14:54:53.782Z"
   },
   {
    "duration": 1,
    "start_time": "2025-08-18T14:54:53.783Z"
   },
   {
    "duration": 0,
    "start_time": "2025-08-18T14:54:53.785Z"
   },
   {
    "duration": 0,
    "start_time": "2025-08-18T14:54:53.786Z"
   },
   {
    "duration": 0,
    "start_time": "2025-08-18T14:54:53.788Z"
   },
   {
    "duration": 0,
    "start_time": "2025-08-18T14:54:53.850Z"
   },
   {
    "duration": 0,
    "start_time": "2025-08-18T14:54:53.852Z"
   },
   {
    "duration": 0,
    "start_time": "2025-08-18T14:54:53.853Z"
   },
   {
    "duration": 0,
    "start_time": "2025-08-18T14:54:53.855Z"
   },
   {
    "duration": 0,
    "start_time": "2025-08-18T14:54:53.856Z"
   },
   {
    "duration": 0,
    "start_time": "2025-08-18T14:54:53.858Z"
   },
   {
    "duration": 0,
    "start_time": "2025-08-18T14:54:53.860Z"
   },
   {
    "duration": 0,
    "start_time": "2025-08-18T14:54:53.861Z"
   },
   {
    "duration": 0,
    "start_time": "2025-08-18T14:54:53.863Z"
   },
   {
    "duration": 0,
    "start_time": "2025-08-18T14:54:53.864Z"
   },
   {
    "duration": 0,
    "start_time": "2025-08-18T14:54:53.866Z"
   },
   {
    "duration": 0,
    "start_time": "2025-08-18T14:54:53.867Z"
   },
   {
    "duration": 0,
    "start_time": "2025-08-18T14:54:53.869Z"
   },
   {
    "duration": 0,
    "start_time": "2025-08-18T14:54:53.870Z"
   },
   {
    "duration": 0,
    "start_time": "2025-08-18T14:54:53.872Z"
   },
   {
    "duration": 0,
    "start_time": "2025-08-18T14:54:53.873Z"
   },
   {
    "duration": 0,
    "start_time": "2025-08-18T14:54:53.875Z"
   },
   {
    "duration": 0,
    "start_time": "2025-08-18T14:54:53.876Z"
   },
   {
    "duration": 0,
    "start_time": "2025-08-18T14:54:53.877Z"
   },
   {
    "duration": 0,
    "start_time": "2025-08-18T14:54:53.878Z"
   },
   {
    "duration": 0,
    "start_time": "2025-08-18T14:54:53.880Z"
   },
   {
    "duration": 0,
    "start_time": "2025-08-18T14:54:53.881Z"
   },
   {
    "duration": 0,
    "start_time": "2025-08-18T14:54:53.882Z"
   },
   {
    "duration": 0,
    "start_time": "2025-08-18T14:54:53.883Z"
   },
   {
    "duration": 0,
    "start_time": "2025-08-18T14:54:53.884Z"
   },
   {
    "duration": 0,
    "start_time": "2025-08-18T14:54:53.885Z"
   },
   {
    "duration": 0,
    "start_time": "2025-08-18T14:54:53.886Z"
   },
   {
    "duration": 0,
    "start_time": "2025-08-18T14:54:53.887Z"
   },
   {
    "duration": 0,
    "start_time": "2025-08-18T14:54:53.949Z"
   },
   {
    "duration": 0,
    "start_time": "2025-08-18T14:54:53.950Z"
   },
   {
    "duration": 1,
    "start_time": "2025-08-18T14:54:53.951Z"
   },
   {
    "duration": 0,
    "start_time": "2025-08-18T14:54:53.953Z"
   },
   {
    "duration": 0,
    "start_time": "2025-08-18T14:54:53.954Z"
   },
   {
    "duration": 0,
    "start_time": "2025-08-18T14:54:53.955Z"
   },
   {
    "duration": 0,
    "start_time": "2025-08-18T14:54:53.956Z"
   },
   {
    "duration": 0,
    "start_time": "2025-08-18T14:54:53.957Z"
   },
   {
    "duration": 0,
    "start_time": "2025-08-18T14:54:53.958Z"
   },
   {
    "duration": 0,
    "start_time": "2025-08-18T14:54:53.959Z"
   },
   {
    "duration": 0,
    "start_time": "2025-08-18T14:54:53.960Z"
   },
   {
    "duration": 0,
    "start_time": "2025-08-18T14:54:53.962Z"
   },
   {
    "duration": 0,
    "start_time": "2025-08-18T14:54:53.963Z"
   },
   {
    "duration": 0,
    "start_time": "2025-08-18T14:54:53.971Z"
   },
   {
    "duration": 0,
    "start_time": "2025-08-18T14:54:53.972Z"
   },
   {
    "duration": 0,
    "start_time": "2025-08-18T14:54:53.973Z"
   },
   {
    "duration": 0,
    "start_time": "2025-08-18T14:54:53.975Z"
   },
   {
    "duration": 0,
    "start_time": "2025-08-18T14:54:53.975Z"
   },
   {
    "duration": 0,
    "start_time": "2025-08-18T14:54:53.977Z"
   },
   {
    "duration": 0,
    "start_time": "2025-08-18T14:54:53.978Z"
   },
   {
    "duration": 0,
    "start_time": "2025-08-18T14:54:53.979Z"
   },
   {
    "duration": 0,
    "start_time": "2025-08-18T14:54:53.980Z"
   },
   {
    "duration": 0,
    "start_time": "2025-08-18T14:54:53.981Z"
   },
   {
    "duration": 0,
    "start_time": "2025-08-18T14:54:53.982Z"
   },
   {
    "duration": 0,
    "start_time": "2025-08-18T14:54:53.984Z"
   },
   {
    "duration": 0,
    "start_time": "2025-08-18T14:54:53.985Z"
   },
   {
    "duration": 0,
    "start_time": "2025-08-18T14:54:53.986Z"
   },
   {
    "duration": 0,
    "start_time": "2025-08-18T14:54:53.987Z"
   },
   {
    "duration": 0,
    "start_time": "2025-08-18T14:54:53.988Z"
   },
   {
    "duration": 0,
    "start_time": "2025-08-18T14:54:53.990Z"
   },
   {
    "duration": 0,
    "start_time": "2025-08-18T14:54:53.991Z"
   },
   {
    "duration": 0,
    "start_time": "2025-08-18T14:54:54.049Z"
   },
   {
    "duration": 0,
    "start_time": "2025-08-18T14:54:54.051Z"
   },
   {
    "duration": 0,
    "start_time": "2025-08-18T14:54:54.052Z"
   },
   {
    "duration": 0,
    "start_time": "2025-08-18T14:54:54.053Z"
   },
   {
    "duration": 0,
    "start_time": "2025-08-18T14:54:54.054Z"
   },
   {
    "duration": 45,
    "start_time": "2025-08-18T19:29:14.132Z"
   },
   {
    "duration": 12069,
    "start_time": "2025-08-18T19:29:22.621Z"
   },
   {
    "duration": 66,
    "start_time": "2025-08-18T19:29:43.341Z"
   },
   {
    "duration": 9,
    "start_time": "2025-08-18T19:29:59.916Z"
   }
  ],
  "colab": {
   "provenance": []
  },
  "kernelspec": {
   "display_name": "Python 3 (ipykernel)",
   "language": "python",
   "name": "python3"
  },
  "language_info": {
   "codemirror_mode": {
    "name": "ipython",
    "version": 3
   },
   "file_extension": ".py",
   "mimetype": "text/x-python",
   "name": "python",
   "nbconvert_exporter": "python",
   "pygments_lexer": "ipython3",
   "version": "3.13.5"
  },
  "toc": {
   "base_numbering": "1",
   "nav_menu": {},
   "number_sections": true,
   "sideBar": true,
   "skip_h1_title": true,
   "title_cell": "Структура проекта",
   "title_sidebar": "Contents",
   "toc_cell": true,
   "toc_position": {},
   "toc_section_display": true,
   "toc_window_display": true
  }
 },
 "nbformat": 4,
 "nbformat_minor": 4
}
